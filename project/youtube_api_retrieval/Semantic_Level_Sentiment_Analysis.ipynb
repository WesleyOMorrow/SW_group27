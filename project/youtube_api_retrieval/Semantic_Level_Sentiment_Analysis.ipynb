{
  "nbformat": 4,
  "nbformat_minor": 0,
  "metadata": {
    "colab": {
      "name": "Semantic Level Sentiment Analysis.ipynb",
      "provenance": [],
      "collapsed_sections": [],
      "toc_visible": true
    },
    "kernelspec": {
      "display_name": "Python 3",
      "language": "python",
      "name": "python3"
    },
    "language_info": {
      "codemirror_mode": {
        "name": "ipython",
        "version": 3
      },
      "file_extension": ".py",
      "mimetype": "text/x-python",
      "name": "python",
      "nbconvert_exporter": "python",
      "pygments_lexer": "ipython3",
      "version": "3.6.9"
    }
  },
  "cells": [
    {
      "cell_type": "markdown",
      "source": [
        "# Read Me before running\n",
        "\n",
        "This notebook was developed on CoLab, if you want to run it, please upload folder *data* and this notebook to Google Drive."
      ],
      "metadata": {
        "id": "_y21Ihb1bt39"
      }
    },
    {
      "cell_type": "markdown",
      "source": [
        "## Load Sparknlp\n"
      ],
      "metadata": {
        "id": "i0VFY-n6dYBm"
      }
    },
    {
      "cell_type": "code",
      "metadata": {
        "id": "tyMMD_upEfIa",
        "outputId": "b9ca53ca-156e-4ed8-985a-f0dc99ffbd03",
        "colab": {
          "base_uri": "https://localhost:8080/"
        }
      },
      "source": [
        "!wget http://setup.johnsnowlabs.com/colab.sh -O - | bash"
      ],
      "execution_count": 2,
      "outputs": [
        {
          "output_type": "stream",
          "name": "stdout",
          "text": [
            "--2021-12-23 17:47:48--  http://setup.johnsnowlabs.com/colab.sh\n",
            "Resolving setup.johnsnowlabs.com (setup.johnsnowlabs.com)... 51.158.130.125\n",
            "Connecting to setup.johnsnowlabs.com (setup.johnsnowlabs.com)|51.158.130.125|:80... connected.\n",
            "HTTP request sent, awaiting response... 302 Found\n",
            "Location: https://setup.johnsnowlabs.com/colab.sh [following]\n",
            "--2021-12-23 17:47:49--  https://setup.johnsnowlabs.com/colab.sh\n",
            "Connecting to setup.johnsnowlabs.com (setup.johnsnowlabs.com)|51.158.130.125|:443... connected.\n",
            "HTTP request sent, awaiting response... 302 Moved Temporarily\n",
            "Location: https://raw.githubusercontent.com/JohnSnowLabs/spark-nlp/master/scripts/colab_setup.sh [following]\n",
            "--2021-12-23 17:47:49--  https://raw.githubusercontent.com/JohnSnowLabs/spark-nlp/master/scripts/colab_setup.sh\n",
            "Resolving raw.githubusercontent.com (raw.githubusercontent.com)... 185.199.108.133, 185.199.109.133, 185.199.110.133, ...\n",
            "Connecting to raw.githubusercontent.com (raw.githubusercontent.com)|185.199.108.133|:443... connected.\n",
            "HTTP request sent, awaiting response... 200 OK\n",
            "Length: 1275 (1.2K) [text/plain]\n",
            "Saving to: ‘STDOUT’\n",
            "\n",
            "-                     0%[                    ]       0  --.-KB/s               setup Colab for PySpark 3.0.3 and Spark NLP 3.3.4\n",
            "Installing PySpark 3.0.3 and Spark NLP 3.3.4\n",
            "-                   100%[===================>]   1.25K  --.-KB/s    in 0s      \n",
            "\n",
            "2021-12-23 17:47:49 (75.1 MB/s) - written to stdout [1275/1275]\n",
            "\n",
            "\u001b[K     |████████████████████████████████| 209.1 MB 57 kB/s \n",
            "\u001b[K     |████████████████████████████████| 133 kB 44.3 MB/s \n",
            "\u001b[K     |████████████████████████████████| 198 kB 51.3 MB/s \n",
            "\u001b[?25h  Building wheel for pyspark (setup.py) ... \u001b[?25l\u001b[?25hdone\n"
          ]
        }
      ]
    },
    {
      "cell_type": "code",
      "metadata": {
        "colab": {
          "base_uri": "https://localhost:8080/"
        },
        "id": "5in-TmzGEXdk",
        "outputId": "18a74c2f-0ab3-4016-bb19-0ffe35b5e063"
      },
      "source": [
        "import sparknlp\n",
        "from sparknlp.pretrained import PretrainedPipeline \n",
        "import time\n",
        "from pyspark.sql.types import FloatType, ArrayType, MapType, StringType, IntegerType\n",
        "from pyspark.ml.feature import VectorAssembler, MinMaxScaler, StandardScaler\n",
        "\n",
        "spark = sparknlp.start()\n",
        "\n",
        "print(\"Spark NLP version: {}\".format(sparknlp.version()))\n",
        "print(\"Apache Spark version: {}\".format(spark.version))"
      ],
      "execution_count": 3,
      "outputs": [
        {
          "output_type": "stream",
          "name": "stdout",
          "text": [
            "Spark NLP version: 3.3.4\n",
            "Apache Spark version: 3.0.3\n"
          ]
        }
      ]
    },
    {
      "cell_type": "code",
      "metadata": {
        "id": "Wt1KiTMFEXdp"
      },
      "source": [
        "#from sparknlp.pretrained import PretrainedPipeline "
      ],
      "execution_count": 44,
      "outputs": []
    },
    {
      "cell_type": "code",
      "metadata": {
        "colab": {
          "base_uri": "https://localhost:8080/"
        },
        "id": "n4ZXQDnlEXd-",
        "outputId": "13b73389-bc5c-4f9d-dd80-2bc59593c769"
      },
      "source": [
        "pipeline = PretrainedPipeline('analyze_sentimentdl_glove_imdb', 'en')"
      ],
      "execution_count": 3,
      "outputs": [
        {
          "output_type": "stream",
          "name": "stdout",
          "text": [
            "analyze_sentimentdl_glove_imdb download started this may take some time.\n",
            "Approx size to download 155.3 MB\n",
            "[OK!]\n"
          ]
        }
      ]
    },
    {
      "cell_type": "code",
      "metadata": {
        "id": "73O-w8IYEXeC"
      },
      "source": [
        "result = pipeline.annotate(\"Harry Potter is a great movie.\")"
      ],
      "execution_count": 4,
      "outputs": []
    },
    {
      "cell_type": "code",
      "metadata": {
        "colab": {
          "base_uri": "https://localhost:8080/"
        },
        "id": "joIUX2P4EXeJ",
        "outputId": "a010e9b1-2e37-4f91-ff78-72730044da84"
      },
      "source": [
        "print(result['sentiment'])"
      ],
      "execution_count": 5,
      "outputs": [
        {
          "output_type": "stream",
          "name": "stdout",
          "text": [
            "['pos']\n"
          ]
        }
      ]
    },
    {
      "cell_type": "code",
      "source": [
        "result"
      ],
      "metadata": {
        "colab": {
          "base_uri": "https://localhost:8080/"
        },
        "id": "U7mN3wv0Iwe5",
        "outputId": "afc40e3b-c76f-4750-e06b-3ec97335885f"
      },
      "execution_count": 6,
      "outputs": [
        {
          "output_type": "execute_result",
          "data": {
            "text/plain": [
              "{'document': ['Harry Potter is a great movie.'],\n",
              " 'sentence': ['Harry Potter is a great movie.'],\n",
              " 'sentence_embeddings': ['Harry Potter is a great movie.'],\n",
              " 'sentiment': ['pos'],\n",
              " 'tokens': ['Harry', 'Potter', 'is', 'a', 'great', 'movie', '.'],\n",
              " 'word_embeddings': ['Harry', 'Potter', 'is', 'a', 'great', 'movie', '.']}"
            ]
          },
          "metadata": {},
          "execution_count": 6
        }
      ]
    },
    {
      "cell_type": "code",
      "source": [
        "from google.colab import drive\n",
        "drive.mount('/content/drive')"
      ],
      "metadata": {
        "colab": {
          "base_uri": "https://localhost:8080/"
        },
        "id": "2N-YbRsIEnzs",
        "outputId": "5751e8e2-078f-44ec-8903-9f9dbd21db47"
      },
      "execution_count": 4,
      "outputs": [
        {
          "output_type": "stream",
          "name": "stdout",
          "text": [
            "Mounted at /content/drive\n"
          ]
        }
      ]
    },
    {
      "cell_type": "code",
      "source": [
        "!ls /content/drive/MyDrive/data"
      ],
      "metadata": {
        "colab": {
          "base_uri": "https://localhost:8080/"
        },
        "id": "aUwGGMMhIjX7",
        "outputId": "1d934fe2-e8aa-4649-a2d2-9891cc30a4df"
      },
      "execution_count": 5,
      "outputs": [
        {
          "output_type": "stream",
          "name": "stdout",
          "text": [
            "all_comments.csv  NRC.xlsx\n"
          ]
        }
      ]
    },
    {
      "cell_type": "markdown",
      "source": [
        "# Load data"
      ],
      "metadata": {
        "id": "bHogDOjOgD4l"
      }
    },
    {
      "cell_type": "code",
      "source": [
        "#import time\n",
        "#from pyspark.sql.types import FloatType, ArrayType, MapType, StringType, IntegerType\n",
        "from pyspark.sql.functions import udf\n",
        "\n",
        "df_comments = spark.read.option(\"header\",True).csv(\"/content/drive/MyDrive/data/all_comments.csv\")\n",
        "\n",
        "def date_transfer(date):\n",
        "    date = str(date)\n",
        "    date_now = date[:4] + \"-\"+ date[4:6] + \"-\" + date[6:8] \n",
        "    monthstart = date[:4] + \"-\"+ date[4:6] + \"-\" + \"01\" \n",
        "    monthmid = date[:4] + \"-\"+ date[4:6] + \"-\" + \"15\" \n",
        "    s_date_now = time.mktime(time.strptime(date_now, '%Y-%m-%d'))\n",
        "    s_monthstart = time.mktime(time.strptime(monthstart, '%Y-%m-%d'))\n",
        "    s_monthmid = time.mktime(time.strptime(monthmid, '%Y-%m-%d'))\n",
        "\n",
        "    if s_date_now - s_monthmid > 0:\n",
        "        return monthmid\n",
        "    elif s_date_now - s_monthmid <= 0:\n",
        "        return monthstart\n",
        "udf_date_transfer = udf(lambda z: date_transfer(z), StringType())\n",
        "\n",
        "df_comments = df_comments.withColumn(\"date1\", udf_date_transfer(df_comments.date)).drop(\"date\")\n",
        "\n",
        "df_comments.show()\n"
      ],
      "metadata": {
        "colab": {
          "base_uri": "https://localhost:8080/"
        },
        "id": "DhKrfeycIoep",
        "outputId": "4ebce87c-cd2e-465f-aa8f-c9346559212e"
      },
      "execution_count": 6,
      "outputs": [
        {
          "output_type": "stream",
          "name": "stdout",
          "text": [
            "+--------------------+----+----------+\n",
            "|                text|from|     date1|\n",
            "+--------------------+----+----------+\n",
            "|Think about it th...| SUN|2020-03-15|\n",
            "|&quot;Advice&quot...| SUN|2020-03-15|\n",
            "|He sounds like a ...| SUN|2020-03-15|\n",
            "|CANCEL COUNCIL TA...| SUN|2020-03-15|\n",
            "|Then please solve...| SUN|2020-03-15|\n",
            "|There&#39;s more ...| SUN|2020-03-15|\n",
            "|Within a week we’...| SUN|2020-03-15|\n",
            "|Over 70s, vulnera...| SUN|2020-03-15|\n",
            "|It&#39;s selfish ...| SUN|2020-03-15|\n",
            "|Boris needs to gr...| SUN|2020-03-15|\n",
            "|This by the way t...| SUN|2020-03-15|\n",
            "|I have anxiety so...| SUN|2020-03-15|\n",
            "|Financial aid for...| SUN|2020-03-15|\n",
            "|Nobody taking thi...| SUN|2020-03-15|\n",
            "|I’ve just had to ...| SUN|2020-03-15|\n",
            "|Don’t forget a fe...| SUN|2020-03-15|\n",
            "|Well force a lock...| SUN|2020-03-15|\n",
            "|Businesses can&#3...| SUN|2020-03-15|\n",
            "|Nobody is taking ...| SUN|2020-03-15|\n",
            "|Take the money fr...| SUN|2020-03-15|\n",
            "+--------------------+----+----------+\n",
            "only showing top 20 rows\n",
            "\n"
          ]
        }
      ]
    },
    {
      "cell_type": "markdown",
      "source": [
        "# Semantic Level Sentiment Analysis "
      ],
      "metadata": {
        "id": "NKmmJuLxgLhq"
      }
    },
    {
      "cell_type": "code",
      "source": [
        "def get_sentiment_p(text):\n",
        "    \n",
        "    if text[0][3] != 'neg':\n",
        "        return 1.0\n",
        "    else:\n",
        "        return 0.0\n",
        "\n",
        "def get_sentiment_n(text):\n",
        "    \n",
        "    if text[0][3] == 'neg':\n",
        "        return 1.0\n",
        "    else:\n",
        "        return 0.0\n",
        "\n",
        "\n",
        "udf_get_sentiment_p = udf(lambda z: get_sentiment_p(z), FloatType())\n",
        "udf_get_sentiment_n = udf(lambda z: get_sentiment_n(z), FloatType())\n",
        "\n",
        "all_comments  = df_comments\n",
        "pipeline = PretrainedPipeline('analyze_sentimentdl_glove_imdb', 'en')\n",
        "results = pipeline.transform(all_comments).select(\"from\",\"date1\",\"sentiment\")\n",
        "results = results.withColumn(\"pos\", udf_get_sentiment_p(results.sentiment)) \\\n",
        "                  .withColumn(\"neg\", udf_get_sentiment_n(results.sentiment)) \\\n",
        "                  .select(\"from\",\"date1\",\"pos\",\"neg\")\n",
        "\n",
        "results = results.groupBy('from','date1') \\\n",
        "                .agg({\"pos\":\"sum\",\"neg\":\"sum\"}) \\\n",
        "                .withColumnRenamed(\"sum(pos)\", \"pos\") \\\n",
        "                .withColumnRenamed(\"sum(neg)\", \"neg\") \n",
        "\n",
        "def Sentiment_score(x,y):\n",
        "    return x-y\n",
        "\n",
        "udf_Sentiment_score = udf(lambda x,y: Sentiment_score(x,y), FloatType())\n",
        "\n",
        "results = results.withColumn(\"score\", udf_Sentiment_score(results.pos, results.neg))\n",
        "\n",
        "results.show()"
      ],
      "metadata": {
        "colab": {
          "base_uri": "https://localhost:8080/"
        },
        "id": "67QAIaHGIrXY",
        "outputId": "965ac235-6a39-4979-91ae-49abfc60a253"
      },
      "execution_count": 7,
      "outputs": [
        {
          "output_type": "stream",
          "name": "stdout",
          "text": [
            "analyze_sentimentdl_glove_imdb download started this may take some time.\n",
            "Approx size to download 155.3 MB\n",
            "[OK!]\n",
            "+-----------+----------+----+----+-----+\n",
            "|       from|     date1| neg| pos|score|\n",
            "+-----------+----------+----+----+-----+\n",
            "|Independent|2021-01-01|20.0|20.0|  0.0|\n",
            "|   Guardian|2021-02-15|26.0|14.0|-12.0|\n",
            "|        BBC|2020-06-15|56.0|24.0|-32.0|\n",
            "|        SUN|2020-05-15|12.0| 8.0| -4.0|\n",
            "|  DailyMail|2021-02-01|13.0| 7.0| -6.0|\n",
            "|  DailyMail|2021-01-01|14.0| 6.0| -8.0|\n",
            "|Independent|2020-10-01|30.0|10.0|-20.0|\n",
            "|        BBC|2020-05-01|25.0|15.0|-10.0|\n",
            "|        BBC|2020-05-15|27.0|13.0|-14.0|\n",
            "|  DailyMail|2021-06-15|24.0|16.0| -8.0|\n",
            "|        BBC|2020-09-15|42.0|18.0|-24.0|\n",
            "|        BBC|2020-11-01|35.0|25.0|-10.0|\n",
            "|   Guardian|2020-12-15|55.0|44.0|-11.0|\n",
            "|   Guardian|2021-02-01|27.0|13.0|-14.0|\n",
            "|        BBC|2020-04-15|54.0|26.0|-28.0|\n",
            "|  DailyMail|2020-10-15|12.0| 7.0| -5.0|\n",
            "|        SUN|2020-06-15|39.0|21.0|-18.0|\n",
            "|Independent|2020-11-01|11.0| 9.0| -2.0|\n",
            "|Independent|2020-05-15|24.0|16.0| -8.0|\n",
            "|        SUN|2021-02-15|38.0|22.0|-16.0|\n",
            "+-----------+----------+----+----+-----+\n",
            "only showing top 20 rows\n",
            "\n"
          ]
        }
      ]
    },
    {
      "cell_type": "markdown",
      "source": [
        "## MinMaxScaler"
      ],
      "metadata": {
        "id": "6AcaSXSpsnfv"
      }
    },
    {
      "cell_type": "code",
      "source": [
        "def get_score(x):\n",
        "    return float(x)\n",
        "udf_get_score = udf(lambda z: get_score(z[0]), FloatType())\n",
        "\n",
        "all_scores = results\n",
        "#all_scores = all_scores.withColumn(\"neg_scaled1\", udf_get_score(all_scores.neg_scaled)) \\\n",
        "#                      .withColumn(\"pos_scaled1\", udf_get_score(all_scores.pos_scaled)) \\\n",
        "#                      .select(\"from\",\"date1\",\"neg_scaled1\",\"pos_scaled1\")\n",
        "\n",
        "#all_scores = all_scores.withColumn(\"score_scaled\", udf_get_score(all_scores.score_scaled)) \\\n",
        "#                        .select(\"from\",\"date1\",\"score_scaled\")\n",
        "\n",
        "def date_mk(date):\n",
        "    date = str(date)\n",
        "    return time.mktime(time.strptime(date, '%Y-%m-%d'))\n",
        "\n",
        "udf_date_mk = udf(lambda z: date_mk(z), FloatType())\n",
        "\n",
        "SUN_final = all_scores.filter(all_scores['from'] == 'SUN').withColumn(\"date_mk\", udf_date_mk(all_scores.date1)).sort('date_mk')\n",
        "BBC_final = all_scores.filter(all_scores['from'] == 'BBC').withColumn(\"date_mk\", udf_date_mk(all_scores.date1)).sort('date_mk')\n",
        "DailyMail_final = all_scores.filter(all_scores['from'] == 'DailyMail').withColumn(\"date_mk\", udf_date_mk(all_scores.date1)).sort('date_mk')\n",
        "Independent_final = all_scores.filter(all_scores['from'] == 'Independent').withColumn(\"date_mk\", udf_date_mk(all_scores.date1)).sort('date_mk')\n",
        "Guardian_final = all_scores.filter(all_scores['from'] == 'Guardian').withColumn(\"date_mk\", udf_date_mk(all_scores.date1)).sort('date_mk')\n",
        "\n",
        "SUN_final.show()\n",
        "BBC_final.show()\n",
        "DailyMail_final.show()\n",
        "Independent_final.show()\n",
        "Guardian_final.show()\n"
      ],
      "metadata": {
        "colab": {
          "base_uri": "https://localhost:8080/"
        },
        "id": "CpMUNkMDnIgk",
        "outputId": "46420a26-312a-42a2-b6b8-b01707d2a43e"
      },
      "execution_count": 8,
      "outputs": [
        {
          "output_type": "stream",
          "name": "stdout",
          "text": [
            "+----+----------+----+----+-----+-----------+\n",
            "|from|     date1| neg| pos|score|    date_mk|\n",
            "+----+----------+----+----+-----+-----------+\n",
            "| SUN|2020-03-15|48.0|32.0|-16.0|1.5842304E9|\n",
            "| SUN|2020-04-15|50.0|30.0|-20.0|1.5869088E9|\n",
            "| SUN|2020-05-01|36.0|24.0|-12.0|1.5882912E9|\n",
            "| SUN|2020-05-15|12.0| 8.0| -4.0|1.5895008E9|\n",
            "| SUN|2020-06-01|14.0| 6.0| -8.0|1.5909696E9|\n",
            "| SUN|2020-06-15|39.0|21.0|-18.0|1.5921792E9|\n",
            "| SUN|2020-09-01|17.0| 3.0|-14.0|1.5989184E9|\n",
            "| SUN|2020-09-15|42.0|18.0|-24.0| 1.600128E9|\n",
            "| SUN|2020-10-01|10.0|10.0|  0.0|1.6015104E9|\n",
            "| SUN|2020-10-15|38.0|22.0|-16.0|  1.60272E9|\n",
            "| SUN|2020-11-01|15.0| 5.0|-10.0|1.6041888E9|\n",
            "| SUN|2020-12-15|63.0|37.0|-26.0|1.6079904E9|\n",
            "| SUN|2021-01-01|30.0|10.0|-20.0|1.6094592E9|\n",
            "| SUN|2021-02-01|12.0| 8.0| -4.0|1.6121376E9|\n",
            "| SUN|2021-02-15|38.0|22.0|-16.0|1.6133472E9|\n",
            "| SUN|2021-03-01|15.0| 5.0|-10.0|1.6145568E9|\n",
            "| SUN|2021-06-01|27.0|13.0|-14.0|1.6225056E9|\n",
            "| SUN|2021-06-15|26.0|14.0|-12.0|1.6237152E9|\n",
            "+----+----------+----+----+-----+-----------+\n",
            "\n",
            "+----+----------+----+----+-----+-----------+\n",
            "|from|     date1| neg| pos|score|    date_mk|\n",
            "+----+----------+----+----+-----+-----------+\n",
            "| BBC|2020-03-15|21.0|39.0| 18.0|1.5842304E9|\n",
            "| BBC|2020-04-15|54.0|26.0|-28.0|1.5869088E9|\n",
            "| BBC|2020-05-01|25.0|15.0|-10.0|1.5882912E9|\n",
            "| BBC|2020-05-15|27.0|13.0|-14.0|1.5895008E9|\n",
            "| BBC|2020-06-15|56.0|24.0|-32.0|1.5921792E9|\n",
            "| BBC|2020-09-15|42.0|18.0|-24.0| 1.600128E9|\n",
            "| BBC|2020-10-01|41.0|19.0|-22.0|1.6015104E9|\n",
            "| BBC|2020-10-15|14.0| 6.0| -8.0|  1.60272E9|\n",
            "| BBC|2020-11-01|35.0|25.0|-10.0|1.6041888E9|\n",
            "| BBC|2020-12-01|14.0| 6.0| -8.0|1.6067808E9|\n",
            "| BBC|2020-12-15|65.0|35.0|-30.0|1.6079904E9|\n",
            "| BBC|2021-01-01|27.0|13.0|-14.0|1.6094592E9|\n",
            "| BBC|2021-02-01|25.0|15.0|-10.0|1.6121376E9|\n",
            "| BBC|2021-02-15|26.0|14.0|-12.0|1.6133472E9|\n",
            "| BBC|2021-03-01|24.0|16.0| -8.0|1.6145568E9|\n",
            "| BBC|2021-06-01|25.0|15.0|-10.0|1.6225056E9|\n",
            "| BBC|2021-06-15|25.0|15.0|-10.0|1.6237152E9|\n",
            "+----+----------+----+----+-----+-----------+\n",
            "\n",
            "+---------+----------+----+----+-----+-----------+\n",
            "|     from|     date1| neg| pos|score|    date_mk|\n",
            "+---------+----------+----+----+-----+-----------+\n",
            "|DailyMail|2020-06-01|28.0|12.0|-16.0|1.5909696E9|\n",
            "|DailyMail|2020-09-15|33.0| 7.0|-26.0| 1.600128E9|\n",
            "|DailyMail|2020-10-15|12.0| 7.0| -5.0|  1.60272E9|\n",
            "|DailyMail|2020-12-01|12.0| 7.0| -5.0|1.6067808E9|\n",
            "|DailyMail|2020-12-15|27.0|13.0|-14.0|1.6079904E9|\n",
            "|DailyMail|2021-01-01|14.0| 6.0| -8.0|1.6094592E9|\n",
            "|DailyMail|2021-02-01|13.0| 7.0| -6.0|1.6121376E9|\n",
            "|DailyMail|2021-02-15|28.0|12.0|-16.0|1.6133472E9|\n",
            "|DailyMail|2021-03-01|34.0| 6.0|-28.0|1.6145568E9|\n",
            "|DailyMail|2021-06-01|13.0| 7.0| -6.0|1.6225056E9|\n",
            "|DailyMail|2021-06-15|24.0|16.0| -8.0|1.6237152E9|\n",
            "+---------+----------+----+----+-----+-----------+\n",
            "\n",
            "+-----------+----------+----+----+-----+-----------+\n",
            "|       from|     date1| neg| pos|score|    date_mk|\n",
            "+-----------+----------+----+----+-----+-----------+\n",
            "|Independent|2020-03-01|15.0| 5.0|-10.0|1.5830208E9|\n",
            "|Independent|2020-03-15|27.0|13.0|-14.0|1.5842304E9|\n",
            "|Independent|2020-04-01| 2.0|18.0| 16.0|1.5856992E9|\n",
            "|Independent|2020-05-01|13.0| 7.0| -6.0|1.5882912E9|\n",
            "|Independent|2020-05-15|24.0|16.0| -8.0|1.5895008E9|\n",
            "|Independent|2020-06-01|27.0|13.0|-14.0|1.5909696E9|\n",
            "|Independent|2020-06-15|16.0| 4.0|-12.0|1.5921792E9|\n",
            "|Independent|2020-09-01|10.0|10.0|  0.0|1.5989184E9|\n",
            "|Independent|2020-09-15|28.0|12.0|-16.0| 1.600128E9|\n",
            "|Independent|2020-10-01|30.0|10.0|-20.0|1.6015104E9|\n",
            "|Independent|2020-10-15|26.0|14.0|-12.0|  1.60272E9|\n",
            "|Independent|2020-11-01|11.0| 9.0| -2.0|1.6041888E9|\n",
            "|Independent|2020-12-15|84.0|34.0|-50.0|1.6079904E9|\n",
            "|Independent|2021-01-01|20.0|20.0|  0.0|1.6094592E9|\n",
            "|Independent|2021-02-01|11.0| 9.0| -2.0|1.6121376E9|\n",
            "|Independent|2021-02-15|28.0|12.0|-16.0|1.6133472E9|\n",
            "|Independent|2021-06-01|38.0|22.0|-16.0|1.6225056E9|\n",
            "+-----------+----------+----+----+-----+-----------+\n",
            "\n",
            "+--------+----------+----+----+-----+-----------+\n",
            "|    from|     date1| neg| pos|score|    date_mk|\n",
            "+--------+----------+----+----+-----+-----------+\n",
            "|Guardian|2020-03-15|52.0|28.0|-24.0|1.5842304E9|\n",
            "|Guardian|2020-04-15|51.0|29.0|-22.0|1.5869088E9|\n",
            "|Guardian|2020-05-01|20.0|20.0|  0.0|1.5882912E9|\n",
            "|Guardian|2020-05-15|11.0| 9.0| -2.0|1.5895008E9|\n",
            "|Guardian|2020-06-15|21.0|19.0| -2.0|1.5921792E9|\n",
            "|Guardian|2020-09-15|56.0|24.0|-32.0| 1.600128E9|\n",
            "|Guardian|2020-10-01|13.0| 7.0| -6.0|1.6015104E9|\n",
            "|Guardian|2020-10-15|25.0|15.0|-10.0|  1.60272E9|\n",
            "|Guardian|2020-11-01|14.0| 6.0| -8.0|1.6041888E9|\n",
            "|Guardian|2020-12-15|55.0|44.0|-11.0|1.6079904E9|\n",
            "|Guardian|2021-01-01|17.0| 3.0|-14.0|1.6094592E9|\n",
            "|Guardian|2021-02-01|27.0|13.0|-14.0|1.6121376E9|\n",
            "|Guardian|2021-02-15|26.0|14.0|-12.0|1.6133472E9|\n",
            "|Guardian|2021-03-01|29.0|11.0|-18.0|1.6145568E9|\n",
            "|Guardian|2021-06-01|27.0|13.0|-14.0|1.6225056E9|\n",
            "|Guardian|2021-06-15|23.0|17.0| -6.0|1.6237152E9|\n",
            "+--------+----------+----+----+-----+-----------+\n",
            "\n"
          ]
        }
      ]
    },
    {
      "cell_type": "markdown",
      "source": [
        "# Visualization"
      ],
      "metadata": {
        "id": "T4a8eg0egucj"
      }
    },
    {
      "cell_type": "code",
      "source": [
        "all_media = [SUN_final,BBC_final,DailyMail_final,Independent_final,Guardian_final]\n",
        "\n",
        "overall_media = results.groupBy(\"from\").agg({\"pos\":\"sum\",\"neg\":\"sum\"}) \n",
        "\n",
        "overall_media.show()"
      ],
      "metadata": {
        "colab": {
          "base_uri": "https://localhost:8080/"
        },
        "id": "XKPz0F-ppMuJ",
        "outputId": "736e10be-059f-492a-959f-d6ad9460a270"
      },
      "execution_count": 9,
      "outputs": [
        {
          "output_type": "stream",
          "name": "stdout",
          "text": [
            "+-----------+--------+--------+\n",
            "|       from|sum(neg)|sum(pos)|\n",
            "+-----------+--------+--------+\n",
            "|  DailyMail|   238.0|   100.0|\n",
            "|   Guardian|   467.0|   272.0|\n",
            "|        SUN|   532.0|   288.0|\n",
            "|        BBC|   546.0|   314.0|\n",
            "|Independent|   410.0|   228.0|\n",
            "+-----------+--------+--------+\n",
            "\n"
          ]
        }
      ]
    },
    {
      "cell_type": "code",
      "source": [
        "import matplotlib.pyplot as plt\n",
        "import numpy as np\n",
        "\n",
        "fig = plt.figure()\n",
        "neg = np.array([238.0, 467.0, 532.0, 546.0, 410.0])\n",
        "pos = np.array([100.0, 272.0, 272.0, 314.0, 228.0])\n",
        "ax1 = plt.pie(neg,\n",
        "        labels=['DailyMail','Guardian','SUN','BBC',\"Independent\"], \n",
        "        autopct='%.2f%%',\n",
        "        #colors=[\"#d5695d\", \"#5d8ca8\", \"#65a479\", \"#a564c9\"], \n",
        "       )\n",
        "\n",
        "plt.title(\"Negative\") \n",
        "plt.show()\n",
        "\n",
        "ax1 = plt.pie(pos,\n",
        "        labels=['DailyMail','Guardian','SUN','BBC',\"Independent\"],\n",
        "        autopct='%.2f%%',\n",
        "        #colors=[\"#d5695d\", \"#5d8ca8\", \"#65a479\", \"#a564c9\"],\n",
        "       )\n",
        "\n",
        "plt.title(\"Positive\")\n",
        "plt.show()"
      ],
      "metadata": {
        "colab": {
          "base_uri": "https://localhost:8080/",
          "height": 511
        },
        "id": "9CanjRgQjOrQ",
        "outputId": "98e9d1c3-8edf-4766-ceee-bc0bdea8124b"
      },
      "execution_count": 10,
      "outputs": [
        {
          "output_type": "display_data",
          "data": {
            "image/png": "[encoded data removed]",
            "text/plain": [
              "<Figure size 432x288 with 1 Axes>"
            ]
          },
          "metadata": {}
        },
        {
          "output_type": "display_data",
          "data": {
            "image/png": "[encoded data removed]",
            "text/plain": [
              "<Figure size 432x288 with 1 Axes>"
            ]
          },
          "metadata": {}
        }
      ]
    },
    {
      "cell_type": "code",
      "source": [
        "def get_value(media_df,Sentiment):\n",
        "    Sentiment_list = media_df.select(Sentiment)\n",
        "    Sentiment_list = [float(row[Sentiment]) for row in Sentiment_list.collect()]\n",
        "    \n",
        "    return Sentiment_list\n",
        "\n",
        "def get_date(media_df):\n",
        "    date_mk_list = media_df.select('date_mk')\n",
        "    date_mk_list = [float(row['date_mk']) for row in date_mk_list.collect()]\n",
        "\n",
        "    return date_mk_list\n",
        "\n",
        "\n",
        "media_name = [\"The SUN\",\"BBC\",\"Daily Mail\",\"Independent\",\"Guardian\"]\n",
        "m = 0\n",
        "for media in all_media:\n",
        "\n",
        "    size = 5\n",
        "    total_width, n = 0.8, 2\n",
        "    width = total_width / n\n",
        "    x = list(range(len(get_value(media,'pos'))))\n",
        "\n",
        "\n",
        "    date = [time.strftime(\"%Y-%m-%d %H:%M:%S\",time.localtime(i))[:10] for i in get_date(media)]\n",
        "\n",
        "    plt.bar(x, get_value(media,'neg'),width=width, label='neg')\n",
        "    for i in range(len(x)):\n",
        "        x[i] = x[i] + width\n",
        "    plt.bar(x, get_value(media,'pos'),width=width, tick_label = date, label='pos')\n",
        "    \n",
        "    plt.title(media_name[m])\n",
        "    m = m+1\n",
        "    plt.xlabel('Date')\n",
        "    plt.ylabel('Sentiment Score')\n",
        "    plt.legend()\n",
        "    plt.xticks(rotation=70)\n",
        "    plt.show()"
      ],
      "metadata": {
        "colab": {
          "base_uri": "https://localhost:8080/",
          "height": 1000
        },
        "id": "yPzLh3ZPlpT7",
        "outputId": "87c9e119-4f1e-4c21-df79-f978e417f7df"
      },
      "execution_count": 11,
      "outputs": [
        {
          "output_type": "display_data",
          "data": {
            "image/png": "[encoded data removed]",
            "text/plain": [
              "<Figure size 432x288 with 1 Axes>"
            ]
          },
          "metadata": {
            "needs_background": "light"
          }
        },
        {
          "output_type": "display_data",
          "data": {
            "image/png": "[encoded data removed]",
            "text/plain": [
              "<Figure size 432x288 with 1 Axes>"
            ]
          },
          "metadata": {
            "needs_background": "light"
          }
        },
        {
          "output_type": "display_data",
          "data": {
            "image/png": "[encoded data removed]",
            "text/plain": [
              "<Figure size 432x288 with 1 Axes>"
            ]
          },
          "metadata": {
            "needs_background": "light"
          }
        },
        {
          "output_type": "display_data",
          "data": {
            "image/png": "[encoded data removed]",
            "text/plain": [
              "<Figure size 432x288 with 1 Axes>"
            ]
          },
          "metadata": {
            "needs_background": "light"
          }
        },
        {
          "output_type": "display_data",
          "data": {
            "image/png": "[encoded data removed]",
            "text/plain": [
              "<Figure size 432x288 with 1 Axes>"
            ]
          },
          "metadata": {
            "needs_background": "light"
          }
        }
      ]
    },
    {
      "cell_type": "code",
      "source": [
        ""
      ],
      "metadata": {
        "id": "ZEd-CLb_a8BE"
      },
      "execution_count": null,
      "outputs": []
    }
  ]
}