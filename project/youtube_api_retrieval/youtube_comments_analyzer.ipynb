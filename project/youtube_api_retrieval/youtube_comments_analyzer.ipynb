{
 "cells": [
  {
   "cell_type": "code",
   "execution_count": 2,
   "id": "343f3c5b",
   "metadata": {},
   "outputs": [],
   "source": [
    "from pyspark.sql import *\n",
    "from pyspark.sql.functions import *\n",
    "from pyspark.sql.session import SparkSession\n",
    "from pyspark.sql.types import *\n",
    "\n",
    "spark = SparkSession.builder.master(\"local[*]\").config(\"spark.executor.memory\", \"128g\").config(\"spark.executor.memory\", \"32g\").getOrCreate()"
   ]
  },
  {
   "cell_type": "code",
   "execution_count": 3,
   "id": "e9867b7c",
   "metadata": {},
   "outputs": [
    {
     "name": "stdout",
     "output_type": "stream",
     "text": [
      "+-----------+--------------------+-----+\n",
      "|        vid|                text|likes|\n",
      "+-----------+--------------------+-----+\n",
      "|HlEFrbLeDks|I&#39;m vaccine a...|    1|\n",
      "|HlEFrbLeDks|Hi from the futur...|    1|\n",
      "|HlEFrbLeDks|He will always be...|    0|\n",
      "|HlEFrbLeDks|I remember watchi...|    0|\n",
      "|HlEFrbLeDks|Introverts were l...|    4|\n",
      "|HlEFrbLeDks|         Good times.|    0|\n",
      "|HlEFrbLeDks|The beginning of ...|    3|\n",
      "|HlEFrbLeDks|This must never h...|    0|\n",
      "|HlEFrbLeDks|Watching this a y...|    2|\n",
      "|HlEFrbLeDks|One year on and I...|    0|\n",
      "|HlEFrbLeDks|I didnt mind stay...|    2|\n",
      "|HlEFrbLeDks|Tomorrow marks on...|    3|\n",
      "|HlEFrbLeDks|Can’t believe it’...|    7|\n",
      "|HlEFrbLeDks|This was the wors...|    1|\n",
      "|HlEFrbLeDks|here we are lockd...|    0|\n",
      "|HlEFrbLeDks|The day it all we...|    5|\n",
      "|HlEFrbLeDks|What happens if i...|    1|\n",
      "|HlEFrbLeDks|  This is soo COOOOL|    0|\n",
      "|HlEFrbLeDks|Interesting to re...|    2|\n",
      "|HlEFrbLeDks|9 months later an...|    1|\n",
      "+-----------+--------------------+-----+\n",
      "only showing top 20 rows\n",
      "\n"
     ]
    }
   ],
   "source": [
    "schema = StructType([\n",
    "    StructField(\"vid\", StringType(), True),\n",
    "    StructField(\"text\", StringType(), True),\n",
    "    StructField(\"likes\", IntegerType(), True),\n",
    "])\n",
    "\n",
    "df_comments_base = spark.read.schema(schema).format(\"csv\").option(\"header\",True).option(\"encoding\", \"utf-8\").load(\"./comments.csv\")\n",
    "df_comments_base.show()"
   ]
  },
  {
   "cell_type": "code",
   "execution_count": 4,
   "id": "79d71326",
   "metadata": {},
   "outputs": [
    {
     "name": "stdout",
     "output_type": "stream",
     "text": [
      "+-----------+--------------------+-----+----+\n",
      "|        vid|                text|likes|rank|\n",
      "+-----------+--------------------+-----+----+\n",
      "|LyiUHxD3S8s|Six brain cells i...|  156|   1|\n",
      "|LyiUHxD3S8s|It&#39;s not maki...|  135|   2|\n",
      "|LyiUHxD3S8s|The snitches shou...|   81|   3|\n",
      "|LyiUHxD3S8s|Soo everyone arou...|   78|   4|\n",
      "|LyiUHxD3S8s|If you are the so...|   76|   5|\n",
      "|LyiUHxD3S8s|making it up as w...|   71|   6|\n",
      "|LyiUHxD3S8s|Fake news<br>Gove...|   67|   7|\n",
      "|LyiUHxD3S8s|0.1% death rate o...|   47|   8|\n",
      "|LyiUHxD3S8s|It&#39;s simple, ...|   39|   9|\n",
      "|LyiUHxD3S8s|And Grouse shoote...|   31|  10|\n",
      "|LyiUHxD3S8s|&quot;People shou...|   26|  11|\n",
      "|LyiUHxD3S8s|Anyone noticed ho...|   25|  12|\n",
      "|LyiUHxD3S8s|There&#39;s six o...|   24|  13|\n",
      "|LyiUHxD3S8s|Bollocks to the g...|   23|  14|\n",
      "|LyiUHxD3S8s|Clearly &quot;The...|   18|  15|\n",
      "|LyiUHxD3S8s|make your voice h...|   15|  16|\n",
      "|LyiUHxD3S8s|Unless you&#39;re...|   13|  17|\n",
      "|LyiUHxD3S8s|Another power tri...|   13|  18|\n",
      "|LyiUHxD3S8s|I&#39;ve got a ch...|   13|  19|\n",
      "|LyiUHxD3S8s|Blackened tongues...|   12|  20|\n",
      "+-----------+--------------------+-----+----+\n",
      "only showing top 20 rows\n",
      "\n"
     ]
    }
   ],
   "source": [
    "df_comments_base = df_comments_base.filter(col(\"likes\") >= 0)\n",
    "df_comments_base = df_comments_base.withColumn(\"rank\", row_number().over(Window.partitionBy(col(\"vid\")).orderBy(desc(col(\"likes\"))))).filter(col(\"rank\") <= 20)\n",
    "df_comments_base.show()"
   ]
  },
  {
   "cell_type": "code",
   "execution_count": 5,
   "id": "306d9656",
   "metadata": {},
   "outputs": [
    {
     "name": "stdout",
     "output_type": "stream",
     "text": [
      "+-----------+--------+--------+\n",
      "|    videoId|    Date|    from|\n",
      "+-----------+--------+--------+\n",
      "|8bUCwmYcvzY|20200323|Guardian|\n",
      "|Ml-1hUISPj8|20200323|Guardian|\n",
      "|ZD4PYP6eayQ|20200324|Guardian|\n",
      "|x5XT8H5PLzQ|20200329|Guardian|\n",
      "|x2axKYqLXso|20200416|Guardian|\n",
      "|RVHKA3BKpBo|20200416|Guardian|\n",
      "|CCOnQAmbDNc|20200430|Guardian|\n",
      "|Y7hYnZnSliI|20200430|Guardian|\n",
      "|WRs-dC-gmVk|20200510|Guardian|\n",
      "|PPhf8LfrS_c|20200510|Guardian|\n",
      "|6jBur0Bu7L8|20200529|Guardian|\n",
      "|df41adre86A|20200623|Guardian|\n",
      "|0dBS5xEWlsI|20200623|Guardian|\n",
      "|RDY8W11ROgM|20200623|Guardian|\n",
      "|uqzggg3nooo|20200629|Guardian|\n",
      "|GS4nRFfM_Fs|20200922|Guardian|\n",
      "|u63SBuGqN6Y|20200922|Guardian|\n",
      "|weANMwwcLA8|20200930|Guardian|\n",
      "|yWAniPfrBDo|20200930|Guardian|\n",
      "|NCy7Q6Nr4_4|20201013|Guardian|\n",
      "+-----------+--------+--------+\n",
      "only showing top 20 rows\n",
      "\n"
     ]
    }
   ],
   "source": [
    "vschema = StructType([\n",
    "    StructField(\"index_label\", StringType(), True),\n",
    "    StructField(\"channelId\", StringType(), True),\n",
    "    StructField(\"channelTitle\", StringType(), True),\n",
    "    StructField(\"videoId\", StringType(), True),\n",
    "    StructField(\"videoTitle\", StringType(), True),\n",
    "    StructField(\"description\", StringType(), True),\n",
    "    StructField(\"link\", StringType(), True),\n",
    "    StructField(\"time\", StringType(), True),\n",
    "    StructField(\"year\", IntegerType(), True),\n",
    "    StructField(\"month\", IntegerType(), True),\n",
    "    StructField(\"day\", IntegerType(), True)\n",
    "])\n",
    "\n",
    "df_bbc = spark.read.schema(vschema).format(\"csv\").option(\"header\",True).option(\"encoding\", \"utf-8\").load(\"./final/BBC_videos_final.csv\")\n",
    "df_bbc = df_bbc.select(col(\"videoId\"), col(\"year\"), col(\"month\"), col(\"day\"))\n",
    "df_bbc = df_bbc.withColumn(\"Date\", col(\"year\") * 10000 + col(\"month\") * 100 + col(\"day\")).select(col(\"videoId\"), col(\"Date\")).withColumn(\"from\", lit(\"BBC\"))\n",
    "\n",
    "df_guardian = spark.read.schema(vschema).format(\"csv\").option(\"header\",True).option(\"encoding\", \"utf-8\").load(\"./final/Guardian_videos_final.csv\")\n",
    "df_guardian = df_guardian.filter(col(\"channelId\") != \"na\").select(col(\"videoId\"), col(\"year\"), col(\"month\"), col(\"day\")).filter(col(\"videoId\") != \"#NAME?\")\n",
    "df_guardian = df_guardian.withColumn(\"Date\", col(\"year\") * 10000 + col(\"month\") * 100 + col(\"day\")).select(col(\"videoId\"), col(\"Date\")).withColumn(\"from\", lit(\"Guardian\"))\n",
    "df_guardian.show()"
   ]
  },
  {
   "cell_type": "code",
   "execution_count": 6,
   "id": "e44f6ee8",
   "metadata": {},
   "outputs": [
    {
     "name": "stdout",
     "output_type": "stream",
     "text": [
      "+-----------+--------+----+\n",
      "|    videoId|    Date|from|\n",
      "+-----------+--------+----+\n",
      "|-Lfy5GcJkNk|20200320| SUN|\n",
      "|FqDo_QWoqtE|20200325| SUN|\n",
      "|Pu4GWu3cMec|20200325| SUN|\n",
      "|iM6onBpOPUE|20200326| SUN|\n",
      "|bYA3iTt0Shw|20200416| SUN|\n",
      "|Cr5A7Q_MruU|20200416| SUN|\n",
      "|8zGQMzs_ows|20200430| SUN|\n",
      "|DmeQSrTAXac|20200430| SUN|\n",
      "|TPAHsgwEvsU|20200510| SUN|\n",
      "|AMRYSm54SKk|20200510| SUN|\n",
      "|V1jqlU6pTE0|20200510| SUN|\n",
      "|IlLrVsnLkzc|20200528| SUN|\n",
      "|PMjTS-4WFLA|20200615| SUN|\n",
      "|wOgc9g9iNlY|20200623| SUN|\n",
      "|6LUxrhF1W38|20200629| SUN|\n",
      "|NNNznC7hdho|20200629| SUN|\n",
      "|TnHDev5qT-A|20200914| SUN|\n",
      "|PNDC-Llff9c|20200922| SUN|\n",
      "|Vufy881Y4kc|20200922| SUN|\n",
      "|SW5XYszDTPE|20200930| SUN|\n",
      "+-----------+--------+----+\n",
      "only showing top 20 rows\n",
      "\n"
     ]
    }
   ],
   "source": [
    "special_schema = StructType([\n",
    "    StructField(\"index_label\", StringType(), True),\n",
    "    StructField(\"channelId\", StringType(), True),\n",
    "    StructField(\"channelTitle\", StringType(), True),\n",
    "    StructField(\"videoId\", StringType(), True),\n",
    "    StructField(\"year\", IntegerType(), True),\n",
    "    StructField(\"month\", IntegerType(), True),\n",
    "    StructField(\"day\", IntegerType(), True),\n",
    "    StructField(\"videoTitle\", StringType(), True),\n",
    "    StructField(\"description\", StringType(), True),\n",
    "    StructField(\"link\", StringType(), True),\n",
    "    StructField(\"time\", StringType(), True),\n",
    "])\n",
    "df_dailymail = spark.read.schema(special_schema).format(\"csv\").option(\"header\",True).option(\"encoding\", \"utf-8\").load(\"./final/DailyMail_videos_final.csv\")\n",
    "df_dailymail = df_dailymail.filter(col(\"channelId\") != \"na\").select(col(\"videoId\"), col(\"year\"), col(\"month\"), col(\"day\")).filter(col(\"videoId\") != \"#NAME?\")\n",
    "df_dailymail = df_dailymail.withColumn(\"Date\", col(\"year\") * 10000 + col(\"month\") * 100 + col(\"day\")).select(col(\"videoId\"), col(\"Date\")).withColumn(\"from\", lit(\"DailyMail\"))\n",
    "\n",
    "df_independent = spark.read.schema(special_schema).format(\"csv\").option(\"header\",True).option(\"encoding\", \"utf-8\").load(\"./final/Independent_videos_final.csv\")\n",
    "df_independent = df_independent.filter(col(\"channelId\") != \"na\").select(col(\"videoId\"), col(\"year\"), col(\"month\"), col(\"day\")).filter(col(\"videoId\") != \"#NAME?\")\n",
    "df_independent = df_independent.withColumn(\"Date\", col(\"year\") * 10000 + col(\"month\") * 100 + col(\"day\")).select(col(\"videoId\"), col(\"Date\")).withColumn(\"from\", lit(\"Independent\"))\n",
    "\n",
    "df_sun = spark.read.schema(special_schema).format(\"csv\").option(\"header\",True).option(\"encoding\", \"utf-8\").load(\"./final/SUN_videos_final.csv\")\n",
    "df_sun = df_sun.filter(col(\"channelId\") != \"na\").select(col(\"videoId\"), col(\"year\"), col(\"month\"), col(\"day\")).filter(col(\"videoId\") != \"#NAME?\")\n",
    "df_sun = df_sun.withColumn(\"Date\", col(\"year\") * 10000 + col(\"month\") * 100 + col(\"day\")).select(col(\"videoId\"), col(\"Date\")).withColumn(\"from\", lit(\"SUN\"))\n",
    "df_sun.show()"
   ]
  },
  {
   "cell_type": "code",
   "execution_count": 7,
   "id": "74a0897c",
   "metadata": {},
   "outputs": [
    {
     "name": "stdout",
     "output_type": "stream",
     "text": [
      "+--------------------+--------+-----------+\n",
      "|                text|    date|       from|\n",
      "+--------------------+--------+-----------+\n",
      "|Six brain cells i...|20200914|Independent|\n",
      "|It&#39;s not maki...|20200914|Independent|\n",
      "|The snitches shou...|20200914|Independent|\n",
      "|Soo everyone arou...|20200914|Independent|\n",
      "|If you are the so...|20200914|Independent|\n",
      "|making it up as w...|20200914|Independent|\n",
      "|Fake news<br>Gove...|20200914|Independent|\n",
      "|0.1% death rate o...|20200914|Independent|\n",
      "|It&#39;s simple, ...|20200914|Independent|\n",
      "|And Grouse shoote...|20200914|Independent|\n",
      "|&quot;People shou...|20200914|Independent|\n",
      "|Anyone noticed ho...|20200914|Independent|\n",
      "|There&#39;s six o...|20200914|Independent|\n",
      "|Bollocks to the g...|20200914|Independent|\n",
      "|Clearly &quot;The...|20200914|Independent|\n",
      "|make your voice h...|20200914|Independent|\n",
      "|Unless you&#39;re...|20200914|Independent|\n",
      "|Another power tri...|20200914|Independent|\n",
      "|I&#39;ve got a ch...|20200914|Independent|\n",
      "|Blackened tongues...|20200914|Independent|\n",
      "+--------------------+--------+-----------+\n",
      "only showing top 20 rows\n",
      "\n"
     ]
    }
   ],
   "source": [
    "df_media = df_bbc.unionAll(df_guardian).unionAll(df_dailymail).unionAll(df_independent).unionAll(df_sun)\n",
    "df_comments = df_comments_base.join(df_media, on = (col(\"videoId\") == col(\"vid\"))).select(col(\"text\"), col(\"Date\").alias(\"date\"), col(\"from\"))\n",
    "df_comments.show()"
   ]
  },
  {
   "cell_type": "code",
   "execution_count": null,
   "id": "4753fd37",
   "metadata": {},
   "outputs": [],
   "source": []
  },
  {
   "cell_type": "code",
   "execution_count": null,
   "id": "c3e4ab18",
   "metadata": {},
   "outputs": [],
   "source": []
  },
  {
   "cell_type": "code",
   "execution_count": null,
   "id": "1e0f384c",
   "metadata": {},
   "outputs": [],
   "source": []
  }
 ],
 "metadata": {
  "kernelspec": {
   "display_name": "Python 3 (ipykernel)",
   "language": "python",
   "name": "python3"
  },
  "language_info": {
   "codemirror_mode": {
    "name": "ipython",
    "version": 3
   },
   "file_extension": ".py",
   "mimetype": "text/x-python",
   "name": "python",
   "nbconvert_exporter": "python",
   "pygments_lexer": "ipython3",
   "version": "3.8.10"
  }
 },
 "nbformat": 4,
 "nbformat_minor": 5
}
