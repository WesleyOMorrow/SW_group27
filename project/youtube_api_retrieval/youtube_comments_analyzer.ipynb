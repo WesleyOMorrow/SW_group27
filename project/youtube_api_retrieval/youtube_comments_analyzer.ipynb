{
 "cells": [
  {
   "cell_type": "code",
   "execution_count": 1,
   "id": "343f3c5b",
   "metadata": {},
   "outputs": [],
   "source": [
    "from pyspark.sql import *\n",
    "from pyspark.sql.functions import *\n",
    "from pyspark.sql.session import SparkSession\n",
    "from pyspark.sql.types import *\n",
    "\n",
    "spark = SparkSession.builder.getOrCreate()"
   ]
  },
  {
   "cell_type": "code",
   "execution_count": 8,
   "id": "e9867b7c",
   "metadata": {},
   "outputs": [],
   "source": [
    "schema = StructType([\n",
    "    StructField(\"vid\", StringType(), True),\n",
    "    StructField(\"text\", StringType(), True),\n",
    "    StructField(\"likes\", IntegerType(), True),\n",
    "])\n",
    "\n",
    "df = spark.read.schema(schema).format(\"csv\").option(\"header\",True).option(\"encoding\", \"gbk\").load(\"./xx/test.csv\")\n",
    "df = df.orderBy(desc(col(\"likes\")))"
   ]
  },
  {
   "cell_type": "code",
   "execution_count": 9,
   "id": "79d71326",
   "metadata": {},
   "outputs": [
    {
     "name": "stdout",
     "output_type": "stream",
     "text": [
      "+-----------+----------------------+-----+\n",
      "|        vid|                  text|likes|\n",
      "+-----------+----------------------+-----+\n",
      "|_4cXJKUunKk|  The way this pand...|  177|\n",
      "|_4cXJKUunKk|  Most care homes a...|  152|\n",
      "|_4cXJKUunKk|  the good news is ...|   98|\n",
      "|_4cXJKUunKk|  The virus is show...|   94|\n",
      "|_4cXJKUunKk|  This is unbelieva...|   70|\n",
      "|_4cXJKUunKk|  A second wave?<br...|   70|\n",
      "|_4cXJKUunKk|I鈥檓 a healthcare ...|   61|\n",
      "|_4cXJKUunKk|  \"Those of us who ...|   52|\n",
      "|_4cXJKUunKk|  We should look af...|   43|\n",
      "|_4cXJKUunKk|  Boris ignored the...|   36|\n",
      "|_4cXJKUunKk|  My condolences fo...|   29|\n",
      "|_4cXJKUunKk|  This is shameful....|   28|\n",
      "|_4cXJKUunKk|  The government ha...|   26|\n",
      "|_4cXJKUunKk|  get your parents ...|   25|\n",
      "|_4cXJKUunKk|  WTF where are all...|   21|\n",
      "|_4cXJKUunKk|  Jesus Christ! We ...|   20|\n",
      "|_4cXJKUunKk|  The Government be...|   20|\n",
      "|_4cXJKUunKk|  Remember folks, t...|   19|\n",
      "|_4cXJKUunKk|  oh I am crying RI...|   19|\n",
      "|_4cXJKUunKk| I feel so sorry 馃...|   18|\n",
      "+-----------+----------------------+-----+\n",
      "only showing top 20 rows\n",
      "\n"
     ]
    }
   ],
   "source": [
    "df.show()"
   ]
  },
  {
   "cell_type": "code",
   "execution_count": null,
   "id": "306d9656",
   "metadata": {},
   "outputs": [],
   "source": []
  },
  {
   "cell_type": "code",
   "execution_count": null,
   "id": "e44f6ee8",
   "metadata": {},
   "outputs": [],
   "source": []
  }
 ],
 "metadata": {
  "kernelspec": {
   "display_name": "Python 3 (ipykernel)",
   "language": "python",
   "name": "python3"
  },
  "language_info": {
   "codemirror_mode": {
    "name": "ipython",
    "version": 3
   },
   "file_extension": ".py",
   "mimetype": "text/x-python",
   "name": "python",
   "nbconvert_exporter": "python",
   "pygments_lexer": "ipython3",
   "version": "3.8.10"
  }
 },
 "nbformat": 4,
 "nbformat_minor": 5
}
