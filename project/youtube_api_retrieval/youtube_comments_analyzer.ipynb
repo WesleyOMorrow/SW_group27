{
 "cells": [
  {
   "cell_type": "markdown",
   "id": "25427205",
   "metadata": {},
   "source": [
    "# Data Cleaning and Toxic Comments detection."
   ]
  },
  {
   "cell_type": "markdown",
   "id": "bd34e43d",
   "metadata": {},
   "source": [
    "### Import essential packages"
   ]
  },
  {
   "cell_type": "code",
   "execution_count": 1,
   "id": "343f3c5b",
   "metadata": {},
   "outputs": [
    {
     "name": "stderr",
     "output_type": "stream",
     "text": [
      "21/12/22 18:00:02 WARN Utils: Your hostname, DESKTOP-HJJ1CNO resolves to a loopback address: 127.0.1.1; using 192.168.0.108 instead (on interface eth1)\n",
      "21/12/22 18:00:02 WARN Utils: Set SPARK_LOCAL_IP if you need to bind to another address\n"
     ]
    },
    {
     "name": "stdout",
     "output_type": "stream",
     "text": [
      ":: loading settings :: url = jar:file:/home/tony/.local/lib/python3.8/site-packages/pyspark/jars/ivy-2.4.0.jar!/org/apache/ivy/core/settings/ivysettings.xml\n"
     ]
    },
    {
     "name": "stderr",
     "output_type": "stream",
     "text": [
      "Ivy Default Cache set to: /home/tony/.ivy2/cache\n",
      "The jars for the packages stored in: /home/tony/.ivy2/jars\n",
      "com.johnsnowlabs.nlp#spark-nlp_2.12 added as a dependency\n",
      ":: resolving dependencies :: org.apache.spark#spark-submit-parent-35b70d6f-0281-4d00-a3a3-4183be743d23;1.0\n",
      "\tconfs: [default]\n",
      "\tfound com.johnsnowlabs.nlp#spark-nlp_2.12;3.3.4 in central\n",
      "\tfound com.typesafe#config;1.4.1 in central\n",
      "\tfound org.rocksdb#rocksdbjni;6.5.3 in central\n",
      "\tfound com.amazonaws#aws-java-sdk-bundle;1.11.603 in central\n",
      "\tfound com.github.universal-automata#liblevenshtein;3.0.0 in central\n",
      "\tfound com.google.code.findbugs#annotations;3.0.1 in central\n",
      "\tfound net.jcip#jcip-annotations;1.0 in central\n",
      "\tfound com.google.code.findbugs#jsr305;3.0.1 in central\n",
      "\tfound com.google.protobuf#protobuf-java-util;3.0.0-beta-3 in central\n",
      "\tfound com.google.protobuf#protobuf-java;3.0.0-beta-3 in central\n",
      "\tfound com.google.code.gson#gson;2.3 in central\n",
      "\tfound it.unimi.dsi#fastutil;7.0.12 in central\n",
      "\tfound org.projectlombok#lombok;1.16.8 in central\n",
      "\tfound org.slf4j#slf4j-api;1.7.21 in central\n",
      "\tfound com.navigamez#greex;1.0 in central\n",
      "\tfound dk.brics.automaton#automaton;1.11-8 in central\n",
      "\tfound org.json4s#json4s-ext_2.12;3.5.3 in central\n",
      "\tfound joda-time#joda-time;2.9.5 in central\n",
      "\tfound org.joda#joda-convert;1.8.1 in central\n",
      "\tfound com.johnsnowlabs.nlp#tensorflow-cpu_2.12;0.3.3 in central\n",
      "\tfound net.sf.trove4j#trove4j;3.0.3 in central\n",
      ":: resolution report :: resolve 578ms :: artifacts dl 89ms\n",
      "\t:: modules in use:\n",
      "\tcom.amazonaws#aws-java-sdk-bundle;1.11.603 from central in [default]\n",
      "\tcom.github.universal-automata#liblevenshtein;3.0.0 from central in [default]\n",
      "\tcom.google.code.findbugs#annotations;3.0.1 from central in [default]\n",
      "\tcom.google.code.findbugs#jsr305;3.0.1 from central in [default]\n",
      "\tcom.google.code.gson#gson;2.3 from central in [default]\n",
      "\tcom.google.protobuf#protobuf-java;3.0.0-beta-3 from central in [default]\n",
      "\tcom.google.protobuf#protobuf-java-util;3.0.0-beta-3 from central in [default]\n",
      "\tcom.johnsnowlabs.nlp#spark-nlp_2.12;3.3.4 from central in [default]\n",
      "\tcom.johnsnowlabs.nlp#tensorflow-cpu_2.12;0.3.3 from central in [default]\n",
      "\tcom.navigamez#greex;1.0 from central in [default]\n",
      "\tcom.typesafe#config;1.4.1 from central in [default]\n",
      "\tdk.brics.automaton#automaton;1.11-8 from central in [default]\n",
      "\tit.unimi.dsi#fastutil;7.0.12 from central in [default]\n",
      "\tjoda-time#joda-time;2.9.5 from central in [default]\n",
      "\tnet.jcip#jcip-annotations;1.0 from central in [default]\n",
      "\tnet.sf.trove4j#trove4j;3.0.3 from central in [default]\n",
      "\torg.joda#joda-convert;1.8.1 from central in [default]\n",
      "\torg.json4s#json4s-ext_2.12;3.5.3 from central in [default]\n",
      "\torg.projectlombok#lombok;1.16.8 from central in [default]\n",
      "\torg.rocksdb#rocksdbjni;6.5.3 from central in [default]\n",
      "\torg.slf4j#slf4j-api;1.7.21 from central in [default]\n",
      "\t---------------------------------------------------------------------\n",
      "\t|                  |            modules            ||   artifacts   |\n",
      "\t|       conf       | number| search|dwnlded|evicted|| number|dwnlded|\n",
      "\t---------------------------------------------------------------------\n",
      "\t|      default     |   21  |   0   |   0   |   0   ||   21  |   0   |\n",
      "\t---------------------------------------------------------------------\n",
      ":: retrieving :: org.apache.spark#spark-submit-parent-35b70d6f-0281-4d00-a3a3-4183be743d23\n",
      "\tconfs: [default]\n",
      "\t0 artifacts copied, 21 already retrieved (0kB/20ms)\n",
      "21/12/22 18:00:03 WARN NativeCodeLoader: Unable to load native-hadoop library for your platform... using builtin-java classes where applicable\n",
      "Using Spark's default log4j profile: org/apache/spark/log4j-defaults.properties\n",
      "Setting default log level to \"WARN\".\n",
      "To adjust logging level use sc.setLogLevel(newLevel). For SparkR, use setLogLevel(newLevel).\n"
     ]
    }
   ],
   "source": [
    "from pyspark.sql import *\n",
    "from pyspark.sql.functions import *\n",
    "from pyspark.sql.session import SparkSession\n",
    "from pyspark.sql.types import *\n",
    "\n",
    "import sparknlp\n",
    "from sparknlp.annotator import *\n",
    "from sparknlp.base import *\n",
    "from sparknlp.pretrained import PretrainedPipeline\n",
    "\n",
    "spark = SparkSession.builder\\\n",
    "    .master(\"local[*]\")\\\n",
    "    .config(\"spark.executor.memory\", \"128G\")\\\n",
    "    .config(\"spark.driver.memory\", \"32G\")\\\n",
    "    .config(\"spark.jars.packages\", \"com.johnsnowlabs.nlp:spark-nlp_2.12:3.3.4\")\\\n",
    "    .getOrCreate()\n"
   ]
  },
  {
   "cell_type": "markdown",
   "id": "52f31a7c",
   "metadata": {},
   "source": [
    "### Read csv data"
   ]
  },
  {
   "cell_type": "code",
   "execution_count": 2,
   "id": "e9867b7c",
   "metadata": {},
   "outputs": [
    {
     "name": "stdout",
     "output_type": "stream",
     "text": [
      "+-----------+--------------------+-----+\n",
      "|        vid|                text|likes|\n",
      "+-----------+--------------------+-----+\n",
      "|HlEFrbLeDks|I&#39;m vaccine a...|    1|\n",
      "|HlEFrbLeDks|Hi from the futur...|    1|\n",
      "|HlEFrbLeDks|He will always be...|    0|\n",
      "|HlEFrbLeDks|I remember watchi...|    0|\n",
      "|HlEFrbLeDks|Introverts were l...|    4|\n",
      "|HlEFrbLeDks|         Good times.|    0|\n",
      "|HlEFrbLeDks|The beginning of ...|    3|\n",
      "|HlEFrbLeDks|This must never h...|    0|\n",
      "|HlEFrbLeDks|Watching this a y...|    2|\n",
      "|HlEFrbLeDks|One year on and I...|    0|\n",
      "|HlEFrbLeDks|I didnt mind stay...|    2|\n",
      "|HlEFrbLeDks|Tomorrow marks on...|    3|\n",
      "|HlEFrbLeDks|Can’t believe it’...|    7|\n",
      "|HlEFrbLeDks|This was the wors...|    1|\n",
      "|HlEFrbLeDks|here we are lockd...|    0|\n",
      "|HlEFrbLeDks|The day it all we...|    5|\n",
      "|HlEFrbLeDks|What happens if i...|    1|\n",
      "|HlEFrbLeDks|  This is soo COOOOL|    0|\n",
      "|HlEFrbLeDks|Interesting to re...|    2|\n",
      "|HlEFrbLeDks|9 months later an...|    1|\n",
      "+-----------+--------------------+-----+\n",
      "only showing top 20 rows\n",
      "\n"
     ]
    }
   ],
   "source": [
    "schema = StructType([\n",
    "    StructField(\"vid\", StringType(), True),\n",
    "    StructField(\"text\", StringType(), True),\n",
    "    StructField(\"likes\", IntegerType(), True),\n",
    "])\n",
    "\n",
    "df_comments_base = spark.read.schema(schema).format(\"csv\").option(\"header\",True).option(\"encoding\", \"utf-8\").load(\"./comments.csv\")\n",
    "df_comments_base.show()"
   ]
  },
  {
   "cell_type": "markdown",
   "id": "54755b48",
   "metadata": {},
   "source": [
    "### Data cleaning and comments selection"
   ]
  },
  {
   "cell_type": "code",
   "execution_count": 3,
   "id": "79d71326",
   "metadata": {},
   "outputs": [
    {
     "name": "stderr",
     "output_type": "stream",
     "text": [
      "\r",
      "[Stage 1:============================================>              (3 + 1) / 4]\r"
     ]
    },
    {
     "name": "stdout",
     "output_type": "stream",
     "text": [
      "+-----------+--------------------+-----+----+\n",
      "|        vid|                text|likes|rank|\n",
      "+-----------+--------------------+-----+----+\n",
      "|LyiUHxD3S8s|Six brain cells i...|  156|   1|\n",
      "|LyiUHxD3S8s|It&#39;s not maki...|  135|   2|\n",
      "|LyiUHxD3S8s|The snitches shou...|   81|   3|\n",
      "|LyiUHxD3S8s|Soo everyone arou...|   78|   4|\n",
      "|LyiUHxD3S8s|If you are the so...|   76|   5|\n",
      "|LyiUHxD3S8s|making it up as w...|   71|   6|\n",
      "|LyiUHxD3S8s|Fake news<br>Gove...|   67|   7|\n",
      "|LyiUHxD3S8s|0.1% death rate o...|   47|   8|\n",
      "|LyiUHxD3S8s|It&#39;s simple, ...|   39|   9|\n",
      "|LyiUHxD3S8s|And Grouse shoote...|   31|  10|\n",
      "|LyiUHxD3S8s|&quot;People shou...|   26|  11|\n",
      "|LyiUHxD3S8s|Anyone noticed ho...|   25|  12|\n",
      "|LyiUHxD3S8s|There&#39;s six o...|   24|  13|\n",
      "|LyiUHxD3S8s|Bollocks to the g...|   23|  14|\n",
      "|LyiUHxD3S8s|Clearly &quot;The...|   18|  15|\n",
      "|LyiUHxD3S8s|make your voice h...|   15|  16|\n",
      "|LyiUHxD3S8s|Unless you&#39;re...|   13|  17|\n",
      "|LyiUHxD3S8s|Another power tri...|   13|  18|\n",
      "|LyiUHxD3S8s|I&#39;ve got a ch...|   13|  19|\n",
      "|LyiUHxD3S8s|Blackened tongues...|   12|  20|\n",
      "+-----------+--------------------+-----+----+\n",
      "only showing top 20 rows\n",
      "\n"
     ]
    },
    {
     "name": "stderr",
     "output_type": "stream",
     "text": [
      "\r",
      "                                                                                \r"
     ]
    }
   ],
   "source": [
    "df_comments = df_comments_base.filter(col(\"likes\") >= 0)\n",
    "df_comments = df_comments.withColumn(\"rank\", row_number().over(Window.partitionBy(col(\"vid\")).orderBy(desc(col(\"likes\"))))).filter(col(\"rank\") <= 20)\n",
    "df_comments.show()"
   ]
  },
  {
   "cell_type": "markdown",
   "id": "ecff82ab",
   "metadata": {},
   "source": [
    "### Read video data"
   ]
  },
  {
   "cell_type": "code",
   "execution_count": 4,
   "id": "306d9656",
   "metadata": {},
   "outputs": [
    {
     "name": "stdout",
     "output_type": "stream",
     "text": [
      "+-----------+--------+--------+\n",
      "|    videoId|    Date|    from|\n",
      "+-----------+--------+--------+\n",
      "|8bUCwmYcvzY|20200323|Guardian|\n",
      "|Ml-1hUISPj8|20200323|Guardian|\n",
      "|ZD4PYP6eayQ|20200324|Guardian|\n",
      "|x5XT8H5PLzQ|20200329|Guardian|\n",
      "|x2axKYqLXso|20200416|Guardian|\n",
      "|RVHKA3BKpBo|20200416|Guardian|\n",
      "|CCOnQAmbDNc|20200430|Guardian|\n",
      "|Y7hYnZnSliI|20200430|Guardian|\n",
      "|WRs-dC-gmVk|20200510|Guardian|\n",
      "|PPhf8LfrS_c|20200510|Guardian|\n",
      "|6jBur0Bu7L8|20200529|Guardian|\n",
      "|df41adre86A|20200623|Guardian|\n",
      "|0dBS5xEWlsI|20200623|Guardian|\n",
      "|RDY8W11ROgM|20200623|Guardian|\n",
      "|uqzggg3nooo|20200629|Guardian|\n",
      "|GS4nRFfM_Fs|20200922|Guardian|\n",
      "|u63SBuGqN6Y|20200922|Guardian|\n",
      "|weANMwwcLA8|20200930|Guardian|\n",
      "|yWAniPfrBDo|20200930|Guardian|\n",
      "|NCy7Q6Nr4_4|20201013|Guardian|\n",
      "+-----------+--------+--------+\n",
      "only showing top 20 rows\n",
      "\n"
     ]
    }
   ],
   "source": [
    "vschema = StructType([\n",
    "    StructField(\"index_label\", StringType(), True),\n",
    "    StructField(\"channelId\", StringType(), True),\n",
    "    StructField(\"channelTitle\", StringType(), True),\n",
    "    StructField(\"videoId\", StringType(), True),\n",
    "    StructField(\"videoTitle\", StringType(), True),\n",
    "    StructField(\"description\", StringType(), True),\n",
    "    StructField(\"link\", StringType(), True),\n",
    "    StructField(\"time\", StringType(), True),\n",
    "    StructField(\"year\", IntegerType(), True),\n",
    "    StructField(\"month\", IntegerType(), True),\n",
    "    StructField(\"day\", IntegerType(), True)\n",
    "])\n",
    "\n",
    "df_bbc = spark.read.schema(vschema).format(\"csv\").option(\"header\",True).option(\"encoding\", \"utf-8\").load(\"./final/BBC_videos_final.csv\")\n",
    "df_bbc = df_bbc.select(col(\"videoId\"), col(\"year\"), col(\"month\"), col(\"day\"))\n",
    "df_bbc = df_bbc.withColumn(\"Date\", col(\"year\") * 10000 + col(\"month\") * 100 + col(\"day\")).select(col(\"videoId\"), col(\"Date\")).withColumn(\"from\", lit(\"BBC\"))\n",
    "\n",
    "df_guardian = spark.read.schema(vschema).format(\"csv\").option(\"header\",True).option(\"encoding\", \"utf-8\").load(\"./final/Guardian_videos_final.csv\")\n",
    "df_guardian = df_guardian.filter(col(\"channelId\") != \"na\").select(col(\"videoId\"), col(\"year\"), col(\"month\"), col(\"day\")).filter(col(\"videoId\") != \"#NAME?\")\n",
    "df_guardian = df_guardian.withColumn(\"Date\", col(\"year\") * 10000 + col(\"month\") * 100 + col(\"day\")).select(col(\"videoId\"), col(\"Date\")).withColumn(\"from\", lit(\"Guardian\"))\n",
    "df_guardian.show()"
   ]
  },
  {
   "cell_type": "code",
   "execution_count": 5,
   "id": "e44f6ee8",
   "metadata": {},
   "outputs": [
    {
     "name": "stdout",
     "output_type": "stream",
     "text": [
      "+-----------+--------+----+\n",
      "|    videoId|    Date|from|\n",
      "+-----------+--------+----+\n",
      "|-Lfy5GcJkNk|20200320| SUN|\n",
      "|FqDo_QWoqtE|20200325| SUN|\n",
      "|Pu4GWu3cMec|20200325| SUN|\n",
      "|iM6onBpOPUE|20200326| SUN|\n",
      "|bYA3iTt0Shw|20200416| SUN|\n",
      "|Cr5A7Q_MruU|20200416| SUN|\n",
      "|8zGQMzs_ows|20200430| SUN|\n",
      "|DmeQSrTAXac|20200430| SUN|\n",
      "|TPAHsgwEvsU|20200510| SUN|\n",
      "|AMRYSm54SKk|20200510| SUN|\n",
      "|V1jqlU6pTE0|20200510| SUN|\n",
      "|IlLrVsnLkzc|20200528| SUN|\n",
      "|PMjTS-4WFLA|20200615| SUN|\n",
      "|wOgc9g9iNlY|20200623| SUN|\n",
      "|6LUxrhF1W38|20200629| SUN|\n",
      "|NNNznC7hdho|20200629| SUN|\n",
      "|TnHDev5qT-A|20200914| SUN|\n",
      "|PNDC-Llff9c|20200922| SUN|\n",
      "|Vufy881Y4kc|20200922| SUN|\n",
      "|SW5XYszDTPE|20200930| SUN|\n",
      "+-----------+--------+----+\n",
      "only showing top 20 rows\n",
      "\n"
     ]
    }
   ],
   "source": [
    "special_schema = StructType([\n",
    "    StructField(\"index_label\", StringType(), True),\n",
    "    StructField(\"channelId\", StringType(), True),\n",
    "    StructField(\"channelTitle\", StringType(), True),\n",
    "    StructField(\"videoId\", StringType(), True),\n",
    "    StructField(\"year\", IntegerType(), True),\n",
    "    StructField(\"month\", IntegerType(), True),\n",
    "    StructField(\"day\", IntegerType(), True),\n",
    "    StructField(\"videoTitle\", StringType(), True),\n",
    "    StructField(\"description\", StringType(), True),\n",
    "    StructField(\"link\", StringType(), True),\n",
    "    StructField(\"time\", StringType(), True),\n",
    "])\n",
    "df_dailymail = spark.read.schema(special_schema).format(\"csv\").option(\"header\",True).option(\"encoding\", \"utf-8\").load(\"./final/DailyMail_videos_final.csv\")\n",
    "df_dailymail = df_dailymail.filter(col(\"channelId\") != \"na\").select(col(\"videoId\"), col(\"year\"), col(\"month\"), col(\"day\")).filter(col(\"videoId\") != \"#NAME?\")\n",
    "df_dailymail = df_dailymail.withColumn(\"Date\", col(\"year\") * 10000 + col(\"month\") * 100 + col(\"day\")).select(col(\"videoId\"), col(\"Date\")).withColumn(\"from\", lit(\"DailyMail\"))\n",
    "\n",
    "df_independent = spark.read.schema(special_schema).format(\"csv\").option(\"header\",True).option(\"encoding\", \"utf-8\").load(\"./final/Independent_videos_final.csv\")\n",
    "df_independent = df_independent.filter(col(\"channelId\") != \"na\").select(col(\"videoId\"), col(\"year\"), col(\"month\"), col(\"day\")).filter(col(\"videoId\") != \"#NAME?\")\n",
    "df_independent = df_independent.withColumn(\"Date\", col(\"year\") * 10000 + col(\"month\") * 100 + col(\"day\")).select(col(\"videoId\"), col(\"Date\")).withColumn(\"from\", lit(\"Independent\"))\n",
    "\n",
    "df_sun = spark.read.schema(special_schema).format(\"csv\").option(\"header\",True).option(\"encoding\", \"utf-8\").load(\"./final/SUN_videos_final.csv\")\n",
    "df_sun = df_sun.filter(col(\"channelId\") != \"na\").select(col(\"videoId\"), col(\"year\"), col(\"month\"), col(\"day\")).filter(col(\"videoId\") != \"#NAME?\")\n",
    "df_sun = df_sun.withColumn(\"Date\", col(\"year\") * 10000 + col(\"month\") * 100 + col(\"day\")).select(col(\"videoId\"), col(\"Date\")).withColumn(\"from\", lit(\"SUN\"))\n",
    "df_sun.show()"
   ]
  },
  {
   "cell_type": "markdown",
   "id": "c255d891",
   "metadata": {},
   "source": [
    "### Connect comments and the video they belongs to"
   ]
  },
  {
   "cell_type": "code",
   "execution_count": 6,
   "id": "74a0897c",
   "metadata": {},
   "outputs": [
    {
     "name": "stdout",
     "output_type": "stream",
     "text": [
      "+--------------------+--------+-----------+\n",
      "|                text|    date|       from|\n",
      "+--------------------+--------+-----------+\n",
      "|Six brain cells i...|20200914|Independent|\n",
      "|It&#39;s not maki...|20200914|Independent|\n",
      "|The snitches shou...|20200914|Independent|\n",
      "|Soo everyone arou...|20200914|Independent|\n",
      "|If you are the so...|20200914|Independent|\n",
      "|making it up as w...|20200914|Independent|\n",
      "|Fake news<br>Gove...|20200914|Independent|\n",
      "|0.1% death rate o...|20200914|Independent|\n",
      "|It&#39;s simple, ...|20200914|Independent|\n",
      "|And Grouse shoote...|20200914|Independent|\n",
      "|&quot;People shou...|20200914|Independent|\n",
      "|Anyone noticed ho...|20200914|Independent|\n",
      "|There&#39;s six o...|20200914|Independent|\n",
      "|Bollocks to the g...|20200914|Independent|\n",
      "|Clearly &quot;The...|20200914|Independent|\n",
      "|make your voice h...|20200914|Independent|\n",
      "|Unless you&#39;re...|20200914|Independent|\n",
      "|Another power tri...|20200914|Independent|\n",
      "|I&#39;ve got a ch...|20200914|Independent|\n",
      "|Blackened tongues...|20200914|Independent|\n",
      "+--------------------+--------+-----------+\n",
      "only showing top 20 rows\n",
      "\n"
     ]
    },
    {
     "name": "stderr",
     "output_type": "stream",
     "text": [
      "\r",
      "[Stage 6:============================================>              (3 + 1) / 4]\r",
      "\r",
      "                                                                                \r"
     ]
    }
   ],
   "source": [
    "df_media = df_bbc.unionAll(df_guardian).unionAll(df_dailymail).unionAll(df_independent).unionAll(df_sun)\n",
    "df_comments = df_comments.join(df_media, on = (col(\"videoId\") == col(\"vid\"))).select(col(\"text\"), col(\"Date\").alias(\"date\"), col(\"from\"))\n",
    "df_comments.show()"
   ]
  },
  {
   "cell_type": "markdown",
   "id": "47ca3bcf",
   "metadata": {},
   "source": [
    "### Toxic comments detection pipeline"
   ]
  },
  {
   "cell_type": "code",
   "execution_count": 7,
   "id": "4753fd37",
   "metadata": {},
   "outputs": [
    {
     "name": "stdout",
     "output_type": "stream",
     "text": [
      "tfhub_use download started this may take some time.\n",
      "Approximate size to download 923.7 MB\n",
      "[ | ]tfhub_use download started this may take some time.\n",
      "Approximate size to download 923.7 MB\n",
      "Download done! Loading the resource.\n",
      "[ | ]"
     ]
    },
    {
     "name": "stderr",
     "output_type": "stream",
     "text": [
      "2021-12-22 18:00:32.109376: I external/org_tensorflow/tensorflow/core/platform/cpu_feature_guard.cc:142] This TensorFlow binary is optimized with oneAPI Deep Neural Network Library (oneDNN) to use the following CPU instructions in performance-critical operations:  AVX2 FMA\n",
      "To enable them in other operations, rebuild TensorFlow with the appropriate compiler flags.\n",
      "2021-12-22 18:00:32.331088: I external/org_tensorflow/tensorflow/core/platform/profile_utils/cpu_utils.cc:112] CPU Frequency: 3500000000 Hz\n"
     ]
    },
    {
     "name": "stdout",
     "output_type": "stream",
     "text": [
      "[OK!]\n",
      "multiclassifierdl_use_toxic download started this may take some time.\n",
      "Approximate size to download 11.6 MB\n",
      "[ | ]multiclassifierdl_use_toxic download started this may take some time.\n",
      "Approximate size to download 11.6 MB\n",
      "Download done! Loading the resource.\n",
      "[ / ]"
     ]
    },
    {
     "name": "stderr",
     "output_type": "stream",
     "text": [
      "\r",
      "[Stage 11:>                                                         (0 + 4) / 4]\r",
      "\r",
      "                                                                                \r"
     ]
    },
    {
     "name": "stdout",
     "output_type": "stream",
     "text": [
      "[OK!]\n"
     ]
    }
   ],
   "source": [
    "document = DocumentAssembler()\\\n",
    "    .setInputCol(\"text\")\\\n",
    "    .setOutputCol(\"document\")\n",
    "\n",
    "use = UniversalSentenceEncoder.pretrained()\\\n",
    "    .setInputCols([\"document\"])\\\n",
    "    .setOutputCol(\"use_embeddings\")\n",
    "\n",
    "docClassifier = MultiClassifierDLModel.pretrained(\"multiclassifierdl_use_toxic\")\\\n",
    "    .setInputCols([\"use_embeddings\"])\\\n",
    "    .setOutputCol(\"category\")\\\n",
    "    .setThreshold(0.5)\n",
    "\n",
    "pipeline = Pipeline(\n",
    "    stages = [\n",
    "        document,\n",
    "        use,\n",
    "        docClassifier\n",
    "])"
   ]
  },
  {
   "cell_type": "code",
   "execution_count": 8,
   "id": "c3e4ab18",
   "metadata": {},
   "outputs": [
    {
     "name": "stderr",
     "output_type": "stream",
     "text": [
      "\r",
      "[Stage 15:>                                                         (0 + 1) / 1]\r"
     ]
    },
    {
     "name": "stdout",
     "output_type": "stream",
     "text": [
      "+--------------------+--------+-----------+-------+\n",
      "|                text|    date|       from| result|\n",
      "+--------------------+--------+-----------+-------+\n",
      "|Six brain cells i...|20200914|Independent|[toxic]|\n",
      "|It&#39;s not maki...|20200914|Independent|     []|\n",
      "|The snitches shou...|20200914|Independent|     []|\n",
      "|Soo everyone arou...|20200914|Independent|     []|\n",
      "|If you are the so...|20200914|Independent|[toxic]|\n",
      "|making it up as w...|20200914|Independent|     []|\n",
      "|Fake news<br>Gove...|20200914|Independent|[toxic]|\n",
      "|0.1% death rate o...|20200914|Independent|     []|\n",
      "|It&#39;s simple, ...|20200914|Independent|     []|\n",
      "|And Grouse shoote...|20200914|Independent|     []|\n",
      "|&quot;People shou...|20200914|Independent|     []|\n",
      "|Anyone noticed ho...|20200914|Independent|     []|\n",
      "|There&#39;s six o...|20200914|Independent|     []|\n",
      "|Bollocks to the g...|20200914|Independent|     []|\n",
      "|Clearly &quot;The...|20200914|Independent|     []|\n",
      "|make your voice h...|20200914|Independent|     []|\n",
      "|Unless you&#39;re...|20200914|Independent|     []|\n",
      "|Another power tri...|20200914|Independent|     []|\n",
      "|I&#39;ve got a ch...|20200914|Independent|     []|\n",
      "|Blackened tongues...|20200914|Independent|     []|\n",
      "+--------------------+--------+-----------+-------+\n",
      "only showing top 20 rows\n",
      "\n"
     ]
    },
    {
     "name": "stderr",
     "output_type": "stream",
     "text": [
      "\r",
      "                                                                                \r"
     ]
    }
   ],
   "source": [
    "pipeline_model = pipeline.fit(spark.createDataFrame([[\"\"]]).toDF(\"text\"))\n",
    "df_toxic = pipeline_model.transform(df_comments)\n",
    "df_toxic = df_toxic.select(col(\"text\"), col(\"date\"), col(\"from\"), col(\"category.result\"))\n",
    "df_toxic.show()"
   ]
  },
  {
   "cell_type": "code",
   "execution_count": 9,
   "id": "1e0f384c",
   "metadata": {},
   "outputs": [],
   "source": [
    "def toxic(content):\n",
    "    if len(content) > 4:\n",
    "        print(content)\n",
    "    if len(content[3]) > 0:\n",
    "        return content\n",
    "    else:\n",
    "        return (content[0], content[1], content[2], None)\n"
   ]
  },
  {
   "cell_type": "code",
   "execution_count": 10,
   "id": "6647f1b7",
   "metadata": {},
   "outputs": [
    {
     "name": "stdout",
     "output_type": "stream",
     "text": [
      "root\n",
      " |-- text: string (nullable = true)\n",
      " |-- date: integer (nullable = true)\n",
      " |-- from: string (nullable = false)\n",
      " |-- result: array (nullable = true)\n",
      " |    |-- element: string (containsNull = true)\n",
      "\n"
     ]
    },
    {
     "name": "stderr",
     "output_type": "stream",
     "text": [
      "                                                                                \r"
     ]
    },
    {
     "name": "stdout",
     "output_type": "stream",
     "text": [
      "+--------------------+--------+-----------+-------+\n",
      "|                text|    date|       from| result|\n",
      "+--------------------+--------+-----------+-------+\n",
      "|Six brain cells i...|20200914|Independent|[toxic]|\n",
      "|It&#39;s not maki...|20200914|Independent|   null|\n",
      "|The snitches shou...|20200914|Independent|   null|\n",
      "|Soo everyone arou...|20200914|Independent|   null|\n",
      "|If you are the so...|20200914|Independent|[toxic]|\n",
      "|making it up as w...|20200914|Independent|   null|\n",
      "|Fake news<br>Gove...|20200914|Independent|[toxic]|\n",
      "|0.1% death rate o...|20200914|Independent|   null|\n",
      "|It&#39;s simple, ...|20200914|Independent|   null|\n",
      "|And Grouse shoote...|20200914|Independent|   null|\n",
      "|&quot;People shou...|20200914|Independent|   null|\n",
      "|Anyone noticed ho...|20200914|Independent|   null|\n",
      "|There&#39;s six o...|20200914|Independent|   null|\n",
      "|Bollocks to the g...|20200914|Independent|   null|\n",
      "|Clearly &quot;The...|20200914|Independent|   null|\n",
      "|make your voice h...|20200914|Independent|   null|\n",
      "|Unless you&#39;re...|20200914|Independent|   null|\n",
      "|Another power tri...|20200914|Independent|   null|\n",
      "|I&#39;ve got a ch...|20200914|Independent|   null|\n",
      "|Blackened tongues...|20200914|Independent|   null|\n",
      "+--------------------+--------+-----------+-------+\n",
      "only showing top 20 rows\n",
      "\n"
     ]
    }
   ],
   "source": [
    "df_toxic.printSchema()\n",
    "df_toxic_rdd = df_toxic.rdd.map(lambda x: toxic(x))\n",
    "df_toxic = df_toxic_rdd.toDF()\n",
    "df_toxic.show()"
   ]
  },
  {
   "cell_type": "markdown",
   "id": "1bbad3b7",
   "metadata": {},
   "source": [
    "### Count toxic comments number and calculate proportion"
   ]
  },
  {
   "cell_type": "code",
   "execution_count": 11,
   "id": "8731d851",
   "metadata": {
    "scrolled": false
   },
   "outputs": [
    {
     "name": "stderr",
     "output_type": "stream",
     "text": [
      "                                                                                \r"
     ]
    },
    {
     "name": "stdout",
     "output_type": "stream",
     "text": [
      "+-----------+---------+---------------+--------------------+\n",
      "|       from|hot_count|hot_toxic_count|      hot_toxic_rate|\n",
      "+-----------+---------+---------------+--------------------+\n",
      "|  DailyMail|      338|             13|0.038461538461538464|\n",
      "|   Guardian|      739|             24| 0.03247631935047361|\n",
      "|        SUN|      820|             36| 0.04390243902439024|\n",
      "|        BBC|      860|             40|0.046511627906976744|\n",
      "|Independent|      638|             35|   0.054858934169279|\n",
      "+-----------+---------+---------------+--------------------+\n",
      "\n"
     ]
    }
   ],
   "source": [
    "df_hot_comments_total = df_toxic.groupBy(\"from\").count().select(col(\"from\"), col(\"count\").alias(\"hot_count\"))\n",
    "df_hot_comments_toxic = df_toxic.filter(col(\"result\").isNotNull()).groupBy(\"from\").count().select(col(\"from\"), col(\"count\").alias(\"hot_toxic_count\"))\n",
    "df_hot_comments_toxic_ratio = df_hot_comments_total.join(df_hot_comments_toxic, on=(\"from\")).withColumn(\"hot_toxic_rate\", col(\"hot_toxic_count\") / col(\"hot_count\"))\n",
    "df_hot_comments_toxic_ratio.show()"
   ]
  },
  {
   "cell_type": "markdown",
   "id": "a650a200",
   "metadata": {},
   "source": [
    "### Visualization using matplotlib"
   ]
  },
  {
   "cell_type": "code",
   "execution_count": 12,
   "id": "6204830a",
   "metadata": {},
   "outputs": [],
   "source": [
    "from matplotlib import pyplot as plt"
   ]
  },
  {
   "cell_type": "code",
   "execution_count": 13,
   "id": "60d7d24a",
   "metadata": {},
   "outputs": [
    {
     "name": "stderr",
     "output_type": "stream",
     "text": [
      "[Stage 47:===============================>                     (117 + 65) / 200]\r"
     ]
    },
    {
     "name": "stdout",
     "output_type": "stream",
     "text": [
      "['DailyMail', 'Guardian', 'SUN', 'BBC', 'Independent']\n",
      "[3.8461538461538463, 3.247631935047361, 4.390243902439024, 4.651162790697675, 5.4858934169279]\n"
     ]
    },
    {
     "name": "stderr",
     "output_type": "stream",
     "text": [
      "\r",
      "[Stage 47:===================================================>  (191 + 9) / 200]\r",
      "\r",
      "                                                                                \r"
     ]
    }
   ],
   "source": [
    "media = df_hot_comments_toxic_ratio.select(col(\"from\").alias(\"from_media\")).collect()\n",
    "media_x = [row.from_media for row in media]\n",
    "hot_toxic_rate = df_hot_comments_toxic_ratio.select(col(\"hot_toxic_rate\")).collect()\n",
    "hot_toxic_rate_y = [row.hot_toxic_rate * 100 for row in hot_toxic_rate]\n",
    "print(media_x)\n",
    "print(hot_toxic_rate_y)"
   ]
  },
  {
   "cell_type": "code",
   "execution_count": 14,
   "id": "c1ef5239",
   "metadata": {},
   "outputs": [
    {
     "data": {
      "image/png": "[encoded data removed]",
      "text/plain": [
       "<Figure size 432x288 with 1 Axes>"
      ]
     },
     "metadata": {
      "needs_background": "light"
     },
     "output_type": "display_data"
    }
   ],
   "source": [
    "plt.bar(media_x, hot_toxic_rate_y, align=\"center\")\n",
    "plt.title(\"Toxic rate in hot comments\")\n",
    "plt.xlabel(\"Media\")\n",
    "plt.ylabel(\"Toxic rate (percentage)\")\n",
    "plt.show()"
   ]
  },
  {
   "cell_type": "code",
   "execution_count": null,
   "id": "e2bd3d24",
   "metadata": {},
   "outputs": [],
   "source": []
  },
  {
   "cell_type": "code",
   "execution_count": null,
   "id": "15f8efef",
   "metadata": {},
   "outputs": [],
   "source": []
  }
 ],
 "metadata": {
  "kernelspec": {
   "display_name": "Python 3 (ipykernel)",
   "language": "python",
   "name": "python3"
  },
  "language_info": {
   "codemirror_mode": {
    "name": "ipython",
    "version": 3
   },
   "file_extension": ".py",
   "mimetype": "text/x-python",
   "name": "python",
   "nbconvert_exporter": "python",
   "pygments_lexer": "ipython3",
   "version": "3.8.10"
  }
 },
 "nbformat": 4,
 "nbformat_minor": 5
}
