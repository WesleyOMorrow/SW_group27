{
 "cells": [
  {
   "cell_type": "markdown",
   "metadata": {
    "id": "dcMf4aubeMI9"
   },
   "source": [
    "*****************************************************************\n",
    "#  The Social Web: data representation\n",
    "- Instructors: Jacco van Ossenbruggen.\n",
    "- TAs: Ayesha Noorain, Alex Boyko, Caio Silva, Elena Beretta, Mirthe Dankloff.\n",
    "- Exercises for Hands-on session 2\n",
    "*****************************************************************"
   ]
  },
  {
   "cell_type": "markdown",
   "metadata": {
    "id": "Zhts5HMzeMI-"
   },
   "source": [
    "In this session you are going to mine data in various microformats. You will see the differences in what each of the formats can contain and what purpose they serve. We will start by looking at geographical data.\n",
    "\n",
    "Prerequisites:\n",
    "- Python 3.8\n",
    "- Python packages: requests, BeautifulSoup4, HTMLParser, rdflib\n"
   ]
  },
  {
   "cell_type": "code",
   "execution_count": null,
   "metadata": {
    "colab": {
     "base_uri": "https://localhost:8080/",
     "height": 204
    },
    "id": "6f-OtFPPeMJA",
    "outputId": "9bcb836f-4204-4fac-d133-99e81a0b2884"
   },
   "outputs": [],
   "source": [
    "# If you're using a virtualenv, make sure it's activated before running\n",
    "# this cell!\n",
    "!pip install requests\n",
    "!pip install BeautifulSoup4\n",
    "!pip install HTMLParser\n",
    "!pip install rdflib"
   ]
  },
  {
   "cell_type": "markdown",
   "metadata": {
    "id": "irPnmIK4eMJd"
   },
   "source": [
    "##  Exercise 1\n",
    "\n",
    "Even if web pages do not use microformat, interesting data can often be extracted from the HTML. You may use packages such as BeautifulSoup to extract arbitrary pieces of data from any HTML page.\n",
    "The example below shows how we can find the URL of first image in the infobox table of the wikipedia page on Amsterdam. Tip: compare the code below with HTML source code of the wikipedia page: the image url is in the \"src\" attribute of the \"img\" element of in the \"table\" element with class=\"infobox\"."
   ]
  },
  {
   "cell_type": "code",
   "execution_count": null,
   "metadata": {
    "colab": {
     "base_uri": "https://localhost:8080/",
     "height": 34
    },
    "id": "9gpHw90keMJf",
    "outputId": "7ae1fe64-8d85-4a47-cfdf-422284954d81"
   },
   "outputs": [],
   "source": [
    "# -*- coding: utf-8 -*-\n",
    "\n",
    "import requests\n",
    "from bs4 import BeautifulSoup\n",
    "\n",
    "# This script requires you to add a url of a page with geotags to the commandline, e.g.\n",
    "# python geo.py 'http://en.wikipedia.org/wiki/Amsterdam'\n",
    "URL = 'https://en.wikipedia.org/wiki/Amsterdam'\n",
    "\n",
    "req = requests.get(URL, headers={'User-Agent' : \"Social Web Course Student\"})\n",
    "soup = BeautifulSoup(req.text)\n",
    "# print(req.text)\n",
    "image1 = soup.findAll('table', class_='infobox')[0].find('img')\n",
    "print(image1['src'])  \n"
   ]
  },
  {
   "cell_type": "markdown",
   "metadata": {},
   "source": [
    "Extracting coordinates from a webpage and reformatting them in the geo microformat (based on Example 8-1 in Mining the Social Web). Note that wikipages may encode long/lat information in different ways. On of the ways used by the Amsterdam wikipedia page is in a span element that is not shown to the user: \n",
    "<span class=\"geo\">52.367; 4.900</span>\n",
    "This span element has a single child: len(geoTag == 1) and no further structure, we have to manually get the long/lat by splitting the string on the ';' semicolon."
   ]
  },
  {
   "cell_type": "code",
   "execution_count": null,
   "metadata": {
    "colab": {
     "base_uri": "https://localhost:8080/",
     "height": 34
    },
    "id": "LtHtQT9PeMJl",
    "outputId": "8a7f7b52-cdb2-409f-b3f0-ee7adf60a9f7"
   },
   "outputs": [],
   "source": [
    "\n",
    "geoTag = soup.find(True, 'geo')\n",
    "print(geoTag)\n",
    "\n",
    "if geoTag and len(geoTag) > 1:\n",
    "        lat = geoTag.find(True, 'latitude').string\n",
    "        lon = geoTag.find(True, 'longitude').string\n",
    "        print ('Location is at'), lat, lon\n",
    "elif geoTag and len(geoTag) == 1:\n",
    "        (lat, lon) = geoTag.string.split(';')\n",
    "        (lat, lon) = (lat.strip(), lon.strip())\n",
    "        print (('Location is at'), lat, lon)\n",
    "else:\n",
    "        print ('Location not found')\n"
   ]
  },
  {
   "cell_type": "markdown",
   "metadata": {
    "id": "8S_bXnjveMJp"
   },
   "source": [
    "### Task 1\n",
    "\n",
    "Can you convert the output of Exercise 1 into KML? Here is the KML documentation: https://developers.google.com/kml/documentation/?csw=1 and here you can find a simple example of how it is used: https://renenyffenegger.ch/notes/tools/Google-Earth/kml/index\n",
    "\n",
    "Visualise the point in Google Maps using the following code example: https://developers.google.com/maps/documentation/javascript/examples/layer-kml-features\n",
    "You will have to create your own KML file for the custom map layer, and provide a URL to the KML file inside the JavaScript code, which means that you have to upload the file somewhere. You can use a service like http://pastebin.com/ to obtain a URL for your KML file —> paste the code there and request the RAW format URL; use this one in this Task1.\n",
    "\n",
    "Is KML a microformat, why (not)?\n",
    "\n",
    "In my opinion, KML is a microformat, because microformats are defined as \"a set of simple, open data formats built upon existing and widely adopted standards\" by Dan Cederholm, and KML is a format used to display geographic information by explorers such as Google Earth, Google Map, etc. Also, KML qualifies the standard of XML (by KML documentation), a widely used format, so I think it is an instance of microformat."
   ]
  },
  {
   "cell_type": "markdown",
   "metadata": {
    "id": "kUnka7EyeMJp"
   },
   "source": [
    "## Exercise 2 \n",
    "In order to find information in the web we can use microformats such as [hRecipe](https://microformats.org/wiki/hrecipe) or Schema.org's [Recipe](https://schema.org/Recipe). But first, we'll show you how to find arbitrary tags in a webpage.\n"
   ]
  },
  {
   "cell_type": "markdown",
   "metadata": {
    "id": "b0pBs-PVeMJq"
   },
   "source": [
    "### Task 2 \n",
    "Parsing data for a <sub><sup>veggie</sup></sub> spaghetti alla carbonara recipe (from Example 2-7 in Mining the Social Web)."
   ]
  },
  {
   "cell_type": "code",
   "execution_count": null,
   "metadata": {
    "id": "mt9BK_CZeMJr"
   },
   "outputs": [],
   "source": [
    "import requests\n",
    "import json\n",
    "from bs4 import BeautifulSoup\n",
    "\n",
    "# A yummy webpage (feel free to change to your likings.)\n",
    "URL = \"https://www.acouplecooks.com/spring-vegetarian-spaghetti-carbonara/\"\n",
    "\n",
    "# requests will return the html found at the given webpage...\n",
    "page = requests.get(URL)\n",
    "# ...and a BeautifulSoup object can be created from its content.\n",
    "soup = BeautifulSoup(page.content, 'html.parser')\n",
    "\n",
    "listchildren = list(soup.children)\n",
    "# print(listchildren)"
   ]
  },
  {
   "cell_type": "markdown",
   "metadata": {
    "id": "IhdMwqykeMJt"
   },
   "source": [
    "We can find any element in the page through *css tag selectors*\n",
    "You can find them all [here](https://www.w3schools.com/cssref/css_selectors.asp), but shortly these are \".\" for classes, # for ids and plain text for the element name.\n",
    "\n",
    "\n",
    "You can also combine them, so that looking for \".class1.class2\" would select all elements displaying both classes. For a deeper overview please check the above link (or google \"html tag selectors\"). "
   ]
  },
  {
   "cell_type": "code",
   "execution_count": null,
   "metadata": {
    "colab": {
     "base_uri": "https://localhost:8080/",
     "height": 71
    },
    "id": "PBaiK8OLeMJu",
    "outputId": "5b75f973-41c1-4ad4-fd9f-4f1f7665ba1d"
   },
   "outputs": [],
   "source": [
    "print(len(listchildren)) # we can see here how many children the html doc has got.\n",
    "ingredients_unparsed = soup.select_one(\".tasty-recipes-ingredients\")\n",
    "# let's get all the \"list item\" elements in a list:\n",
    "ing_unp = ingredients_unparsed.findAll('li')\n",
    "print(ing_unp)"
   ]
  },
  {
   "cell_type": "markdown",
   "metadata": {
    "id": "tFXVPZhIeMJw"
   },
   "source": [
    "Mmmh... not so pretty yet. How about listing their items using the text method?"
   ]
  },
  {
   "cell_type": "code",
   "execution_count": null,
   "metadata": {
    "colab": {
     "base_uri": "https://localhost:8080/",
     "height": 204
    },
    "id": "xASBZsnMeMJx",
    "outputId": "7af0f6e9-3b4f-4f34-e444-794087d06e25"
   },
   "outputs": [],
   "source": [
    "\n",
    "ingredients = [t.text for t in ing_unp]\n",
    "print(\"Ingredients:\\n\")\n",
    "# [print(i) for i in ingredients]  # Also prints the generator\n",
    "# Instead\n",
    "for ing in ingredients:\n",
    "    print(ing)"
   ]
  },
  {
   "cell_type": "markdown",
   "metadata": {
    "id": "O-RItVHyeMJz"
   },
   "source": [
    "Good. Now the instructions:"
   ]
  },
  {
   "cell_type": "code",
   "execution_count": null,
   "metadata": {
    "colab": {
     "base_uri": "https://localhost:8080/",
     "height": 54
    },
    "id": "d-3Op4B6eMJ0",
    "outputId": "75a70f0c-86d3-4be9-d2d8-84df91c4f392"
   },
   "outputs": [],
   "source": [
    "instructions_unparsed = soup.select_one(\".tasty-recipes-instructions\")\n",
    "instructions_unparsed = instructions_unparsed.findAll(\"li\")\n",
    "print(instructions_unparsed)"
   ]
  },
  {
   "cell_type": "markdown",
   "metadata": {
    "id": "wPWXuglfeMJ2"
   },
   "source": [
    "Let's finish off with the title:"
   ]
  },
  {
   "cell_type": "code",
   "execution_count": null,
   "metadata": {
    "colab": {
     "base_uri": "https://localhost:8080/",
     "height": 35
    },
    "id": "yg1TnWe2eMJ3",
    "outputId": "05d39a2e-3779-45f1-ddeb-9c6d2ae5f494"
   },
   "outputs": [],
   "source": [
    "title_unparsed = soup.select_one(\".post-header\") # \n",
    "categorical_title = title_unparsed.text.split(\"›\") # website specific divider.\n",
    "recipe_title = categorical_title[-1].strip() # let's remove that ugly space at the beginning.\n",
    "recipe_title"
   ]
  },
  {
   "cell_type": "markdown",
   "metadata": {
    "id": "RYb6WtXYeMJ6"
   },
   "source": [
    "## Task 2.1\n",
    "Now it's your turn. Create a function that can scrape any recipe webpage from the same website (other websites will have different class tags). \n",
    "\n",
    "Make sure to:\n",
    "\n",
    "- return itemized content (e.g. ingredients) in a list. You may want to use a list comprehension here.\n",
    "- Not all items have been cleaned of their html markdown (see variables ```ingredients``` vs. ```instructions_unparsed```. Make sure to return a list with human readable content (i.e. by using the ```.text``` attribute).\n"
   ]
  },
  {
   "cell_type": "code",
   "execution_count": null,
   "metadata": {
    "colab": {
     "base_uri": "https://localhost:8080/",
     "height": 54
    },
    "id": "UQu9ecLEeMJ6",
    "outputId": "a8aa0e14-a8fb-4279-cf32-8dca97ab3412"
   },
   "outputs": [],
   "source": [
    "# -*- coding: utf-8 -*-\n",
    "\n",
    "import requests\n",
    "import json\n",
    "from bs4 import BeautifulSoup\n",
    "\n",
    "# Pass in a URL containing hRecipe, such as\n",
    "# https://www.jamieoliver.com/recipes/pasta-recipes/veggie-carbonara/\n",
    "\n",
    "URL = \"https://www.acouplecooks.com/mushroom-pasta-with-goat-cheese/\"#YOUR RECIPE HERE/\n",
    "\n",
    "# Parse out some of the pertinent information for a recipe.\n",
    "# See http://microformats.org/wiki/hrecipe.\n",
    "\n",
    "def parse_website(url):\n",
    "    page = requests.get(url)\n",
    "    soup = BeautifulSoup(page.content, 'html.parser')\n",
    "    \n",
    "    # You code here\n",
    "    # Parse header and get the title\n",
    "    title_unparsed = soup.select_one(\".post-header\") # \n",
    "    categorical_title = title_unparsed.text.split(\"›\") # website specific divider.\n",
    "    recipe_title = categorical_title[-1].strip() # let's remove that ugly space at the beginning.\n",
    "    fn = recipe_title\n",
    "\n",
    "    # Ingredients\n",
    "    ingredients_unparsed = soup.select_one(\".tasty-recipes-ingredients\")\n",
    "    # let's get all the \"list item\" elements in a list:\n",
    "    ing_unp = ingredients_unparsed.findAll('li')\n",
    "    ingredients = [t.text for t in ing_unp]\n",
    "\n",
    "    # Instructions\n",
    "    instructions_unparsed = soup.select_one(\".tasty-recipes-instructions\")\n",
    "    instructions_unparsed = instructions_unparsed.findAll(\"li\")\n",
    "    instructions = [t.text for t in instructions_unparsed]\n",
    "\n",
    "    return {\n",
    "            'name': fn,\n",
    "            'ingredients': ingredients,\n",
    "            'instructions': instructions,\n",
    "            }\n",
    "    \n",
    "recipe = parse_website(URL)\n",
    "print (recipe)"
   ]
  },
  {
   "cell_type": "markdown",
   "metadata": {
    "id": "ccURluAIeMJ8"
   },
   "source": [
    "But How can we get information not only from one website,  but from all? \n",
    "\n",
    "The answer: microformats.\n",
    "\n",
    "But rather than extracting with information manually from the schema.org or hRecipe microformats, we can use a package, ```scrape-schema-recipe``` \n",
    "\n",
    "Feel free to experiment with it. "
   ]
  },
  {
   "cell_type": "markdown",
   "metadata": {
    "id": "EBY-y_GreMJ8"
   },
   "source": [
    "### Task 2.2\n",
    "hRecipe is a microformat specifically created for recipes.\n",
    "Can you for example easily compare different dessert recipe ingredients? For inspiration you can look back at the exercises you did in Hands-on session 1 where you compared different sets of tweets."
   ]
  },
  {
   "cell_type": "markdown",
   "metadata": {
    "id": "n-J8fiLbeMJ9"
   },
   "source": [
    "## Exercise 3"
   ]
  },
  {
   "cell_type": "markdown",
   "metadata": {
    "id": "7XBeqJHVeMJ9"
   },
   "source": [
    "Schema.org is one of the most widely used annotations formats. Schema.org is a multipurpose  template that has been created by a consortium consisting of Yahoo!, Google and Microsoft. It can describe entities, events, products etc. Check out the vocabulary specs on Schema.org."
   ]
  },
  {
   "cell_type": "markdown",
   "metadata": {
    "id": "fiw8JClyeMJ-"
   },
   "source": [
    "### Task 3\n",
    "\n",
    "Parsing schema.org microdata. To parse this data you need to install the rdflib-microdata package, which you have done in one of the previous steps.\n",
    "\n"
   ]
  },
  {
   "cell_type": "code",
   "execution_count": null,
   "metadata": {
    "colab": {
     "base_uri": "https://localhost:8080/",
     "height": 153
    },
    "id": "X2zr3fOOeMJ-",
    "outputId": "d123f981-d73f-470f-b5e9-8735819f894b"
   },
   "outputs": [],
   "source": [
    "from rdflib import Graph\n",
    "\n",
    "# Source: https://www.youtube.com/watch?v=sCU214rbRZ0\n",
    "# Pass in a URL containing Schema.org microformats\n",
    "URL = \"http://dbpedia.org/resource/Micheal_Jackson\"\n",
    "\n",
    "# Initialize a graph\n",
    "g = Graph()\n",
    "\n",
    "# Parse in an RDF file graph dbpedia\n",
    "result = g.parse(location=URL)\n",
    "\n",
    "# Loop through first 10 triples in the graph\n",
    "for index, (sub, pred, obj) in enumerate(g):\n",
    "    print(sub, pred, obj)\n",
    "    if index == 10:\n",
    "        break"
   ]
  },
  {
   "cell_type": "code",
   "execution_count": null,
   "metadata": {
    "colab": {
     "base_uri": "https://localhost:8080/",
     "height": 34
    },
    "id": "hrQ2EuY5JAn1",
    "outputId": "eba60ebb-7ac5-4451-c16e-3f68e66af7f3"
   },
   "outputs": [],
   "source": [
    "# Print the size of the Graph\n",
    "print(f'Graph has {len(g)} facts')"
   ]
  },
  {
   "cell_type": "code",
   "execution_count": null,
   "metadata": {
    "colab": {
     "base_uri": "https://localhost:8080/",
     "height": 323
    },
    "id": "IAO1JllwJMqO",
    "outputId": "08f5e32d-d1a6-4a30-878a-ce7b768a8811"
   },
   "outputs": [],
   "source": [
    "# Print out the entire Graph in the RDF Turtle format\n",
    "print(g.serialize(format='ttl'))"
   ]
  },
  {
   "cell_type": "markdown",
   "metadata": {
    "id": "dzbynasAeMKA"
   },
   "source": [
    "### Task 3.1 \n",
    "Compare the schema.org information about a band on last.fm to the Facebook Open Graph information about the same band from Facebook. What are the differences? Which format do you think supports better interoperability?\n",
    "\n",
    "Answer is below the code."
   ]
  },
  {
   "cell_type": "code",
   "execution_count": 1,
   "metadata": {},
   "outputs": [
    {
     "name": "stdout",
     "output_type": "stream",
     "text": [
      "Defaulting to user installation because normal site-packages is not writeable\n",
      "Requirement already satisfied: extruct in /Users/chen/Library/Python/3.8/lib/python/site-packages (0.13.0)\n",
      "Requirement already satisfied: lxml in /Users/chen/Library/Python/3.8/lib/python/site-packages (from extruct) (4.6.4)\n",
      "Requirement already satisfied: rdflib-jsonld in /Users/chen/Library/Python/3.8/lib/python/site-packages (from extruct) (0.6.2)\n",
      "Requirement already satisfied: pyrdfa3 in /Users/chen/Library/Python/3.8/lib/python/site-packages (from extruct) (3.5.3)\n",
      "Requirement already satisfied: six in /Library/Developer/CommandLineTools/Library/Frameworks/Python3.framework/Versions/3.8/lib/python3.8/site-packages (from extruct) (1.15.0)\n",
      "Requirement already satisfied: mf2py in /Users/chen/Library/Python/3.8/lib/python/site-packages (from extruct) (1.1.2)\n",
      "Requirement already satisfied: jstyleson in /Users/chen/Library/Python/3.8/lib/python/site-packages (from extruct) (0.0.2)\n",
      "Requirement already satisfied: html-text>=0.5.1 in /Users/chen/Library/Python/3.8/lib/python/site-packages (from extruct) (0.5.2)\n",
      "Requirement already satisfied: rdflib in /Users/chen/Library/Python/3.8/lib/python/site-packages (from extruct) (6.0.2)\n",
      "Requirement already satisfied: w3lib in /Users/chen/Library/Python/3.8/lib/python/site-packages (from extruct) (1.22.0)\n",
      "Requirement already satisfied: requests>=2.18.4 in /Users/chen/Library/Python/3.8/lib/python/site-packages (from mf2py->extruct) (2.26.0)\n",
      "Requirement already satisfied: BeautifulSoup4>=4.6.0 in /Users/chen/Library/Python/3.8/lib/python/site-packages (from mf2py->extruct) (4.10.0)\n",
      "Requirement already satisfied: html5lib>=1.0.1 in /Users/chen/Library/Python/3.8/lib/python/site-packages (from mf2py->extruct) (1.1)\n",
      "Requirement already satisfied: isodate in /Users/chen/Library/Python/3.8/lib/python/site-packages (from rdflib->extruct) (0.6.0)\n",
      "Requirement already satisfied: pyparsing in /Users/chen/Library/Python/3.8/lib/python/site-packages (from rdflib->extruct) (2.4.7)\n",
      "Requirement already satisfied: setuptools in /Users/chen/Library/Python/3.8/lib/python/site-packages (from rdflib->extruct) (58.5.3)\n",
      "Requirement already satisfied: soupsieve>1.2 in /Users/chen/Library/Python/3.8/lib/python/site-packages (from BeautifulSoup4>=4.6.0->mf2py->extruct) (2.3.1)\n",
      "Requirement already satisfied: webencodings in /Users/chen/Library/Python/3.8/lib/python/site-packages (from html5lib>=1.0.1->mf2py->extruct) (0.5.1)\n",
      "Requirement already satisfied: urllib3<1.27,>=1.21.1 in /Users/chen/Library/Python/3.8/lib/python/site-packages (from requests>=2.18.4->mf2py->extruct) (1.26.7)\n",
      "Requirement already satisfied: charset-normalizer~=2.0.0 in /Users/chen/Library/Python/3.8/lib/python/site-packages (from requests>=2.18.4->mf2py->extruct) (2.0.7)\n",
      "Requirement already satisfied: certifi>=2017.4.17 in /Users/chen/Library/Python/3.8/lib/python/site-packages (from requests>=2.18.4->mf2py->extruct) (2021.10.8)\n",
      "Requirement already satisfied: idna<4,>=2.5 in /Users/chen/Library/Python/3.8/lib/python/site-packages (from requests>=2.18.4->mf2py->extruct) (3.3)\n"
     ]
    }
   ],
   "source": [
    "!pip install extruct\n",
    "import extruct\n",
    "import requests\n",
    "import pprint\n",
    "from w3lib.html import get_base_url\n",
    "\n",
    "pp = pprint.PrettyPrinter(indent=2)"
   ]
  },
  {
   "cell_type": "code",
   "execution_count": 2,
   "metadata": {},
   "outputs": [
    {
     "name": "stdout",
     "output_type": "stream",
     "text": [
      "{ 'microdata': [ { 'properties': { 'album': [ { 'properties': { 'byArtist': 'Imagine '\n",
      "                                                                            'Dragons',\n",
      "                                                                'image': 'https://lastfm.freetls.fastly.net/i/u/avatar170s/1e777ccd5cf3ad7ac586aa2daa67bf6c.jpg',\n",
      "                                                                'name': 'Demons '\n",
      "                                                                        '(TELYKast '\n",
      "                                                                        'Remix)',\n",
      "                                                                'url': 'https://www.last.fm/music/Imagine+Dragons/Demons+(TELYKast+Remix)'},\n",
      "                                                'type': 'http://schema.org/MusicAlbum'},\n",
      "                                              { 'properties': { 'byArtist': 'Imagine '\n",
      "                                                                            'Dragons',\n",
      "                                                                'image': 'https://lastfm.freetls.fastly.net/i/u/300x300/ecae82853b784726c7e2c4e2ba55a4fd.jpg',\n",
      "                                                                'name': 'Night '\n",
      "                                                                        'Visions',\n",
      "                                                                'url': 'https://www.last.fm/music/Imagine+Dragons/Night+Visions'},\n",
      "                                                'type': 'http://schema.org/MusicAlbum'},\n",
      "                                              { 'properties': { 'byArtist': 'Imagine '\n",
      "                                                                            'Dragons',\n",
      "                                                                'image': 'https://lastfm.freetls.fastly.net/i/u/300x300/8c77e9f509c4dd3bca8d3ac6b5344ce5.jpg',\n",
      "                                                                'name': 'Evolve',\n",
      "                                                                'url': 'https://www.last.fm/music/Imagine+Dragons/Evolve'},\n",
      "                                                'type': 'http://schema.org/MusicAlbum'},\n",
      "                                              { 'properties': { 'byArtist': 'Imagine '\n",
      "                                                                            'Dragons',\n",
      "                                                                'image': 'https://lastfm.freetls.fastly.net/i/u/300x300/85b23e2cf9ea5af249034cb45595c155.jpg',\n",
      "                                                                'name': 'Night '\n",
      "                                                                        'Visions '\n",
      "                                                                        '(Deluxe)',\n",
      "                                                                'url': 'https://www.last.fm/music/Imagine+Dragons/Night+Visions+(Deluxe)'},\n",
      "                                                'type': 'http://schema.org/MusicAlbum'},\n",
      "                                              { 'properties': { 'byArtist': 'Imagine '\n",
      "                                                                            'Dragons',\n",
      "                                                                'image': 'https://lastfm.freetls.fastly.net/i/u/300x300/cd2e7feedfee4f6ab095c0eb9d82beaa.jpg',\n",
      "                                                                'name': 'Continued '\n",
      "                                                                        'Silence '\n",
      "                                                                        'EP',\n",
      "                                                                'url': 'https://www.last.fm/music/Imagine+Dragons/Continued+Silence+EP'},\n",
      "                                                'type': 'http://schema.org/MusicAlbum'}],\n",
      "                                   'event': [ { 'properties': { 'location': { 'properties': { 'address': 'Kingston '\n",
      "                                                                                                         'upon '\n",
      "                                                                                                         'Thames, '\n",
      "                                                                                                         'United '\n",
      "                                                                                                         'Kingdom',\n",
      "                                                                                              'name': 'Pryzm'},\n",
      "                                                                              'type': 'http://schema.org/Place'},\n",
      "                                                                'name': 'Imagine '\n",
      "                                                                        'Dragons',\n",
      "                                                                'performer': { 'properties': { 'name': 'Imagine '\n",
      "                                                                                                       'Dragons'},\n",
      "                                                                               'type': 'http://schema.org/MusicGroup'},\n",
      "                                                                'startDate': '2021-11-16T00:00:00',\n",
      "                                                                'url': 'https://www.last.fm/event/4602477+Imagine+Dragons+at+Pryzm+on+16+November+2021'},\n",
      "                                                'type': 'http://schema.org/MusicEvent'},\n",
      "                                              { 'properties': { 'location': { 'properties': { 'address': 'Praha '\n",
      "                                                                                                         '18, '\n",
      "                                                                                                         'Czech '\n",
      "                                                                                                         'Republic',\n",
      "                                                                                              'name': 'Letnany '\n",
      "                                                                                                      'Airport'},\n",
      "                                                                              'type': 'http://schema.org/Place'},\n",
      "                                                                'name': 'Imagine '\n",
      "                                                                        'Dragons: '\n",
      "                                                                        'Mercury '\n",
      "                                                                        'World '\n",
      "                                                                        'Tour',\n",
      "                                                                'startDate': '2022-05-30T00:00:00',\n",
      "                                                                'url': 'https://www.last.fm/event/4607745+Imagine+Dragons:+Mercury+World+Tour'},\n",
      "                                                'type': 'http://schema.org/MusicEvent'},\n",
      "                                              { 'properties': { 'location': { 'properties': { 'address': 'Rīga, '\n",
      "                                                                                                         'Latvia',\n",
      "                                                                                              'name': 'Mežaparka '\n",
      "                                                                                                      'Lielā '\n",
      "                                                                                                      'estrāde'},\n",
      "                                                                              'type': 'http://schema.org/Place'},\n",
      "                                                                'name': 'Imagine '\n",
      "                                                                        'Dragons',\n",
      "                                                                'performer': { 'properties': { 'name': 'Imagine '\n",
      "                                                                                                       'Dragons'},\n",
      "                                                                               'type': 'http://schema.org/MusicGroup'},\n",
      "                                                                'startDate': '2022-06-01T00:00:00',\n",
      "                                                                'url': 'https://www.last.fm/event/4607736+Imagine+Dragons+at+Me%C5%BEaparka+Liel%C4%81+estr%C4%81de+on+01+June+2022'},\n",
      "                                                'type': 'http://schema.org/MusicEvent'},\n",
      "                                              { 'properties': { 'location': { 'properties': { 'address': 'Kingston '\n",
      "                                                                                                         'upon '\n",
      "                                                                                                         'Thames, '\n",
      "                                                                                                         'United '\n",
      "                                                                                                         'Kingdom',\n",
      "                                                                                              'name': 'Pryzm'},\n",
      "                                                                              'type': 'http://schema.org/Place'},\n",
      "                                                                'name': 'Imagine '\n",
      "                                                                        'Dragons',\n",
      "                                                                'performer': { 'properties': { 'name': 'Imagine '\n",
      "                                                                                                       'Dragons'},\n",
      "                                                                               'type': 'http://schema.org/MusicGroup'},\n",
      "                                                                'startDate': '2021-11-16T00:00:00',\n",
      "                                                                'url': 'https://www.last.fm/event/4602477+Imagine+Dragons+at+Pryzm+on+16+November+2021'},\n",
      "                                                'type': 'http://schema.org/MusicEvent'},\n",
      "                                              { 'properties': { 'location': { 'properties': { 'address': 'Praha '\n",
      "                                                                                                         '18, '\n",
      "                                                                                                         'Czech '\n",
      "                                                                                                         'Republic',\n",
      "                                                                                              'name': 'Letnany '\n",
      "                                                                                                      'Airport'},\n",
      "                                                                              'type': 'http://schema.org/Place'},\n",
      "                                                                'name': 'Imagine '\n",
      "                                                                        'Dragons: '\n",
      "                                                                        'Mercury '\n",
      "                                                                        'World '\n",
      "                                                                        'Tour',\n",
      "                                                                'startDate': '2022-05-30T00:00:00',\n",
      "                                                                'url': 'https://www.last.fm/event/4607745+Imagine+Dragons:+Mercury+World+Tour'},\n",
      "                                                'type': 'http://schema.org/MusicEvent'},\n",
      "                                              { 'properties': { 'location': { 'properties': { 'address': 'Rīga, '\n",
      "                                                                                                         'Latvia',\n",
      "                                                                                              'name': 'Mežaparka '\n",
      "                                                                                                      'Lielā '\n",
      "                                                                                                      'estrāde'},\n",
      "                                                                              'type': 'http://schema.org/Place'},\n",
      "                                                                'name': 'Imagine '\n",
      "                                                                        'Dragons',\n",
      "                                                                'performer': { 'properties': { 'name': 'Imagine '\n",
      "                                                                                                       'Dragons'},\n",
      "                                                                               'type': 'http://schema.org/MusicGroup'},\n",
      "                                                                'startDate': '2022-06-01T00:00:00',\n",
      "                                                                'url': 'https://www.last.fm/event/4607736+Imagine+Dragons+at+Me%C5%BEaparka+Liel%C4%81+estr%C4%81de+on+01+June+2022'},\n",
      "                                                'type': 'http://schema.org/MusicEvent'}],\n",
      "                                   'image': 'https://lastfm.freetls.fastly.net/i/u/ar0/ecbdeb2afeab1e29698b6bcf90c05a5f.jpg',\n",
      "                                   'name': 'Imagine Dragons',\n",
      "                                   'track': [ { 'properties': { 'byArtist': 'Imagine '\n",
      "                                                                            'Dragons',\n",
      "                                                                'name': 'Enemy '\n",
      "                                                                        '(with '\n",
      "                                                                        'JID) '\n",
      "                                                                        '- '\n",
      "                                                                        'from '\n",
      "                                                                        'the '\n",
      "                                                                        'series '\n",
      "                                                                        'Arcane '\n",
      "                                                                        'League '\n",
      "                                                                        'of '\n",
      "                                                                        'Legends',\n",
      "                                                                'url': 'https://www.last.fm/music/Imagine+Dragons/_/Enemy+(with+JID)+-+from+the+series+Arcane+League+of+Legends'},\n",
      "                                                'type': 'http://schema.org/MusicRecording'},\n",
      "                                              { 'properties': { 'name': 'Enemy '\n",
      "                                                                        '(with '\n",
      "                                                                        'JID) '\n",
      "                                                                        '- '\n",
      "                                                                        'from '\n",
      "                                                                        'the '\n",
      "                                                                        'series '\n",
      "                                                                        'Arcane '\n",
      "                                                                        'League '\n",
      "                                                                        'of '\n",
      "                                                                        'Legends'},\n",
      "                                                'type': 'http://schema.org/MusicRecording'},\n",
      "                                              { 'properties': { 'name': 'Believer'},\n",
      "                                                'type': 'http://schema.org/MusicRecording'},\n",
      "                                              { 'properties': { 'name': 'Demons'},\n",
      "                                                'type': 'http://schema.org/MusicRecording'},\n",
      "                                              { 'properties': { 'name': 'Radioactive'},\n",
      "                                                'type': 'http://schema.org/MusicRecording'},\n",
      "                                              { 'properties': { 'name': 'Thunder'},\n",
      "                                                'type': 'http://schema.org/MusicRecording'},\n",
      "                                              { 'properties': { 'name': 'Wrecked'},\n",
      "                                                'type': 'http://schema.org/MusicRecording'},\n",
      "                                              { 'properties': { 'name': 'Natural'},\n",
      "                                                'type': 'http://schema.org/MusicRecording'},\n",
      "                                              { 'properties': { 'name': 'Follow '\n",
      "                                                                        'You'},\n",
      "                                                'type': 'http://schema.org/MusicRecording'},\n",
      "                                              { 'properties': { 'name': 'Whatever '\n",
      "                                                                        'It '\n",
      "                                                                        'Takes'},\n",
      "                                                'type': 'http://schema.org/MusicRecording'},\n",
      "                                              { 'properties': { 'name': 'Warriors'},\n",
      "                                                'type': 'http://schema.org/MusicRecording'}],\n",
      "                                   'url': 'https://www.last.fm/music/Imagine+Dragons'},\n",
      "                   'type': 'http://schema.org/MusicGroup'},\n",
      "                 { 'properties': { 'name': 'OneRepublic',\n",
      "                                   'url': 'https://www.last.fm/music/OneRepublic'},\n",
      "                   'type': 'http://schema.org/MusicGroup'},\n",
      "                 { 'properties': { 'name': 'Bastille',\n",
      "                                   'url': 'https://www.last.fm/music/Bastille'},\n",
      "                   'type': 'http://schema.org/MusicGroup'},\n",
      "                 { 'properties': { 'name': 'twenty one pilots',\n",
      "                                   'url': 'https://www.last.fm/music/twenty+one+pilots'},\n",
      "                   'type': 'http://schema.org/MusicGroup'},\n",
      "                 { 'properties': { 'name': 'OneRepublic',\n",
      "                                   'url': 'https://www.last.fm/music/OneRepublic'},\n",
      "                   'type': 'http://schema.org/MusicGroup'},\n",
      "                 { 'properties': { 'name': 'Bastille',\n",
      "                                   'url': 'https://www.last.fm/music/Bastille'},\n",
      "                   'type': 'http://schema.org/MusicGroup'},\n",
      "                 { 'properties': { 'name': 'twenty one pilots',\n",
      "                                   'url': 'https://www.last.fm/music/twenty+one+pilots'},\n",
      "                   'type': 'http://schema.org/MusicGroup'},\n",
      "                 { 'properties': { 'name': 'American Authors',\n",
      "                                   'url': 'https://www.last.fm/music/American+Authors'},\n",
      "                   'type': 'http://schema.org/MusicGroup'},\n",
      "                 { 'properties': { 'name': 'X Ambassadors',\n",
      "                                   'url': 'https://www.last.fm/music/X+Ambassadors'},\n",
      "                   'type': 'http://schema.org/MusicGroup'},\n",
      "                 { 'properties': { 'name': 'Coldplay',\n",
      "                                   'url': 'https://www.last.fm/music/Coldplay'},\n",
      "                   'type': 'http://schema.org/MusicGroup'},\n",
      "                 { 'properties': { 'name': 'Last.fm',\n",
      "                                   'sameAs': [ 'https://www.facebook.com/lastfm',\n",
      "                                               'https://twitter.com/lastfm',\n",
      "                                               'https://www.instagram.com/last_fm',\n",
      "                                               'https://www.youtube.com/user/lastfm'],\n",
      "                                   'url': 'https://www.last.fm'},\n",
      "                   'type': 'http://schema.org/Organization'}]}\n"
     ]
    }
   ],
   "source": [
    "r = requests.get('https://www.last.fm/music/Imagine+Dragons')\n",
    "base_url = get_base_url(r.text, r.url)\n",
    "data = extruct.extract(r.text, base_url, syntaxes=['microdata'])\n",
    "\n",
    "pp.pprint(data)"
   ]
  },
  {
   "cell_type": "code",
   "execution_count": 3,
   "metadata": {},
   "outputs": [
    {
     "name": "stdout",
     "output_type": "stream",
     "text": [
      "{ 'opengraph': [ { 'namespace': {'og': 'http://ogp.me/ns#'},\n",
      "                   'properties': [ ('og:title', 'Imagine Dragons'),\n",
      "                                   ( 'og:description',\n",
      "                                     'Imagine Dragons. 13.404.536 '\n",
      "                                     'vind-ik-leuks · 80.178 personen praten '\n",
      "                                     'hierover. '\n",
      "                                     'https://imaginedragonsmusic.com/'),\n",
      "                                   ( 'og:url',\n",
      "                                     'https://www.facebook.com/ImagineDragons'),\n",
      "                                   ( 'og:image',\n",
      "                                     'https://scontent-amt2-1.xx.fbcdn.net/v/t39.30808-1/241268291_402022267947203_6299882747835228199_n.jpg?_nc_cat=1&ccb=1-5&_nc_sid=d36de4&_nc_ohc=a7H7l5tV3PIAX_HfK4b&_nc_ht=scontent-amt2-1.xx&oh=61201d625f82b70eb8d240347e2a5a89&oe=6198F24B'),\n",
      "                                   ('og:image:alt', 'Imagine Dragons'),\n",
      "                                   ('og:locale', 'en_US')]}]}\n"
     ]
    }
   ],
   "source": [
    "r = requests.get('https://www.facebook.com/ImagineDragons')\n",
    "base_url = get_base_url(r.text, r.url)\n",
    "data = extruct.extract(r.text, base_url, syntaxes=['opengraph'])\n",
    "\n",
    "pp.pprint(data)"
   ]
  },
  {
   "cell_type": "markdown",
   "metadata": {},
   "source": [
    "### Task 3.1 Answer\n",
    "Based on the data printed, data from both schema.org and opengraph are embedded as a json string, while the main difference between these 2 formats is that data from schema.org contains much more properties than opengraph. Data extracted from schema.org included almost all information that users need, and opengraph just leave several urls.\n",
    "\n",
    "Since they are both formatted as json strings and the data from schema.org contains much more informations, it is more convenient for users who extracted the data. However, if people intend to extract information from opengraph, they may have to access different URLs to retrieve their preferred information, and these could take much more times than microdata. Besides, information from schema.org has a readable key, which means by simply setting keywords, people could retrieve data from it. So I think schema.org information has better interoperability."
   ]
  },
  {
   "cell_type": "markdown",
   "metadata": {
    "id": "Nocs4YDPeMKB"
   },
   "source": [
    "### Task 3.2\n",
    "Explore the various microformats at http://microformats.org/ and compare the output of the exercises with the output of http://microformats.org/. Think about possible microformats you want to support in your final assignment and read up on how to parse them."
   ]
  }
 ],
 "metadata": {
  "colab": {
   "collapsed_sections": [],
   "name": "Hands-on_2_microformats.ipynb",
   "provenance": [],
   "toc_visible": true
  },
  "kernelspec": {
   "display_name": "Python 3 (ipykernel)",
   "language": "python",
   "name": "python3"
  },
  "language_info": {
   "codemirror_mode": {
    "name": "ipython",
    "version": 3
   },
   "file_extension": ".py",
   "mimetype": "text/x-python",
   "name": "python",
   "nbconvert_exporter": "python",
   "pygments_lexer": "ipython3",
   "version": "3.8.9"
  }
 },
 "nbformat": 4,
 "nbformat_minor": 1
}
