{
 "cells": [
  {
   "cell_type": "markdown",
   "metadata": {},
   "source": [
    "*****************************************************************\n",
    "#  The Social Web \n",
    "- Instructors: Jacco van Ossenbruggen.\n",
    "- TAs: Ayesha Noorain, Alex Boyko, Caio Silva, Elena Beretta, Mirthe Dankloff.\n",
    "- Exercises for Hands-on session 1\n",
    "*****************************************************************"
   ]
  },
  {
   "cell_type": "markdown",
   "metadata": {},
   "source": [
    "Prerequisites:\n",
    "- Python 3.8\n",
    "- Python packages: twitter, prettytable, matplotlib\n",
    "\n",
    "First you need to know how to retrieve some social web data. Exercises 1 and 2 will show you how to retrieve trends and search results from Twitter. \n",
    "\n",
    "But let's check first if we're running a sufficiently new version of Python:"
   ]
  },
  {
   "cell_type": "code",
   "execution_count": 1,
   "metadata": {},
   "outputs": [
    {
     "name": "stdout",
     "output_type": "stream",
     "text": [
      "This jupyter notebook is running on Python 3.8.12\n"
     ]
    }
   ],
   "source": [
    "import platform\n",
    "import sys\n",
    "print(\"This jupyter notebook is running on Python \" + platform.python_version())\n",
    "# It's good practice to assert packages requirements at the beginning of a script:\n",
    "assert sys.version_info >= (3, 6)"
   ]
  },
  {
   "cell_type": "markdown",
   "metadata": {},
   "source": [
    "Let's install now the required packages for this hands on session:"
   ]
  },
  {
   "cell_type": "code",
   "execution_count": 2,
   "metadata": {},
   "outputs": [
    {
     "name": "stdout",
     "output_type": "stream",
     "text": [
      "Requirement already satisfied: twitter in /opt/anaconda3/envs/socialEnv/lib/python3.8/site-packages (1.19.3)\n",
      "Requirement already satisfied: PrettyTable in /opt/anaconda3/envs/socialEnv/lib/python3.8/site-packages (2.4.0)\n",
      "Requirement already satisfied: matplotlib in /opt/anaconda3/envs/socialEnv/lib/python3.8/site-packages (3.4.3)\n",
      "Requirement already satisfied: wcwidth in /opt/anaconda3/envs/socialEnv/lib/python3.8/site-packages (from PrettyTable) (0.2.5)\n",
      "Requirement already satisfied: pyparsing>=2.2.1 in /opt/anaconda3/envs/socialEnv/lib/python3.8/site-packages (from matplotlib) (3.0.4)\n",
      "Requirement already satisfied: python-dateutil>=2.7 in /opt/anaconda3/envs/socialEnv/lib/python3.8/site-packages (from matplotlib) (2.8.2)\n",
      "Requirement already satisfied: numpy>=1.16 in /opt/anaconda3/envs/socialEnv/lib/python3.8/site-packages (from matplotlib) (1.21.2)\n",
      "Requirement already satisfied: cycler>=0.10 in /opt/anaconda3/envs/socialEnv/lib/python3.8/site-packages (from matplotlib) (0.10.0)\n",
      "Requirement already satisfied: pillow>=6.2.0 in /opt/anaconda3/envs/socialEnv/lib/python3.8/site-packages (from matplotlib) (8.4.0)\n",
      "Requirement already satisfied: kiwisolver>=1.0.1 in /opt/anaconda3/envs/socialEnv/lib/python3.8/site-packages (from matplotlib) (1.3.1)\n",
      "Requirement already satisfied: six in /opt/anaconda3/envs/socialEnv/lib/python3.8/site-packages (from cycler>=0.10->matplotlib) (1.16.0)\n"
     ]
    }
   ],
   "source": [
    "# If you're using a virtualenv, make sure its activated before running \n",
    "# this cell!\n",
    "!pip install twitter PrettyTable matplotlib"
   ]
  },
  {
   "cell_type": "markdown",
   "metadata": {},
   "source": [
    "## Part 1: Authorizing an application to access Twitter account data (from Example 1-1/9-1 in Mining the Social Web):\n",
    "\n",
    "1. Make sure to add your mobile phone number to your private twitter profile.\n",
    "2. Go to https://apps.twitter.com/ and click on \"create an app\". Twitter will prompt you to create a *developer account*.\n",
    "3. You'll receive an *account confirmation* email with a link. Follow it and create an app. \n",
    "4. Once the app is created, you'll see a \"Keys and Token\" item on the top left-hand side corner of the webpage. These values will be needed to fill in the next cell.\n",
    "5. Please delete all your keys before submission."
   ]
  },
  {
   "cell_type": "code",
   "execution_count": 3,
   "metadata": {},
   "outputs": [
    {
     "name": "stdout",
     "output_type": "stream",
     "text": [
      "<twitter.api.Twitter object at 0x1088712e0>\n"
     ]
    }
   ],
   "source": [
    "import twitter # Tell Python to use the twitter package\n",
    "CONSUMER_KEY = ''\n",
    "CONSUMER_SECRET = ''\n",
    "# to get the oauth credential you need to click on the 'Generate access token' button:\n",
    "OAUTH_TOKEN = '' \n",
    "OAUTH_TOKEN_SECRET = ''\n",
    "auth = twitter.oauth.OAuth(OAUTH_TOKEN, OAUTH_TOKEN_SECRET,CONSUMER_KEY, CONSUMER_SECRET)\n",
    "twitter_api = twitter.Twitter(auth=auth)\n",
    "print(twitter_api) \n",
    "# Nothing to see by displaying twitter_api except that it's now a defined variable\n"
   ]
  },
  {
   "cell_type": "markdown",
   "metadata": {},
   "source": [
    "### 1.1: Retrieving twitter search trends (from Example 1-2/9-2 in Mining the Social Web)"
   ]
  },
  {
   "cell_type": "code",
   "execution_count": 4,
   "metadata": {},
   "outputs": [
    {
     "name": "stdout",
     "output_type": "stream",
     "text": [
      "[{'trends': [{'name': '#10Kasım', 'url': 'http://twitter.com/search?q=%2310Kas%C4%B1m', 'promoted_content': None, 'query': '%2310Kas%C4%B1m', 'tweet_volume': 54838}, {'name': '#CuartoRetiroDel10xCiento', 'url': 'http://twitter.com/search?q=%23CuartoRetiroDel10xCiento', 'promoted_content': None, 'query': '%23CuartoRetiroDel10xCiento', 'tweet_volume': 14494}, {'name': '#AiledekiEkdersliyeKadro', 'url': 'http://twitter.com/search?q=%23AiledekiEkdersliyeKadro', 'promoted_content': None, 'query': '%23AiledekiEkdersliyeKadro', 'tweet_volume': 10241}, {'name': '#BaharBabacanÖldü', 'url': 'http://twitter.com/search?q=%23BaharBabacan%C3%96ld%C3%BC', 'promoted_content': None, 'query': '%23BaharBabacan%C3%96ld%C3%BC', 'tweet_volume': None}, {'name': '#CemUzanCoin', 'url': 'http://twitter.com/search?q=%23CemUzanCoin', 'promoted_content': None, 'query': '%23CemUzanCoin', 'tweet_volume': None}, {'name': 'Jokic', 'url': 'http://twitter.com/search?q=Jokic', 'promoted_content': None, 'query': 'Jokic', 'tweet_volume': 133585}, {'name': 'Sponsee TokenÖnSatış', 'url': 'http://twitter.com/search?q=%22Sponsee+Token%C3%96nSat%C4%B1%C5%9F%22', 'promoted_content': None, 'query': '%22Sponsee+Token%C3%96nSat%C4%B1%C5%9F%22', 'tweet_volume': None}, {'name': 'Morris', 'url': 'http://twitter.com/search?q=Morris', 'promoted_content': None, 'query': 'Morris', 'tweet_volume': 86900}, {'name': 'HWASA', 'url': 'http://twitter.com/search?q=HWASA', 'promoted_content': None, 'query': 'HWASA', 'tweet_volume': 53586}, {'name': 'WelcomeTo ChaoticWonderland', 'url': 'http://twitter.com/search?q=%22WelcomeTo+ChaoticWonderland%22', 'promoted_content': None, 'query': '%22WelcomeTo+ChaoticWonderland%22', 'tweet_volume': 47642}, {'name': 'Melody', 'url': 'http://twitter.com/search?q=Melody', 'promoted_content': None, 'query': 'Melody', 'tweet_volume': 41012}, {'name': 'Twitter Blue', 'url': 'http://twitter.com/search?q=%22Twitter+Blue%22', 'promoted_content': None, 'query': '%22Twitter+Blue%22', 'tweet_volume': 178217}, {'name': 'Celina', 'url': 'http://twitter.com/search?q=Celina', 'promoted_content': None, 'query': 'Celina', 'tweet_volume': None}, {'name': 'warner chappell', 'url': 'http://twitter.com/search?q=%22warner+chappell%22', 'promoted_content': None, 'query': '%22warner+chappell%22', 'tweet_volume': None}, {'name': 'Dean Stockwell', 'url': 'http://twitter.com/search?q=%22Dean+Stockwell%22', 'promoted_content': None, 'query': '%22Dean+Stockwell%22', 'tweet_volume': 36054}, {'name': 'Atam', 'url': 'http://twitter.com/search?q=Atam', 'promoted_content': None, 'query': 'Atam', 'tweet_volume': 12465}, {'name': 'Goic', 'url': 'http://twitter.com/search?q=Goic', 'promoted_content': None, 'query': 'Goic', 'tweet_volume': None}, {'name': 'Tim Cook', 'url': 'http://twitter.com/search?q=%22Tim+Cook%22', 'promoted_content': None, 'query': '%22Tim+Cook%22', 'tweet_volume': 15211}, {'name': 'mel maia', 'url': 'http://twitter.com/search?q=%22mel+maia%22', 'promoted_content': None, 'query': '%22mel+maia%22', 'tweet_volume': 20810}, {'name': 'Quantum Leap', 'url': 'http://twitter.com/search?q=%22Quantum+Leap%22', 'promoted_content': None, 'query': '%22Quantum+Leap%22', 'tweet_volume': 19242}, {'name': '0X1LOVESONG JP OUT NOW', 'url': 'http://twitter.com/search?q=%220X1LOVESONG+JP+OUT+NOW%22', 'promoted_content': None, 'query': '%220X1LOVESONG+JP+OUT+NOW%22', 'tweet_volume': 12759}, {'name': 'Gosar', 'url': 'http://twitter.com/search?q=Gosar', 'promoted_content': None, 'query': 'Gosar', 'tweet_volume': 235939}, {'name': '新キラー', 'url': 'http://twitter.com/search?q=%E6%96%B0%E3%82%AD%E3%83%A9%E3%83%BC', 'promoted_content': None, 'query': '%E6%96%B0%E3%82%AD%E3%83%A9%E3%83%BC', 'tweet_volume': None}, {'name': 'Frank Hancock', 'url': 'http://twitter.com/search?q=%22Frank+Hancock%22', 'promoted_content': None, 'query': '%22Frank+Hancock%22', 'tweet_volume': None}, {'name': 'Jailson', 'url': 'http://twitter.com/search?q=Jailson', 'promoted_content': None, 'query': 'Jailson', 'tweet_volume': None}, {'name': '24 Chicken', 'url': 'http://twitter.com/search?q=%2224+Chicken%22', 'promoted_content': None, 'query': '%2224+Chicken%22', 'tweet_volume': None}, {'name': '航空写真', 'url': 'http://twitter.com/search?q=%E8%88%AA%E7%A9%BA%E5%86%99%E7%9C%9F', 'promoted_content': None, 'query': '%E8%88%AA%E7%A9%BA%E5%86%99%E7%9C%9F', 'tweet_volume': None}, {'name': 'AOTM', 'url': 'http://twitter.com/search?q=AOTM', 'promoted_content': None, 'query': 'AOTM', 'tweet_volume': 21577}, {'name': 'Sununu', 'url': 'http://twitter.com/search?q=Sununu', 'promoted_content': None, 'query': 'Sununu', 'tweet_volume': None}, {'name': '地理偏差値80', 'url': 'http://twitter.com/search?q=%E5%9C%B0%E7%90%86%E5%81%8F%E5%B7%AE%E5%80%A480', 'promoted_content': None, 'query': '%E5%9C%B0%E7%90%86%E5%81%8F%E5%B7%AE%E5%80%A480', 'tweet_volume': None}, {'name': 'Paulistão', 'url': 'http://twitter.com/search?q=Paulist%C3%A3o', 'promoted_content': None, 'query': 'Paulist%C3%A3o', 'tweet_volume': None}, {'name': 'Max Cleland', 'url': 'http://twitter.com/search?q=%22Max+Cleland%22', 'promoted_content': None, 'query': '%22Max+Cleland%22', 'tweet_volume': None}, {'name': 'Saygı', 'url': 'http://twitter.com/search?q=Sayg%C4%B1', 'promoted_content': None, 'query': 'Sayg%C4%B1', 'tweet_volume': 29986}, {'name': 'Ana Bolena', 'url': 'http://twitter.com/search?q=%22Ana+Bolena%22', 'promoted_content': None, 'query': '%22Ana+Bolena%22', 'tweet_volume': None}, {'name': 'Consejo de Seguridad', 'url': 'http://twitter.com/search?q=%22Consejo+de+Seguridad%22', 'promoted_content': None, 'query': '%22Consejo+de+Seguridad%22', 'tweet_volume': 25381}, {'name': 'MONSTA X NO LIMIT CONCEPT 1', 'url': 'http://twitter.com/search?q=%22MONSTA+X+NO+LIMIT+CONCEPT+1%22', 'promoted_content': None, 'query': '%22MONSTA+X+NO+LIMIT+CONCEPT+1%22', 'tweet_volume': 111601}, {'name': 'あなたの友達', 'url': 'http://twitter.com/search?q=%E3%81%82%E3%81%AA%E3%81%9F%E3%81%AE%E5%8F%8B%E9%81%94', 'promoted_content': None, 'query': '%E3%81%82%E3%81%AA%E3%81%9F%E3%81%AE%E5%8F%8B%E9%81%94', 'tweet_volume': None}, {'name': 'Dünyayı BekleyenSon', 'url': 'http://twitter.com/search?q=%22D%C3%BCnyay%C4%B1+BekleyenSon%22', 'promoted_content': None, 'query': '%22D%C3%BCnyay%C4%B1+BekleyenSon%22', 'tweet_volume': None}, {'name': 'Comcast', 'url': 'http://twitter.com/search?q=Comcast', 'promoted_content': None, 'query': 'Comcast', 'tweet_volume': 12409}, {'name': 'UMA CRIANÇA', 'url': 'http://twitter.com/search?q=%22UMA+CRIAN%C3%87A%22', 'promoted_content': None, 'query': '%22UMA+CRIAN%C3%87A%22', 'tweet_volume': 29574}, {'name': 'B.I COSMOS LYRIC CONCEPT 6', 'url': 'http://twitter.com/search?q=%22B.I+COSMOS+LYRIC+CONCEPT+6%22', 'promoted_content': None, 'query': '%22B.I+COSMOS+LYRIC+CONCEPT+6%22', 'tweet_volume': 13646}, {'name': 'STOP SPEAKING ON JENNIE', 'url': 'http://twitter.com/search?q=%22STOP+SPEAKING+ON+JENNIE%22', 'promoted_content': None, 'query': '%22STOP+SPEAKING+ON+JENNIE%22', 'tweet_volume': 135934}, {'name': 'ONE YEAR OF JUDAIYAAN ALBUM', 'url': 'http://twitter.com/search?q=%22ONE+YEAR+OF+JUDAIYAAN+ALBUM%22', 'promoted_content': None, 'query': '%22ONE+YEAR+OF+JUDAIYAAN+ALBUM%22', 'tweet_volume': None}, {'name': '私の性格', 'url': 'http://twitter.com/search?q=%E7%A7%81%E3%81%AE%E6%80%A7%E6%A0%BC', 'promoted_content': None, 'query': '%E7%A7%81%E3%81%AE%E6%80%A7%E6%A0%BC', 'tweet_volume': None}, {'name': 'Bruninho', 'url': 'http://twitter.com/search?q=Bruninho', 'promoted_content': None, 'query': 'Bruninho', 'tweet_volume': None}, {'name': 'Aníbal Fernández', 'url': 'http://twitter.com/search?q=%22An%C3%ADbal+Fern%C3%A1ndez%22', 'promoted_content': None, 'query': '%22An%C3%ADbal+Fern%C3%A1ndez%22', 'tweet_volume': 11851}, {'name': 'ATEEZ OUR DESTINY', 'url': 'http://twitter.com/search?q=%22ATEEZ+OUR+DESTINY%22', 'promoted_content': None, 'query': '%22ATEEZ+OUR+DESTINY%22', 'tweet_volume': 28908}, {'name': 'Beach House', 'url': 'http://twitter.com/search?q=%22Beach+House%22', 'promoted_content': None, 'query': '%22Beach+House%22', 'tweet_volume': None}, {'name': '葛葉誕生日', 'url': 'http://twitter.com/search?q=%E8%91%9B%E8%91%89%E8%AA%95%E7%94%9F%E6%97%A5', 'promoted_content': None, 'query': '%E8%91%9B%E8%91%89%E8%AA%95%E7%94%9F%E6%97%A5', 'tweet_volume': None}, {'name': 'Rebelde', 'url': 'http://twitter.com/search?q=Rebelde', 'promoted_content': None, 'query': 'Rebelde', 'tweet_volume': 10469}], 'as_of': '2021-11-09T17:14:30Z', 'created_at': '2021-11-08T10:20:48Z', 'locations': [{'name': 'Worldwide', 'woeid': 1}]}]\n"
     ]
    }
   ],
   "source": [
    "WORLD_WOE_ID = 1 # The \"Yahoo! Where On Earth ID\" for the entire world\n",
    "world_trends = twitter_api.trends.place(_id=WORLD_WOE_ID) # get back a callable\n",
    "print(world_trends)"
   ]
  },
  {
   "cell_type": "markdown",
   "metadata": {},
   "source": [
    "### Task 1\n",
    "Twitter uses WOEIDs. Find out how WORLD_WOE_IDs were originally defined by Yahoo! and try to use others in a query. What kind of differences do you find between the worldwide trends and the local trends? \n"
   ]
  },
  {
   "cell_type": "code",
   "execution_count": 5,
   "metadata": {},
   "outputs": [
    {
     "name": "stdout",
     "output_type": "stream",
     "text": [
      "[{'trends': [{'name': '#TheView', 'url': 'http://twitter.com/search?q=%23TheView', 'promoted_content': None, 'query': '%23TheView', 'tweet_volume': None}, {'name': 'Spider-Man', 'url': 'http://twitter.com/search?q=Spider-Man', 'promoted_content': None, 'query': 'Spider-Man', 'tweet_volume': 64275}, {'name': 'Melo', 'url': 'http://twitter.com/search?q=Melo', 'promoted_content': None, 'query': 'Melo', 'tweet_volume': 55348}, {'name': '#ForzaHorizon5', 'url': 'http://twitter.com/search?q=%23ForzaHorizon5', 'promoted_content': None, 'query': '%23ForzaHorizon5', 'tweet_volume': 26517}, {'name': 'Jokic', 'url': 'http://twitter.com/search?q=Jokic', 'promoted_content': None, 'query': 'Jokic', 'tweet_volume': 133919}, {'name': 'Morris', 'url': 'http://twitter.com/search?q=Morris', 'promoted_content': None, 'query': 'Morris', 'tweet_volume': 87005}, {'name': 'Twitter Blue', 'url': 'http://twitter.com/search?q=%22Twitter+Blue%22', 'promoted_content': None, 'query': '%22Twitter+Blue%22', 'tweet_volume': 178565}, {'name': 'Dean Stockwell', 'url': 'http://twitter.com/search?q=%22Dean+Stockwell%22', 'promoted_content': None, 'query': '%22Dean+Stockwell%22', 'tweet_volume': 36090}, {'name': 'Quantum Leap', 'url': 'http://twitter.com/search?q=%22Quantum+Leap%22', 'promoted_content': None, 'query': '%22Quantum+Leap%22', 'tweet_volume': 19265}, {'name': 'Gosar', 'url': 'http://twitter.com/search?q=Gosar', 'promoted_content': None, 'query': 'Gosar', 'tweet_volume': 236373}, {'name': '#EmptyShelvesTrump', 'url': 'http://twitter.com/search?q=%23EmptyShelvesTrump', 'promoted_content': None, 'query': '%23EmptyShelvesTrump', 'tweet_volume': None}, {'name': 'Frank Hancock', 'url': 'http://twitter.com/search?q=%22Frank+Hancock%22', 'promoted_content': None, 'query': '%22Frank+Hancock%22', 'tweet_volume': None}, {'name': '#tuesdayvibe', 'url': 'http://twitter.com/search?q=%23tuesdayvibe', 'promoted_content': None, 'query': '%23tuesdayvibe', 'tweet_volume': 15372}, {'name': 'Sununu', 'url': 'http://twitter.com/search?q=Sununu', 'promoted_content': None, 'query': 'Sununu', 'tweet_volume': None}, {'name': 'Max Cleland', 'url': 'http://twitter.com/search?q=%22Max+Cleland%22', 'promoted_content': None, 'query': '%22Max+Cleland%22', 'tweet_volume': None}, {'name': 'Comcast', 'url': 'http://twitter.com/search?q=Comcast', 'promoted_content': None, 'query': 'Comcast', 'tweet_volume': 12430}, {'name': 'Tim Cook', 'url': 'http://twitter.com/search?q=%22Tim+Cook%22', 'promoted_content': None, 'query': '%22Tim+Cook%22', 'tweet_volume': 15358}, {'name': '#tuesdaymotivations', 'url': 'http://twitter.com/search?q=%23tuesdaymotivations', 'promoted_content': None, 'query': '%23tuesdaymotivations', 'tweet_volume': 35611}, {'name': 'Xfinity', 'url': 'http://twitter.com/search?q=Xfinity', 'promoted_content': None, 'query': 'Xfinity', 'tweet_volume': 19020}, {'name': 'Kellyanne', 'url': 'http://twitter.com/search?q=Kellyanne', 'promoted_content': None, 'query': 'Kellyanne', 'tweet_volume': None}, {'name': 'Kathy Griffin', 'url': 'http://twitter.com/search?q=%22Kathy+Griffin%22', 'promoted_content': None, 'query': '%22Kathy+Griffin%22', 'tweet_volume': None}, {'name': 'Sports Graphics', 'url': 'http://twitter.com/search?q=%22Sports+Graphics%22', 'promoted_content': None, 'query': '%22Sports+Graphics%22', 'tweet_volume': None}, {'name': 'Blewitt', 'url': 'http://twitter.com/search?q=Blewitt', 'promoted_content': None, 'query': 'Blewitt', 'tweet_volume': None}, {'name': 'Blue Velvet', 'url': 'http://twitter.com/search?q=%22Blue+Velvet%22', 'promoted_content': None, 'query': '%22Blue+Velvet%22', 'tweet_volume': None}, {'name': 'Columbine', 'url': 'http://twitter.com/search?q=Columbine', 'promoted_content': None, 'query': 'Columbine', 'tweet_volume': 14439}, {'name': 'Taco Tuesday', 'url': 'http://twitter.com/search?q=%22Taco+Tuesday%22', 'promoted_content': None, 'query': '%22Taco+Tuesday%22', 'tweet_volume': None}, {'name': 'Serbia', 'url': 'http://twitter.com/search?q=Serbia', 'promoted_content': None, 'query': 'Serbia', 'tweet_volume': None}, {'name': 'Kristallnacht', 'url': 'http://twitter.com/search?q=Kristallnacht', 'promoted_content': None, 'query': 'Kristallnacht', 'tweet_volume': 13845}, {'name': 'Fendi x Skims', 'url': 'http://twitter.com/search?q=%22Fendi+x+Skims%22', 'promoted_content': None, 'query': '%22Fendi+x+Skims%22', 'tweet_volume': None}, {'name': 'Eddie Kingston', 'url': 'http://twitter.com/search?q=%22Eddie+Kingston%22', 'promoted_content': None, 'query': '%22Eddie+Kingston%22', 'tweet_volume': None}, {'name': 'Sandy Alderson', 'url': 'http://twitter.com/search?q=%22Sandy+Alderson%22', 'promoted_content': None, 'query': '%22Sandy+Alderson%22', 'tweet_volume': None}, {'name': 'Speak Now', 'url': 'http://twitter.com/search?q=%22Speak+Now%22', 'promoted_content': None, 'query': '%22Speak+Now%22', 'tweet_volume': 28716}, {'name': 'Beach House', 'url': 'http://twitter.com/search?q=%22Beach+House%22', 'promoted_content': None, 'query': '%22Beach+House%22', 'tweet_volume': None}, {'name': 'Jimmy Butler', 'url': 'http://twitter.com/search?q=%22Jimmy+Butler%22', 'promoted_content': None, 'query': '%22Jimmy+Butler%22', 'tweet_volume': 14700}, {'name': 'The NRA', 'url': 'http://twitter.com/search?q=%22The+NRA%22', 'promoted_content': None, 'query': '%22The+NRA%22', 'tweet_volume': 19185}, {'name': 'Ann Coulter', 'url': 'http://twitter.com/search?q=%22Ann+Coulter%22', 'promoted_content': None, 'query': '%22Ann+Coulter%22', 'tweet_volume': 10409}, {'name': 'Ayotte', 'url': 'http://twitter.com/search?q=Ayotte', 'promoted_content': None, 'query': 'Ayotte', 'tweet_volume': None}, {'name': 'Married to the Mob', 'url': 'http://twitter.com/search?q=%22Married+to+the+Mob%22', 'promoted_content': None, 'query': '%22Married+to+the+Mob%22', 'tweet_volume': None}, {'name': 'Jim Jones', 'url': 'http://twitter.com/search?q=%22Jim+Jones%22', 'promoted_content': None, 'query': '%22Jim+Jones%22', 'tweet_volume': None}, {'name': 'Hassan', 'url': 'http://twitter.com/search?q=Hassan', 'promoted_content': None, 'query': 'Hassan', 'tweet_volume': 20114}, {'name': 'Tim Apple', 'url': 'http://twitter.com/search?q=%22Tim+Apple%22', 'promoted_content': None, 'query': '%22Tim+Apple%22', 'tweet_volume': 12645}, {'name': 'Felton', 'url': 'http://twitter.com/search?q=Felton', 'promoted_content': None, 'query': 'Felton', 'tweet_volume': None}, {'name': 'Joey Slye', 'url': 'http://twitter.com/search?q=%22Joey+Slye%22', 'promoted_content': None, 'query': '%22Joey+Slye%22', 'tweet_volume': None}, {'name': 'Battlestar Galactica', 'url': 'http://twitter.com/search?q=%22Battlestar+Galactica%22', 'promoted_content': None, 'query': '%22Battlestar+Galactica%22', 'tweet_volume': None}, {'name': 'Carl Sagan', 'url': 'http://twitter.com/search?q=%22Carl+Sagan%22', 'promoted_content': None, 'query': '%22Carl+Sagan%22', 'tweet_volume': 10352}, {'name': 'Tony Corrente', 'url': 'http://twitter.com/search?q=%22Tony+Corrente%22', 'promoted_content': None, 'query': '%22Tony+Corrente%22', 'tweet_volume': 15253}, {'name': 'Berlin Wall', 'url': 'http://twitter.com/search?q=%22Berlin+Wall%22', 'promoted_content': None, 'query': '%22Berlin+Wall%22', 'tweet_volume': None}, {'name': 'Wyatt Teller', 'url': 'http://twitter.com/search?q=%22Wyatt+Teller%22', 'promoted_content': None, 'query': '%22Wyatt+Teller%22', 'tweet_volume': None}, {'name': 'Getty', 'url': 'http://twitter.com/search?q=Getty', 'promoted_content': None, 'query': 'Getty', 'tweet_volume': 11335}, {'name': 'Joker', 'url': 'http://twitter.com/search?q=Joker', 'promoted_content': None, 'query': 'Joker', 'tweet_volume': 50707}], 'as_of': '2021-11-09T17:15:39Z', 'created_at': '2021-11-08T04:41:03Z', 'locations': [{'name': 'New York', 'woeid': 2459115}]}]\n"
     ]
    }
   ],
   "source": [
    "# Your code here\n",
    "#\n",
    "#\n",
    "NYC_WOE_ID = 2459115\n",
    "NYC_trends = twitter_api.trends.place(_id=NYC_WOE_ID) # get back a callable\n",
    "print(NYC_trends)\n",
    "#\n",
    "#\n",
    "# The WORLD_WOE_ID is an identifier to track different locations worldwide, and it will extract contents\n",
    "# in different languages\n",
    "\n",
    "# Using different WORLD_WOE_ID to retrieve search trend could acquire contents from different countries.\n",
    "# 1 => the whole word, 2459115 => New York, etc."
   ]
  },
  {
   "cell_type": "markdown",
   "metadata": {},
   "source": [
    "### 1.2: Retrieving search results (from Example 1-5/9-3 in Mining the Social Web):"
   ]
  },
  {
   "cell_type": "code",
   "execution_count": 6,
   "metadata": {},
   "outputs": [
    {
     "name": "stdout",
     "output_type": "stream",
     "text": [
      "<class 'list'>\n",
      "{\n",
      " \"created_at\": \"Tue Nov 09 17:14:48 +0000 2021\",\n",
      " \"id\": 1458120903775096832,\n",
      " \"id_str\": \"1458120903775096832\",\n",
      " \"text\": \"RT @NinGeko_Art: THE DARK QUEEN \\n\\na portrait done in 2019 for one @Grimmla1  of one badass design~\\n\\n#Monstober2021 #ThrowbackThursday #TBT\\u2026\",\n",
      " \"truncated\": false,\n",
      " \"entities\": {\n",
      "  \"hashtags\": [\n",
      "   {\n",
      "    \"text\": \"Monstober2021\",\n",
      "    \"indices\": [\n",
      "     100,\n",
      "     114\n",
      "    ]\n",
      "   },\n",
      "   {\n",
      "    \"text\": \"ThrowbackThursday\",\n",
      "    \"indices\": [\n",
      "     115,\n",
      "     133\n",
      "    ]\n",
      "   },\n",
      "   {\n",
      "    \"text\": \"TBT\",\n",
      "    \"indices\": [\n",
      "     134,\n",
      "     138\n",
      "    ]\n",
      "   }\n",
      "  ],\n",
      "  \"symbols\": [],\n",
      "  \"user_mentions\": [\n",
      "   {\n",
      "    \"screen_name\": \"NinGeko_Art\",\n",
      "    \"name\": \"NinGeko (Now on Patreon)\",\n",
      "    \"id\": 844796541609029633,\n",
      "    \"id_str\": \"844796541609029633\",\n",
      "    \"indices\": [\n",
      "     3,\n",
      "     15\n",
      "    ]\n",
      "   },\n",
      "   {\n",
      "    \"screen_name\": \"Grimmla1\",\n",
      "    \"name\": \"Grimmla\",\n",
      "    \"id\": 1069947830079377409,\n",
      "    \"id_str\": \"1069947830079377409\",\n",
      "    \"indices\": [\n",
      "     66,\n",
      "     75\n",
      "    ]\n",
      "   }\n",
      "  ],\n",
      "  \"urls\": []\n",
      " },\n",
      " \"metadata\": {\n",
      "  \"iso_language_code\": \"en\",\n",
      "  \"result_type\": \"recent\"\n",
      " },\n",
      " \"source\": \"<a href=\\\"http://twitter.com/download/android\\\" rel=\\\"nofollow\\\">Twitter for Android</a>\",\n",
      " \"in_reply_to_status_id\": null,\n",
      " \"in_reply_to_status_id_str\": null,\n",
      " \"in_reply_to_user_id\": null,\n",
      " \"in_reply_to_user_id_str\": null,\n",
      " \"in_reply_to_screen_name\": null,\n",
      " \"user\": {\n",
      "  \"id\": 844796541609029633,\n",
      "  \"id_str\": \"844796541609029633\",\n",
      "  \"name\": \"NinGeko (Now on Patreon)\",\n",
      "  \"screen_name\": \"NinGeko_Art\",\n",
      "  \"location\": \"Canada\",\n",
      "  \"description\": \"Freelancing Canadian Illustrator | \\ud83c\\udf41 \\ud83c\\uddf0\\ud83c\\uddff | Leo \\ud83e\\udd81|  Creative, Organized & Multitasks like a pro\\ud83d\\udc48\\ud83d\\udc48\\ud83d\\ude0e\\n\\nhttps://t.co/Rq0ePOt0Sn\\nhttps://t.co/hTtKhijtmd\",\n",
      "  \"url\": null,\n",
      "  \"entities\": {\n",
      "   \"description\": {\n",
      "    \"urls\": [\n",
      "     {\n",
      "      \"url\": \"https://t.co/Rq0ePOt0Sn\",\n",
      "      \"expanded_url\": \"https://www.patreon.com/ningeko\",\n",
      "      \"display_url\": \"patreon.com/ningeko\",\n",
      "      \"indices\": [\n",
      "       98,\n",
      "       121\n",
      "      ]\n",
      "     },\n",
      "     {\n",
      "      \"url\": \"https://t.co/hTtKhijtmd\",\n",
      "      \"expanded_url\": \"http://ko-fi.com/giveningeko\",\n",
      "      \"display_url\": \"ko-fi.com/giveningeko\",\n",
      "      \"indices\": [\n",
      "       122,\n",
      "       145\n",
      "      ]\n",
      "     }\n",
      "    ]\n",
      "   }\n",
      "  },\n",
      "  \"protected\": false,\n",
      "  \"followers_count\": 4003,\n",
      "  \"friends_count\": 1695,\n",
      "  \"listed_count\": 33,\n",
      "  \"created_at\": \"Thu Mar 23 06:22:45 +0000 2017\",\n",
      "  \"favourites_count\": 165224,\n",
      "  \"utc_offset\": null,\n",
      "  \"time_zone\": null,\n",
      "  \"geo_enabled\": false,\n",
      "  \"verified\": false,\n",
      "  \"statuses_count\": 120141,\n",
      "  \"lang\": null,\n",
      "  \"contributors_enabled\": false,\n",
      "  \"is_translator\": false,\n",
      "  \"is_translation_enabled\": false,\n",
      "  \"profile_background_color\": \"000000\",\n",
      "  \"profile_background_image_url\": \"http://abs.twimg.com/images/themes/theme1/bg.png\",\n",
      "  \"profile_background_image_url_https\": \"https://abs.twimg.com/images/themes/theme1/bg.png\",\n",
      "  \"profile_background_tile\": false,\n",
      "  \"profile_image_url\": \"http://pbs.twimg.com/profile_images/1446723416204222465/XYtI5xCx_normal.jpg\",\n",
      "  \"profile_image_url_https\": \"https://pbs.twimg.com/profile_images/1446723416204222465/XYtI5xCx_normal.jpg\",\n",
      "  \"profile_banner_url\": \"https://pbs.twimg.com/profile_banners/844796541609029633/1633760716\",\n",
      "  \"profile_link_color\": \"FAB81E\",\n",
      "  \"profile_sidebar_border_color\": \"000000\",\n",
      "  \"profile_sidebar_fill_color\": \"000000\",\n",
      "  \"profile_text_color\": \"000000\",\n",
      "  \"profile_use_background_image\": false,\n",
      "  \"has_extended_profile\": true,\n",
      "  \"default_profile\": false,\n",
      "  \"default_profile_image\": false,\n",
      "  \"following\": false,\n",
      "  \"follow_request_sent\": false,\n",
      "  \"notifications\": false,\n",
      "  \"translator_type\": \"none\",\n",
      "  \"withheld_in_countries\": []\n",
      " },\n",
      " \"geo\": null,\n",
      " \"coordinates\": null,\n",
      " \"place\": null,\n",
      " \"contributors\": null,\n",
      " \"retweeted_status\": {\n",
      "  \"created_at\": \"Fri Oct 01 19:06:51 +0000 2021\",\n",
      "  \"id\": 1444015975469359107,\n",
      "  \"id_str\": \"1444015975469359107\",\n",
      "  \"text\": \"THE DARK QUEEN \\n\\na portrait done in 2019 for one @Grimmla1  of one badass design~\\n\\n#Monstober2021\\u2026 https://t.co/20GYUYn7o4\",\n",
      "  \"truncated\": true,\n",
      "  \"entities\": {\n",
      "   \"hashtags\": [\n",
      "    {\n",
      "     \"text\": \"Monstober2021\",\n",
      "     \"indices\": [\n",
      "      83,\n",
      "      97\n",
      "     ]\n",
      "    }\n",
      "   ],\n",
      "   \"symbols\": [],\n",
      "   \"user_mentions\": [\n",
      "    {\n",
      "     \"screen_name\": \"Grimmla1\",\n",
      "     \"name\": \"Grimmla\",\n",
      "     \"id\": 1069947830079377409,\n",
      "     \"id_str\": \"1069947830079377409\",\n",
      "     \"indices\": [\n",
      "      49,\n",
      "      58\n",
      "     ]\n",
      "    }\n",
      "   ],\n",
      "   \"urls\": [\n",
      "    {\n",
      "     \"url\": \"https://t.co/20GYUYn7o4\",\n",
      "     \"expanded_url\": \"https://twitter.com/i/web/status/1444015975469359107\",\n",
      "     \"display_url\": \"twitter.com/i/web/status/1\\u2026\",\n",
      "     \"indices\": [\n",
      "      99,\n",
      "      122\n",
      "     ]\n",
      "    }\n",
      "   ]\n",
      "  },\n",
      "  \"metadata\": {\n",
      "   \"iso_language_code\": \"en\",\n",
      "   \"result_type\": \"recent\"\n",
      "  },\n",
      "  \"source\": \"<a href=\\\"https://mobile.twitter.com\\\" rel=\\\"nofollow\\\">Twitter Web App</a>\",\n",
      "  \"in_reply_to_status_id\": null,\n",
      "  \"in_reply_to_status_id_str\": null,\n",
      "  \"in_reply_to_user_id\": null,\n",
      "  \"in_reply_to_user_id_str\": null,\n",
      "  \"in_reply_to_screen_name\": null,\n",
      "  \"user\": {\n",
      "   \"id\": 844796541609029633,\n",
      "   \"id_str\": \"844796541609029633\",\n",
      "   \"name\": \"NinGeko (Now on Patreon)\",\n",
      "   \"screen_name\": \"NinGeko_Art\",\n",
      "   \"location\": \"Canada\",\n",
      "   \"description\": \"Freelancing Canadian Illustrator | \\ud83c\\udf41 \\ud83c\\uddf0\\ud83c\\uddff | Leo \\ud83e\\udd81|  Creative, Organized & Multitasks like a pro\\ud83d\\udc48\\ud83d\\udc48\\ud83d\\ude0e\\n\\nhttps://t.co/Rq0ePOt0Sn\\nhttps://t.co/hTtKhijtmd\",\n",
      "   \"url\": null,\n",
      "   \"entities\": {\n",
      "    \"description\": {\n",
      "     \"urls\": [\n",
      "      {\n",
      "       \"url\": \"https://t.co/Rq0ePOt0Sn\",\n",
      "       \"expanded_url\": \"https://www.patreon.com/ningeko\",\n",
      "       \"display_url\": \"patreon.com/ningeko\",\n",
      "       \"indices\": [\n",
      "        98,\n",
      "        121\n",
      "       ]\n",
      "      },\n",
      "      {\n",
      "       \"url\": \"https://t.co/hTtKhijtmd\",\n",
      "       \"expanded_url\": \"http://ko-fi.com/giveningeko\",\n",
      "       \"display_url\": \"ko-fi.com/giveningeko\",\n",
      "       \"indices\": [\n",
      "        122,\n",
      "        145\n",
      "       ]\n",
      "      }\n",
      "     ]\n",
      "    }\n",
      "   },\n",
      "   \"protected\": false,\n",
      "   \"followers_count\": 4003,\n",
      "   \"friends_count\": 1695,\n",
      "   \"listed_count\": 33,\n",
      "   \"created_at\": \"Thu Mar 23 06:22:45 +0000 2017\",\n",
      "   \"favourites_count\": 165224,\n",
      "   \"utc_offset\": null,\n",
      "   \"time_zone\": null,\n",
      "   \"geo_enabled\": false,\n",
      "   \"verified\": false,\n",
      "   \"statuses_count\": 120141,\n",
      "   \"lang\": null,\n",
      "   \"contributors_enabled\": false,\n",
      "   \"is_translator\": false,\n",
      "   \"is_translation_enabled\": false,\n",
      "   \"profile_background_color\": \"000000\",\n",
      "   \"profile_background_image_url\": \"http://abs.twimg.com/images/themes/theme1/bg.png\",\n",
      "   \"profile_background_image_url_https\": \"https://abs.twimg.com/images/themes/theme1/bg.png\",\n",
      "   \"profile_background_tile\": false,\n",
      "   \"profile_image_url\": \"http://pbs.twimg.com/profile_images/1446723416204222465/XYtI5xCx_normal.jpg\",\n",
      "   \"profile_image_url_https\": \"https://pbs.twimg.com/profile_images/1446723416204222465/XYtI5xCx_normal.jpg\",\n",
      "   \"profile_banner_url\": \"https://pbs.twimg.com/profile_banners/844796541609029633/1633760716\",\n",
      "   \"profile_link_color\": \"FAB81E\",\n",
      "   \"profile_sidebar_border_color\": \"000000\",\n",
      "   \"profile_sidebar_fill_color\": \"000000\",\n",
      "   \"profile_text_color\": \"000000\",\n",
      "   \"profile_use_background_image\": false,\n",
      "   \"has_extended_profile\": true,\n",
      "   \"default_profile\": false,\n",
      "   \"default_profile_image\": false,\n",
      "   \"following\": false,\n",
      "   \"follow_request_sent\": false,\n",
      "   \"notifications\": false,\n",
      "   \"translator_type\": \"none\",\n",
      "   \"withheld_in_countries\": []\n",
      "  },\n",
      "  \"geo\": null,\n",
      "  \"coordinates\": null,\n",
      "  \"place\": null,\n",
      "  \"contributors\": null,\n",
      "  \"is_quote_status\": false,\n",
      "  \"retweet_count\": 87,\n",
      "  \"favorite_count\": 361,\n",
      "  \"favorited\": false,\n",
      "  \"retweeted\": false,\n",
      "  \"possibly_sensitive\": false,\n",
      "  \"lang\": \"en\"\n",
      " },\n",
      " \"is_quote_status\": false,\n",
      " \"retweet_count\": 87,\n",
      " \"favorite_count\": 0,\n",
      " \"favorited\": false,\n",
      " \"retweeted\": false,\n",
      " \"lang\": \"en\"\n",
      "}\n"
     ]
    }
   ],
   "source": [
    "q = '#ThrowbackThursday' # XXX: Set this variable to a trending topic, or anything else you like. \n",
    "count = 100 # number of results to retrieve\n",
    "\n",
    "# See https://dev.twitter.com/docs/api/1.1/get/search/tweets for more info\n",
    "\n",
    "search_results = twitter_api.search.tweets(q=q, count=count) # search for your query 'q' 100 times\n",
    "statuses = search_results['statuses'] # extract the tweets found\n",
    "\n",
    "# The following code allows you to print in a nice format the contents of search_results\n",
    "import json\n",
    "print(type(statuses))\n",
    "print(json.dumps(statuses[0], indent=1))"
   ]
  },
  {
   "cell_type": "markdown",
   "metadata": {},
   "source": [
    "### Task 2\n",
    "\n",
    "In the cell below, create a second variable (e.g. `statuses2`) that holds the results of a query other than the one presented above. Think about a query that would yield very different results than the first one, for example one that may yield a shorter output or about a different topic."
   ]
  },
  {
   "cell_type": "code",
   "execution_count": 8,
   "metadata": {},
   "outputs": [
    {
     "name": "stdout",
     "output_type": "stream",
     "text": [
      "<class 'list'>\n",
      "{\n",
      "    \"created_at\": \"Tue Nov 09 17:16:24 +0000 2021\",\n",
      "    \"id\": 1458121306885525504,\n",
      "    \"id_str\": \"1458121306885525504\",\n",
      "    \"text\": \"RT @INALIMEXICO: #Ent\\u00e9rate\\n\\nTr\\u00edptico \\u201cCultura de la Prevenci\\u00f3n\\u201d. Consulta el material en lenguas ind\\u00edgenas sobre el #Coronavirus #COVID19.\\u2026\",\n",
      "    \"truncated\": false,\n",
      "    \"entities\": {\n",
      "        \"hashtags\": [\n",
      "            {\n",
      "                \"text\": \"Ent\\u00e9rate\",\n",
      "                \"indices\": [\n",
      "                    17,\n",
      "                    26\n",
      "                ]\n",
      "            },\n",
      "            {\n",
      "                \"text\": \"Coronavirus\",\n",
      "                \"indices\": [\n",
      "                    116,\n",
      "                    128\n",
      "                ]\n",
      "            },\n",
      "            {\n",
      "                \"text\": \"COVID19\",\n",
      "                \"indices\": [\n",
      "                    129,\n",
      "                    137\n",
      "                ]\n",
      "            }\n",
      "        ],\n",
      "        \"symbols\": [],\n",
      "        \"user_mentions\": [\n",
      "            {\n",
      "                \"screen_name\": \"INALIMEXICO\",\n",
      "                \"name\": \"INALIMEXICO\",\n",
      "                \"id\": 183760159,\n",
      "                \"id_str\": \"183760159\",\n",
      "                \"indices\": [\n",
      "                    3,\n",
      "                    15\n",
      "                ]\n",
      "            }\n",
      "        ],\n",
      "        \"urls\": []\n",
      "    },\n",
      "    \"metadata\": {\n",
      "        \"result_type\": \"recent\",\n",
      "        \"iso_language_code\": \"ca\"\n",
      "    },\n",
      "    \"source\": \"<a href=\\\"https://mobile.twitter.com\\\" rel=\\\"nofollow\\\">Twitter Web App</a>\",\n",
      "    \"in_reply_to_status_id\": null,\n",
      "    \"in_reply_to_status_id_str\": null,\n",
      "    \"in_reply_to_user_id\": null,\n",
      "    \"in_reply_to_user_id_str\": null,\n",
      "    \"in_reply_to_screen_name\": null,\n",
      "    \"user\": {\n",
      "        \"id\": 805505322,\n",
      "        \"id_str\": \"805505322\",\n",
      "        \"name\": \"UNIIQUIM\",\n",
      "        \"screen_name\": \"UNIIQUIM\",\n",
      "        \"location\": \"instituto de quimica unam\",\n",
      "        \"description\": \"Es la Unidad de Inform\\u00e1tica del Instituto de Qu\\u00edmica encargada de generar una base de datos de acceso p\\u00fablico\",\n",
      "        \"url\": \"https://t.co/5l5UjWb6sO\",\n",
      "        \"entities\": {\n",
      "            \"url\": {\n",
      "                \"urls\": [\n",
      "                    {\n",
      "                        \"url\": \"https://t.co/5l5UjWb6sO\",\n",
      "                        \"expanded_url\": \"http://uniiquim.iquimica.unam.mx/\",\n",
      "                        \"display_url\": \"uniiquim.iquimica.unam.mx\",\n",
      "                        \"indices\": [\n",
      "                            0,\n",
      "                            23\n",
      "                        ]\n",
      "                    }\n",
      "                ]\n",
      "            },\n",
      "            \"description\": {\n",
      "                \"urls\": []\n",
      "            }\n",
      "        },\n",
      "        \"protected\": false,\n",
      "        \"followers_count\": 14,\n",
      "        \"friends_count\": 57,\n",
      "        \"listed_count\": 0,\n",
      "        \"created_at\": \"Wed Sep 05 22:22:51 +0000 2012\",\n",
      "        \"favourites_count\": 110,\n",
      "        \"utc_offset\": null,\n",
      "        \"time_zone\": null,\n",
      "        \"geo_enabled\": false,\n",
      "        \"verified\": false,\n",
      "        \"statuses_count\": 147,\n",
      "        \"lang\": null,\n",
      "        \"contributors_enabled\": false,\n",
      "        \"is_translator\": false,\n",
      "        \"is_translation_enabled\": false,\n",
      "        \"profile_background_color\": \"000000\",\n",
      "        \"profile_background_image_url\": \"http://abs.twimg.com/images/themes/theme13/bg.gif\",\n",
      "        \"profile_background_image_url_https\": \"https://abs.twimg.com/images/themes/theme13/bg.gif\",\n",
      "        \"profile_background_tile\": false,\n",
      "        \"profile_image_url\": \"http://pbs.twimg.com/profile_images/895773544843431936/j19ec0UJ_normal.jpg\",\n",
      "        \"profile_image_url_https\": \"https://pbs.twimg.com/profile_images/895773544843431936/j19ec0UJ_normal.jpg\",\n",
      "        \"profile_link_color\": \"1B95E0\",\n",
      "        \"profile_sidebar_border_color\": \"000000\",\n",
      "        \"profile_sidebar_fill_color\": \"000000\",\n",
      "        \"profile_text_color\": \"000000\",\n",
      "        \"profile_use_background_image\": false,\n",
      "        \"has_extended_profile\": false,\n",
      "        \"default_profile\": false,\n",
      "        \"default_profile_image\": false,\n",
      "        \"following\": false,\n",
      "        \"follow_request_sent\": false,\n",
      "        \"notifications\": false,\n",
      "        \"translator_type\": \"none\",\n",
      "        \"withheld_in_countries\": []\n",
      "    },\n",
      "    \"geo\": null,\n",
      "    \"coordinates\": null,\n",
      "    \"place\": null,\n",
      "    \"contributors\": null,\n",
      "    \"retweeted_status\": {\n",
      "        \"created_at\": \"Tue Nov 09 01:00:00 +0000 2021\",\n",
      "        \"id\": 1457875586110693381,\n",
      "        \"id_str\": \"1457875586110693381\",\n",
      "        \"text\": \"#Ent\\u00e9rate\\n\\nTr\\u00edptico \\u201cCultura de la Prevenci\\u00f3n\\u201d. Consulta el material en lenguas ind\\u00edgenas sobre el #Coronavirus\\u2026 https://t.co/q4JHZsN4UO\",\n",
      "        \"truncated\": true,\n",
      "        \"entities\": {\n",
      "            \"hashtags\": [\n",
      "                {\n",
      "                    \"text\": \"Ent\\u00e9rate\",\n",
      "                    \"indices\": [\n",
      "                        0,\n",
      "                        9\n",
      "                    ]\n",
      "                },\n",
      "                {\n",
      "                    \"text\": \"Coronavirus\",\n",
      "                    \"indices\": [\n",
      "                        99,\n",
      "                        111\n",
      "                    ]\n",
      "                }\n",
      "            ],\n",
      "            \"symbols\": [],\n",
      "            \"user_mentions\": [],\n",
      "            \"urls\": [\n",
      "                {\n",
      "                    \"url\": \"https://t.co/q4JHZsN4UO\",\n",
      "                    \"expanded_url\": \"https://twitter.com/i/web/status/1457875586110693381\",\n",
      "                    \"display_url\": \"twitter.com/i/web/status/1\\u2026\",\n",
      "                    \"indices\": [\n",
      "                        113,\n",
      "                        136\n",
      "                    ]\n",
      "                }\n",
      "            ]\n",
      "        },\n",
      "        \"metadata\": {\n",
      "            \"result_type\": \"recent\",\n",
      "            \"iso_language_code\": \"ca\"\n",
      "        },\n",
      "        \"source\": \"<a href=\\\"https://about.twitter.com/products/tweetdeck\\\" rel=\\\"nofollow\\\">TweetDeck</a>\",\n",
      "        \"in_reply_to_status_id\": null,\n",
      "        \"in_reply_to_status_id_str\": null,\n",
      "        \"in_reply_to_user_id\": null,\n",
      "        \"in_reply_to_user_id_str\": null,\n",
      "        \"in_reply_to_screen_name\": null,\n",
      "        \"user\": {\n",
      "            \"id\": 183760159,\n",
      "            \"id_str\": \"183760159\",\n",
      "            \"name\": \"INALIMEXICO\",\n",
      "            \"screen_name\": \"INALIMEXICO\",\n",
      "            \"location\": \"\",\n",
      "            \"description\": \"INALI busca generar un ambiente multicultural y multiling\\u00fce, promoviendo que el patrimonio ling\\u00fc\\u00edstico impacte en todos los \\u00e1mbitos de la vida p\\u00fablica y privada\",\n",
      "            \"url\": \"https://t.co/uQmA6Ceodd\",\n",
      "            \"entities\": {\n",
      "                \"url\": {\n",
      "                    \"urls\": [\n",
      "                        {\n",
      "                            \"url\": \"https://t.co/uQmA6Ceodd\",\n",
      "                            \"expanded_url\": \"http://www.inali.gob.mx/\",\n",
      "                            \"display_url\": \"inali.gob.mx\",\n",
      "                            \"indices\": [\n",
      "                                0,\n",
      "                                23\n",
      "                            ]\n",
      "                        }\n",
      "                    ]\n",
      "                },\n",
      "                \"description\": {\n",
      "                    \"urls\": []\n",
      "                }\n",
      "            },\n",
      "            \"protected\": false,\n",
      "            \"followers_count\": 20275,\n",
      "            \"friends_count\": 582,\n",
      "            \"listed_count\": 163,\n",
      "            \"created_at\": \"Fri Aug 27 20:49:24 +0000 2010\",\n",
      "            \"favourites_count\": 17339,\n",
      "            \"utc_offset\": null,\n",
      "            \"time_zone\": null,\n",
      "            \"geo_enabled\": true,\n",
      "            \"verified\": true,\n",
      "            \"statuses_count\": 41083,\n",
      "            \"lang\": null,\n",
      "            \"contributors_enabled\": false,\n",
      "            \"is_translator\": false,\n",
      "            \"is_translation_enabled\": false,\n",
      "            \"profile_background_color\": \"FFFFFF\",\n",
      "            \"profile_background_image_url\": \"http://abs.twimg.com/images/themes/theme1/bg.png\",\n",
      "            \"profile_background_image_url_https\": \"https://abs.twimg.com/images/themes/theme1/bg.png\",\n",
      "            \"profile_background_tile\": false,\n",
      "            \"profile_image_url\": \"http://pbs.twimg.com/profile_images/1446605681650503680/2Z2jJT5B_normal.jpg\",\n",
      "            \"profile_image_url_https\": \"https://pbs.twimg.com/profile_images/1446605681650503680/2Z2jJT5B_normal.jpg\",\n",
      "            \"profile_banner_url\": \"https://pbs.twimg.com/profile_banners/183760159/1634999142\",\n",
      "            \"profile_link_color\": \"E83200\",\n",
      "            \"profile_sidebar_border_color\": \"000000\",\n",
      "            \"profile_sidebar_fill_color\": \"DDEEF6\",\n",
      "            \"profile_text_color\": \"333333\",\n",
      "            \"profile_use_background_image\": false,\n",
      "            \"has_extended_profile\": false,\n",
      "            \"default_profile\": false,\n",
      "            \"default_profile_image\": false,\n",
      "            \"following\": false,\n",
      "            \"follow_request_sent\": false,\n",
      "            \"notifications\": false,\n",
      "            \"translator_type\": \"none\",\n",
      "            \"withheld_in_countries\": []\n",
      "        },\n",
      "        \"geo\": null,\n",
      "        \"coordinates\": null,\n",
      "        \"place\": null,\n",
      "        \"contributors\": null,\n",
      "        \"is_quote_status\": false,\n",
      "        \"retweet_count\": 2,\n",
      "        \"favorite_count\": 1,\n",
      "        \"favorited\": false,\n",
      "        \"retweeted\": false,\n",
      "        \"possibly_sensitive\": false,\n",
      "        \"lang\": \"ca\"\n",
      "    },\n",
      "    \"is_quote_status\": false,\n",
      "    \"retweet_count\": 2,\n",
      "    \"favorite_count\": 0,\n",
      "    \"favorited\": false,\n",
      "    \"retweeted\": false,\n",
      "    \"lang\": \"ca\"\n",
      "}\n"
     ]
    }
   ],
   "source": [
    "# your code here\n",
    "#\n",
    "#\n",
    "q = \"#Coronavirus\"\n",
    "count = 10\n",
    "search_results_2 = twitter_api.search.tweets(q=q, count=count)\n",
    "statuses_2 = search_results_2[\"statuses\"]\n",
    "#\n",
    "#\n",
    "#\n",
    "#\n",
    "print(type(statuses_2))\n",
    "print(json.dumps(statuses_2[0], indent=4))"
   ]
  },
  {
   "cell_type": "markdown",
   "metadata": {},
   "source": [
    "## Part 2: Extracting text, screen names, and hashtags from tweets (from Example 1-6 in Mining the Social Web)\n",
    "\n",
    "Simply printing all the search results to screen is nice, but to really start analysing them, it is handy to select the interesting parts and store them in a different structure such as a list. \n",
    "\n",
    "In this example you are using a thing called \"List Comprehension\".\n",
    "\n",
    "### 2.1 List Comprehensions\n",
    "List comprehension is a powerful construct that allows to succinctly build a list.\n",
    "With it you can process items from any iterable (e.g. dictionaries, lists, tuples, iterators...) and output a list while optionally performing an operation on each value.\n",
    "\n",
    "Here's a few examples:"
   ]
  },
  {
   "cell_type": "code",
   "execution_count": 8,
   "metadata": {},
   "outputs": [
    {
     "name": "stdout",
     "output_type": "stream",
     "text": [
      "[0, 2, 4, 6, 8, 10, 12, 14, 16, 18]\n",
      "[1, 9, 25, 49, 81]\n",
      "['The', 'Social', 'Web']\n",
      "[3, 6, 3]\n",
      "[1, 2, 3, 4, 5, 6, 7, 8, 9]\n"
     ]
    }
   ],
   "source": [
    "# double all values from 0 to 9\n",
    "double_list = [i*2 for i in range(10)]\n",
    "# raise to the power of 2, but only if the number is uneven\n",
    "power_even_list = [i**2 for i in range(10) if i%2!=0]\n",
    "# clean strings in a tuple\n",
    "stripped_lines = [x.strip() for x in ('The\\n', 'Social\\n', 'Web\\n')]\n",
    "# return length of each string in stripped_lines\n",
    "len_str_lines = [len(s) for s in stripped_lines]\n",
    "# finally, we can nest list comprehensions to flatten a list of lists:\n",
    "list_of_lists = [[1, 2, 3], [4, 5, 6], [7, 8, 9]]\n",
    "range_9 = [x for y in list_of_lists for x in y]\n",
    "\n",
    "print(double_list)\n",
    "print(power_even_list)\n",
    "print(stripped_lines)\n",
    "print(len_str_lines)\n",
    "print(range_9)"
   ]
  },
  {
   "cell_type": "markdown",
   "metadata": {},
   "source": [
    "### 2.2 Parsing text, screen names and hashtags from tweets\n",
    "*(from Example 1-6 in Mining the Social Web)*\n",
    "\n",
    "Hereafter, we'll be creating a variable `status_texts` of type list. \\\n",
    "The list will be filled with the `text` elements from each `status`, whereas `status` comes from looping through all `statuses` in the `search_results` list (1.2). \\\n",
    "Look up the list comprehensions in your Python reference materials to make sure you understand what's happening here. "
   ]
  },
  {
   "cell_type": "code",
   "execution_count": 9,
   "metadata": {},
   "outputs": [
    {
     "name": "stdout",
     "output_type": "stream",
     "text": [
      "[\n",
      " \"RT @NinGeko_Art: THE DARK QUEEN \\n\\na portrait done in 2019 for one @Grimmla1  of one badass design~\\n\\n#Monstober2021 #ThrowbackThursday #TBT\\u2026\",\n",
      " \"RT @Quirkiliciouss: Throwback Thursday:\\n\\\"Whole Hog\\\" - Aug 2016\\n#tbt #ThrowbackThursday #digitalart #digitalpainting #roadhog #overwatchart\\u2026\",\n",
      " \"RT @Quirkiliciouss: Throwback Thursday:\\n\\\"I have opened the path!\\\" - Aug 2016\\n\\nHas Symmetra gone through the most Ultimates? \\ud83d\\ude05\\n\\n#tbt #throwb\\u2026\",\n",
      " \"#ThrowbackThursday to when our director, Izzy Chan @izzy_in_bliss presented at the 2017 national at home dad conven\\u2026 https://t.co/OgUl73Dpb8\",\n",
      " \"RT @AtlantaDream: College Candice Dupree \\u27a1\\ufe0f WNBA Vet Candice Dupree \\ud83e\\udd70 \\n\\n#DoItForTheDream #ThrowbackThursday https://t.co/KyfXgFmLU9\"\n",
      "]\n",
      "[\n",
      " \"NinGeko_Art\",\n",
      " \"Grimmla1\",\n",
      " \"Quirkiliciouss\",\n",
      " \"Quirkiliciouss\",\n",
      " \"AtlantaDream\"\n",
      "]\n",
      "[\n",
      " \"Monstober2021\",\n",
      " \"ThrowbackThursday\",\n",
      " \"TBT\",\n",
      " \"tbt\",\n",
      " \"ThrowbackThursday\"\n",
      "]\n",
      "[\n",
      " \"RT\",\n",
      " \"@NinGeko_Art:\",\n",
      " \"THE\",\n",
      " \"DARK\",\n",
      " \"QUEEN\"\n",
      "]\n"
     ]
    }
   ],
   "source": [
    "status_texts = [ status['text'] for status in statuses ]\n",
    "# the escape character \"\\\" allows for the list comprehension to continue\n",
    "# on a new line. While not strictly necessary, it makes code more readable\n",
    "# for your fellow programmers.\n",
    "screen_names = [ user_mention['screen_name'] for status in statuses \\\n",
    "                for user_mention in status['entities']['user_mentions'] ]\n",
    "\n",
    "hashtags = [ hashtag['text'] for status in statuses \\\n",
    "        for hashtag in status['entities']['hashtags'] ]\n",
    "\n",
    "# Compute a collection of all words from all tweets\n",
    "words = [ w for t in status_texts for w in t.split() ] #split the string on the empty spaces\n",
    "\n",
    "# Explore the first 5 items for each...\n",
    "print(json.dumps(status_texts[0:5], indent=1))\n",
    "print(json.dumps(screen_names[0:5], indent=1))\n",
    "print(json.dumps(hashtags[0:5], indent=1))\n",
    "print(json.dumps(words[0:5], indent=1))"
   ]
  },
  {
   "cell_type": "markdown",
   "metadata": {},
   "source": [
    "### Task 3\n",
    "\n",
    "You are now ready to parse usernames, hashtags and text from the results you previously obtained in Task 2 (e.g. `statuses_2`). While doing it, make sure to leave the variables created in 2.2 untouched. Instead, create your own variable names, which you'll be using soon.\n"
   ]
  },
  {
   "cell_type": "code",
   "execution_count": 10,
   "metadata": {},
   "outputs": [
    {
     "name": "stdout",
     "output_type": "stream",
     "text": [
      "[\n",
      " \"RT @INALIMEXICO: #Ent\\u00e9rate\\n\\nTr\\u00edptico \\u201cCultura de la Prevenci\\u00f3n\\u201d. Consulta el material en lenguas ind\\u00edgenas sobre el #Coronavirus #COVID19.\\u2026\",\n",
      " \"+++ #Bollettino #Coronavirus #Sicilia +++\\n\\nEcco il bollettino con i dati aggiornati sull'andamento della #pandemia\\u2026 https://t.co/M0cvuJZ6NA\",\n",
      " \"RT @dw_espanol: El #coronavirus arrecia en #Alemania\\n\\nLa #incidencia semanal es la m\\u00e1s alta desde que comenz\\u00f3 la pandemia.\\nM\\u00e1s de 25 millon\\u2026\",\n",
      " \"RT @TigressEllie: England 9th November\\n\\nChild Covid total Hospital Admissions rise to 11,097 a rise of 27 children admitted overnight \\n\\n0-5\\u2026\",\n",
      " \"RT @ScotGovFM: FM @NicolaSturgeon caught up with Health Secretary @HumzaYousaf at #COP26 today to discuss the current state of the #coronav\\u2026\"\n",
      "]\n",
      "[\n",
      " \"INALIMEXICO\",\n",
      " \"dw_espanol\",\n",
      " \"TigressEllie\",\n",
      " \"ScotGovFM\",\n",
      " \"NicolaSturgeon\"\n",
      "]\n",
      "[\n",
      " \"Ent\\u00e9rate\",\n",
      " \"Coronavirus\",\n",
      " \"COVID19\",\n",
      " \"Bollettino\",\n",
      " \"Coronavirus\"\n",
      "]\n",
      "[\n",
      " \"RT\",\n",
      " \"@INALIMEXICO:\",\n",
      " \"#Ent\\u00e9rate\",\n",
      " \"Tr\\u00edptico\",\n",
      " \"\\u201cCultura\"\n",
      "]\n"
     ]
    }
   ],
   "source": [
    "# your code here\n",
    "#\n",
    "#\n",
    "status_text_2 = [status[\"text\"] for status in statuses_2]\n",
    "screen_names_2 = [user_mention[\"screen_name\"] for status in statuses_2\\\n",
    "                for user_mention in status[\"entities\"][\"user_mentions\"]]\n",
    "hashtags_2 = [ hashtag['text'] for status in statuses_2\\\n",
    "        for hashtag in status['entities']['hashtags'] ]\n",
    "words_2 = [ w for t in status_text_2 for w in t.split() ]\n",
    "print(json.dumps(status_text_2[0:5], indent=1))\n",
    "print(json.dumps(screen_names_2[0:5], indent=1))\n",
    "print(json.dumps(hashtags_2[0:5], indent=1))\n",
    "print(json.dumps(words_2[0:5], indent=1))\n",
    "#\n",
    "#"
   ]
  },
  {
   "cell_type": "markdown",
   "metadata": {},
   "source": [
    "## Part 3: Creating a basic frequency distribution from words in tweets\n",
    "*(from Examples 1-7 in Mining the Social Web)* \n",
    "\n",
    "\n",
    "In the cell below we display the 10 most common hashtag instances:"
   ]
  },
  {
   "cell_type": "code",
   "execution_count": 12,
   "metadata": {},
   "outputs": [
    {
     "name": "stdout",
     "output_type": "stream",
     "text": [
      "[('ThrowbackThursday', 40), ('DoItForTheDream', 6), ('throwbackthursday', 6), ('TBT', 3), ('2PAC', 3), ('Monstober2021', 2), ('tbt', 2), ('Autumn', 2), ('Moscow', 2), ('autunno', 2)]\n"
     ]
    }
   ],
   "source": [
    "from collections import Counter\n",
    "\n",
    "for item in [words, screen_names, hashtags]:\n",
    "    c = Counter(item)\n",
    "    \n",
    "print(c.most_common()[:10]) # top 10"
   ]
  },
  {
   "cell_type": "markdown",
   "metadata": {},
   "source": [
    "Your output should look something like this: \\\n",
    "`[('ThrowbackThursday', 34), ('throwbackthursday', 11), ('TBT', 6), ('ThrowBackThursday', 6), ('Trivia', 3), ('madoka_magica', 2), ('New', 2), ('EURO2020', 2), ('artists', 2)]`\n",
    "\n",
    "### Task 4\n",
    "Show hashtags frequency for results that you obtained in Task 3. Think about possible explanations for the different results you get from the analyses for the different queries.\n"
   ]
  },
  {
   "cell_type": "code",
   "execution_count": 14,
   "metadata": {},
   "outputs": [
    {
     "name": "stdout",
     "output_type": "stream",
     "text": [
      "[('Coronavirus', 3), ('Entérate', 1), ('COVID19', 1), ('Bollettino', 1), ('Sicilia', 1)]\n"
     ]
    }
   ],
   "source": [
    "# You code here\n",
    "#\n",
    "#\n",
    "for item in [hashtags_2]:\n",
    "    c = Counter(item)\n",
    "    \n",
    "print(c.most_common()[:5])\n",
    "#\n",
    "#\n",
    "#"
   ]
  },
  {
   "cell_type": "markdown",
   "metadata": {},
   "source": [
    "### 3.1 Storing your results\n",
    "So far, we have been storing the data in working memory. Often it's handy to store your data to disk so you can retrieve it in a next session. \n",
    "\n",
    "The pickle module lets you do exactly that, by serializing data in a binary format.\n"
   ]
  },
  {
   "cell_type": "code",
   "execution_count": 15,
   "metadata": {},
   "outputs": [],
   "source": [
    "import pickle\n",
    "\n",
    "filepath = \"my_data.pickle\"\n",
    "# this indented python syntax is broadly defined as \"context manager\".\n",
    "# This means that everything happening under its indentation will use f\n",
    "# as file handle to filepath. The Shortand `wb` stands for \"write binary\",\n",
    "# which is how we serialize data to disk.\n",
    "with open(filepath, \"wb\") as f:\n",
    "    pickle.dump(words, f) # write the contents of list 'words' to file 'f'\n",
    "    \n",
    "# Note that, after the end of the indented block, the file is automatically closed.\n",
    "# Hence, no memory resource on your system is wasted idly."
   ]
  },
  {
   "cell_type": "markdown",
   "metadata": {},
   "source": [
    "If you browse to your working directory, you should find a file there named \"myData.pickle\". You can open this in a text editor, or load its contents back into a variable to do some more analyses on.\n"
   ]
  },
  {
   "cell_type": "code",
   "execution_count": 16,
   "metadata": {},
   "outputs": [
    {
     "name": "stdout",
     "output_type": "stream",
     "text": [
      "['RT', '@NinGeko_Art:', 'THE', 'DARK', 'QUEEN', 'a', 'portrait', 'done', 'in', '2019', 'for', 'one', '@Grimmla1', 'of', 'one', 'badass', 'design~', '#Monstober2021', '#ThrowbackThursday', '#TBT…', 'RT', '@Quirkiliciouss:', 'Throwback', 'Thursday:', '\"Whole', 'Hog\"', '-', 'Aug', '2016', '#tbt', '#ThrowbackThursday', '#digitalart', '#digitalpainting', '#roadhog', '#overwatchart…', 'RT', '@Quirkiliciouss:', 'Throwback', 'Thursday:', '\"I', 'have', 'opened', 'the', 'path!\"', '-', 'Aug', '2016', 'Has', 'Symmetra', 'gone', 'through', 'the', 'most', 'Ultimates?', '😅', '#tbt', '#throwb…', '#ThrowbackThursday', 'to', 'when', 'our', 'director,', 'Izzy', 'Chan', '@izzy_in_bliss', 'presented', 'at', 'the', '2017', 'national', 'at', 'home', 'dad', 'conven…', 'https://t.co/OgUl73Dpb8', 'RT', '@AtlantaDream:', 'College', 'Candice', 'Dupree', '➡️', 'WNBA', 'Vet', 'Candice', 'Dupree', '🥰', '#DoItForTheDream', '#ThrowbackThursday', 'https://t.co/KyfXgFmLU9', '#throwbackthursday', 'to', 'our', 'project', 'with', '@UWestGA', 'where', 'we', 'built', 'out', 'the', '3rd', 'floor', 'atrium', 'space', 'in', 'the', 'Technology-Enh…', 'https://t.co/mzc98SkS1x', 'RT', '@dphistory:', 'In', '1938,', 'the', 'Des', 'Plaines', 'Theatre', 'marquee', 'advertised', 'showings', 'of', '\"Arsene', 'Lupin', 'Returns\"', 'and', '\"Her', 'Jungle', 'Love\".', 'Stop', 'by', 'the', 'Hi…', 'How', 'To', 'Lose', 'Weight', 'Fast', 'Tags:', '#petitdejeuner', '#yaourt', '#fruitshi', '#throwbackthursday', '#findingselflove', '#loveyourself…', 'https://t.co/fD40cUoqGH', 'RT', '@NinGeko_Art:', 'THE', 'DARK', 'QUEEN', 'a', 'portrait', 'done', 'in', '2019', 'for', 'one', '@Grimmla1', 'of', 'one', 'badass', 'design~', '#Monstober2021', '#ThrowbackThursday', '#TBT…', 'RT', '@AtlantaDream:', 'College', 'Candice', 'Dupree', '➡️', 'WNBA', 'Vet', 'Candice', 'Dupree', '🥰', '#DoItForTheDream', '#ThrowbackThursday', 'https://t.co/KyfXgFmLU9', 'RT', '@smugdoge:', '#throwbackthursday', 'i', 'guess', 'https://t.co/BeOsHNbFIb', 'this', 'was', 'at', '50k', 'mcap', 'lmao', 'https://t.co/E0FUjcCUYJ', 'RT', '@AtlantaDream:', 'College', 'Candice', 'Dupree', '➡️', 'WNBA', 'Vet', 'Candice', 'Dupree', '🥰', '#DoItForTheDream', '#ThrowbackThursday', 'https://t.co/KyfXgFmLU9', 'RT', '@AtlantaDream:', 'College', 'Candice', 'Dupree', '➡️', 'WNBA', 'Vet', 'Candice', 'Dupree', '🥰', '#DoItForTheDream', '#ThrowbackThursday', 'https://t.co/KyfXgFmLU9', 'RT', '@AtlantaDream:', 'College', 'Candice', 'Dupree', '➡️', 'WNBA', 'Vet', 'Candice', 'Dupree', '🥰', '#DoItForTheDream', '#ThrowbackThursday', 'https://t.co/KyfXgFmLU9', 'College', 'Candice', 'Dupree', '➡️', 'WNBA', 'Vet', 'Candice', 'Dupree', '🥰', '#DoItForTheDream', '#ThrowbackThursday', 'https://t.co/KyfXgFmLU9', 'RT', '@TUWpodcast:', \"It's\", 'time', 'for', 'another', '#ThrowbackThursday!', 'Listen', 'to', 'our', 'episode', 'on', 'sustainable', 'hotel', 'water', 'management:', 'https://t.co/Rv1rhgU…', 'Alliteration', 'might', 'dictate', 'I', 'share', 'this', 'on', '#throwbackthursday', 'instead,', 'but', \"'thuck'\", 'it.', 'Gutter', 'Glow:', 'I', 'made', 'this', 'so…', 'https://t.co/CmjJr8wfEx', 'RT', '@ThaLunatic_:', 'October', '7th', '1992', '#2PAC', 'drops', 'his', '3rd', 'and', 'final', 'single', '‘If', 'My', 'Homie', 'Calls’', 'from', 'his', 'debut', 'album', '‘2Pacalypse', 'Now’', '#Throwback…', 'RT', '@dkaigler:', 'Throwback', 'Thursday:', 'Hanging', 'with', 'Jane', 'Seymour', 'on', 'the', 'set', 'of', 'her', 'hit', 'TV', 'show,', '“Dr.', 'Quinn,', 'Medicine', 'Woman.”', 'I', 'was', 'working', 'for…', 'RT', '@ThaLunatic_:', '#2PAC’s', 'verse', 'on', 'E-40’s', '-Dusted', 'N’', 'Disgusted', 'featuring', 'Spice', '1', '#ThrowbackThursday', '#TupacThursday', '🐐', 'https://t.co/qE9bweTG…', 'RT', '@iomttpics:', 'Ian', 'Lougher', 'exits', 'the', 'Creg-ny-Baa', 'on', 'the', 'Suter,', 'Senior', 'TT', '2018', '#ThrowbackThursday', '@TeamILR', 'https://t.co/uEQQoIu7WL', 'RT', '@ThaLunatic_:', '#2PAC', 'attended', 'the', 'premiere', 'of', \"‘Jason's\", 'Lyric’', 'together', 'with', 'Jada', 'Pinkett', 'Smith', 'at', 'the', 'former', 'National', 'Theatre', 'on', 'Lindbroo…', 'RT', '@ThaLunatic_:', '#ThrowbackThursday', 'https://t.co/kfqSPXZzZK', 'RT', '@ThaLunatic_:', '2PAC', 'at', 'the', 'Riddick', 'Bowe', 'vs.', 'Evander', 'Holyfield', '”The', 'Final', 'Chapter”', 'fight', 'at', 'Caesars', 'Palace', 'in', 'Paradise,', 'Nevada', 'on', 'November…', 'RT', '@BraniffIntl:', '“Big', 'Orange”', 'BI', 'Boeing', '747', 'takes', 'to', 'the', 'skies', '(in', 'this', 'shot', 'from', '1978)!', '(You', 'can', 'snag', 'phone', 'cases', 'emblazoned', 'with', 'your', 'fav…', 'RT', '@bts_bighit:', 'Throwback', 'Thursday', 'Song', 'by', 'Jimin', '🎧', 'https://t.co/HutKJ83kIG', \"Let's\", 'smile', 'wide', 'for', 'each', 'other', 'on', 'the', 'day', 'we', 'meet', 'again.', '#Thr…', 'RT', '@bts_bighit:', 'Throwback', 'Thursday', 'Song', 'by', 'Jimin', '🎧', 'https://t.co/HutKJ83kIG', '우리', '다시', '만나는', '그날,', '서로를', '향해', '활짝', '웃어주자.', '#ThrowbackThursday', '#SkoolLuvAffa…', 'RT', '@YuliaKorneva:', '#Autumn', 'fruits', 'from', '#Moscow', 'in', 'progress', '.', 'I', 'frutti', 'di', '#autunno', 'processo', '.', '#art', '#arte', '#artist', '#urbansketchers', '#illustratio…', 'RT', '@BraniffIntl:', 'flies', 'alongside', 'a', 'Braniff', 'International', 'Boeing', '727-291', 'Trijet', 'registered', 'as', 'N408BN.', 'Ship', 'N408BN', 'is', 'painted', 'in', 'the', '1975', 'Ale…', 'นอกจากเป็นคนสวยแล้ว', 'ก็เป็นคนโสดด้วยค่ะ', '🤪', '#ThrowbackThursday', 'https://t.co/URnNfORtLI', 'RT', '@bts_bighit:', 'Throwback', 'Thursday', 'Song', 'by', 'Jimin', '🎧', 'https://t.co/HutKJ83kIG', '우리', '다시', '만나는', '그날,', '서로를', '향해', '활짝', '웃어주자.', '#ThrowbackThursday', '#SkoolLuvAffa…', 'RT', '@polmcarts:', 'Old', 'drawing.', 'I', 'guess', 'two', 'years', 'ago', '#tigerandbunny', '#taibani', '#kotetsutkaburagi', '#barnabybrooksjr', '#ThrowbackThursday', 'https://t.c…', 'RT', '@tomsmybeagle:', 'Happy', '#TongueOutTuesday', 'from', 'Betty', 'and', 'Morty', '(may', 'also', 'use', 'this', 'tomorrow', 'for', '#WaybackWednesday', 'or', 'next', '#ThrowbackThursday…', 'RT', '@JasonIsaacsNews:', 'Black', 'Hawk', 'Down', '(2001)', '#JasonIsaacs', '#ThrowbackThursday', 'https://t.co/Pj4Ys8gEuE', '#Autumn', 'fruits', 'from', '#Moscow', 'in', 'progress', '.', 'I', 'frutti', 'di', '#autunno', 'processo', '.', '#art', '#arte', '#artist', '#urbansketchers…', 'https://t.co/wYb8kltfuQ', 'RT', '@tomsmybeagle:', 'Happy', '#TongueOutTuesday', 'from', 'Betty', 'and', 'Morty', '(may', 'also', 'use', 'this', 'tomorrow', 'for', '#WaybackWednesday', 'or', 'next', '#ThrowbackThursday…', 'RT', '@bts_bighit:', 'Throwback', 'Thursday', 'Song', 'by', 'Jung', 'Kook', '🎧', 'https://t.co/aormTVfDrx', 'When', \"you're\", 'feeling', 'run', 'down', 'from', 'everyday', 'life,', 'like', \"you'r…\", 'RT', '@bts_bighit:', 'Throwback', 'Thursday', 'Song', 'by', 'Jung', 'Kook', '🎧', 'https://t.co/aormTVfDrx', '반복적인', '하루에', '지칠', '때,', '나만', '제자리인', '듯', '느껴질', '때', '잊지', '마', '먼', '훗날에', '넌,', '지금의', '너를', '기억할', '테니…', 'RT', '@bts_bighit:', 'Throwback', 'Thursday', 'Song', 'by', 'Jimin', '🎧', 'https://t.co/HutKJ83kIG', \"Let's\", 'smile', 'wide', 'for', 'each', 'other', 'on', 'the', 'day', 'we', 'meet', 'again.', '#Thr…', 'RT', '@bts_bighit:', 'Throwback', 'Thursday', 'Song', 'by', 'V', '🎧', 'https://t.co/E0ey2RJfmC', 'I', 'will', 'be', 'the', 'rhythm', 'and', 'song', 'to', 'sing', 'for', 'ARMY', '#ThrowbackThursday…', 'RT', '@bts_bighit:', 'Throwback', 'Thursday', 'Song', 'by', 'Jimin', '🎧', 'https://t.co/HutKJ83kIG', '우리', '다시', '만나는', '그날,', '서로를', '향해', '활짝', '웃어주자.', '#ThrowbackThursday', '#SkoolLuvAffa…', 'RT', '@bts_bighit:', 'Throwback', 'Thursday', 'Song', 'by', 'Jimin', '🎧', 'https://t.co/HutKJ83kIG', \"Let's\", 'smile', 'wide', 'for', 'each', 'other', 'on', 'the', 'day', 'we', 'meet', 'again.', '#Thr…', 'RT', '@bts_bighit:', 'Throwback', 'Thursday', 'Song', 'by', 'V', '🎧', 'https://t.co/E0ey2RJfmC', 'I', 'will', 'be', 'the', 'rhythm', 'and', 'song', 'to', 'sing', 'for', 'ARMY', '#ThrowbackThursday…', 'RT', '@bts_bighit:', 'Throwback', 'Thursday', 'Song', 'by', 'V', '🎧', 'https://t.co/E0ey2RJfmC', 'I', 'will', 'be', 'the', 'rhythm', 'and', 'song', 'to', 'sing', 'for', 'ARMY', '#ThrowbackThursday…', 'RT', '@bts_bighit:', 'Throwback', 'Thursday', 'Song', 'by', 'j-hope', '🎧', 'https://t.co/GSbmGXA23E', 'Right', 'now', \"ARMY's\", 'heart', 'is', 'filled', 'with~~💜', '#ThrowbackThursday', '#…', 'RT', '@bts_bighit:', 'Throwback', 'Thursday', 'Song', 'by', 'Jimin', '🎧', 'https://t.co/HutKJ83kIG', '우리', '다시', '만나는', '그날,', '서로를', '향해', '활짝', '웃어주자.', '#ThrowbackThursday', '#SkoolLuvAffa…', 'RT', '@bts_bighit:', 'Throwback', 'Thursday', 'Song', 'by', 'Jin', '🎧', 'https://t.co/JFvzZYcJE0', 'Be', 'confident,', 'trust', 'in', 'yourself,', 'we', 'keep', 'attacking', 'on.', '#Throwbac…', 'RT', '@bts_bighit:', 'Throwback', 'Thursday', 'Song', 'by', 'Jimin', '🎧', 'https://t.co/HutKJ83kIG', \"Let's\", 'smile', 'wide', 'for', 'each', 'other', 'on', 'the', 'day', 'we', 'meet', 'again.', '#Thr…', 'RT', '@bts_bighit:', 'Throwback', 'Thursday', 'Song', 'by', 'Jimin', '🎧', 'https://t.co/HutKJ83kIG', '우리', '다시', '만나는', '그날,', '서로를', '향해', '활짝', '웃어주자.', '#ThrowbackThursday', '#SkoolLuvAffa…', 'RT', '@bts_bighit:', 'Throwback', 'Thursday', 'Song', 'by', 'V', '🎧', 'https://t.co/E0ey2RJfmC', 'I', 'will', 'be', 'the', 'rhythm', 'and', 'song', 'to', 'sing', 'for', 'ARMY', '#ThrowbackThursday…', 'RT', '@bts_bighit:', 'Throwback', 'Thursday', 'Song', 'by', 'j-hope', '🎧', 'https://t.co/GSbmGXA23E', '지금', 'ARMY여러분', '맘은', '온통', '다~~💜', '#ThrowbackThursday', '#SkoolLuvAffair_Spec…', 'RT', '@bts_bighit:', 'Throwback', 'Thursday', 'Song', 'by', 'V', '🎧', 'https://t.co/E0ey2RJfmC', 'I', 'will', 'be', 'the', 'rhythm', 'and', 'song', 'to', 'sing', 'for', 'ARMY', '#ThrowbackThursday…', 'RT', '@bts_bighit:', 'Throwback', 'Thursday', 'Song', 'by', 'j-hope', '🎧', 'https://t.co/GSbmGXA23E', 'Right', 'now', \"ARMY's\", 'heart', 'is', 'filled', 'with~~💜', '#ThrowbackThursday', '#…', 'RT', '@bts_bighit:', 'Throwback', 'Thursday', 'Song', 'by', 'Jung', 'Kook', '🎧', 'https://t.co/aormTVfDrx', 'When', \"you're\", 'feeling', 'run', 'down', 'from', 'everyday', 'life,', 'like', \"you'r…\", 'RT', '@bts_bighit:', 'Throwback', 'Thursday', 'Song', 'by', 'Jin', '🎧', 'https://t.co/JFvzZYcJE0', 'Be', 'confident,', 'trust', 'in', 'yourself,', 'we', 'keep', 'attacking', 'on.', '#Throwbac…', 'RT', '@bts_bighit:', 'Throwback', 'Thursday', 'Song', 'by', 'V', '🎧', 'https://t.co/E0ey2RJfmC', 'I', 'will', 'be', 'the', 'rhythm', 'and', 'song', 'to', 'sing', 'for', 'ARMY', '#ThrowbackThursday…', 'RT', '@bts_bighit:', 'Throwback', 'Thursday', 'Song', 'by', 'j-hope', '🎧', 'https://t.co/GSbmGXA23E', 'Right', 'now', \"ARMY's\", 'heart', 'is', 'filled', 'with~~💜', '#ThrowbackThursday', '#…', 'RT', '@bts_bighit:', 'Throwback', 'Thursday', 'Song', 'by', 'Jimin', '🎧', 'https://t.co/HutKJ83kIG', \"Let's\", 'smile', 'wide', 'for', 'each', 'other', 'on', 'the', 'day', 'we', 'meet', 'again.', '#Thr…', 'RT', '@bts_bighit:', 'Throwback', 'Thursday', 'Song', 'by', 'Jin', '🎧', 'https://t.co/JFvzZYcJE0', 'Be', 'confident,', 'trust', 'in', 'yourself,', 'we', 'keep', 'attacking', 'on.', '#Throwbac…', 'RT', '@bts_bighit:', 'Throwback', 'Thursday', 'Song', 'by', 'j-hope', '🎧', 'https://t.co/GSbmGXA23E', 'Right', 'now', \"ARMY's\", 'heart', 'is', 'filled', 'with~~💜', '#ThrowbackThursday', '#…', 'RT', '@bts_bighit:', 'Throwback', 'Thursday', 'Song', 'by', 'V', '🎧', 'https://t.co/E0ey2RJfmC', 'I', 'will', 'be', 'the', 'rhythm', 'and', 'song', 'to', 'sing', 'for', 'ARMY', '#ThrowbackThursday…', 'RT', '@Bertie23574627:', 'Monaco', '1979👌🏽', '#ThrowbackThursday', 'https://t.co/sqk7CdbT1H', 'RT', '@AnilKapoor:', 'The', 'uncanny', 'resemblance!', '#ThrowbackThursday', 'https://t.co/cCRo3wscN5', 'RT', '@KajalTrends:', 'We', 'Love', 'The', 'Way', '@MsKajalAggarwal', 'Accessorizes', 'Her', 'Look', 'With', 'That', 'Pretty', 'Smile', '😍', '#ThrowbackThursday', '#KajalAggarwal', '❤️', 'http…', 'RT', '@downrail:', 'With', 'the', 'sad', 'news', 'that', '@easons', 'will', 'not', 'reopen', 'in', '#NorthernIreland,', \"today's\", '#ThrowbackThursday', 'marks', 'the', 'end', 'of', 'an', 'era.', 'Every…', '#RevisitingWithRiaz', 'Day-97', 'A', 'poster', 'from', '#MakkalTheerpu', '#Nostalgia', '#nostalgic', '#throwbackpicture', '#Throwback…', 'https://t.co/N8ffnhrpHn', 'RT', '@GDSFoundation:', '#TBT', 'to', 'when', '#AcademyAward', 'nominee', 'and', 'GLOBAL', 'supporter', '@JeremyRenner', 'walked', 'the', '#BeBeautifulBeYourself', 'Fashion', 'Show', 'run…', '#throwbackthursday', 'i', 'guess', 'https://t.co/BeOsHNbFIb', 'this', 'was', 'at', '50k', 'mcap', 'lmao', 'https://t.co/E0FUjcCUYJ', 'RT', '@UTVolShop:', \"It's\", 'a', '#throwbackthursday', 'giveaway!!!', 'We', 'found', 'this', 'ah-mazing', 'canvas', 'poster', 'in', 'our', 'storage', 'area,', 'and', 'we', 'knew', 'one', 'of', \"y'all\", 'wo…']\n"
     ]
    }
   ],
   "source": [
    "# open the myData.pickle file and store its contents into variable 'words'\n",
    "\n",
    "with open(filepath, \"rb\") as f:\n",
    "    words = pickle.load(f)\n",
    "print(words)"
   ]
  },
  {
   "cell_type": "markdown",
   "metadata": {},
   "source": [
    "### 3.2 Using prettytable to display tuples in a nice way\n",
    "\n"
   ]
  },
  {
   "cell_type": "code",
   "execution_count": 17,
   "metadata": {},
   "outputs": [
    {
     "name": "stdout",
     "output_type": "stream",
     "text": [
      "+--------------------+-------+\n",
      "| Word               | Count |\n",
      "+--------------------+-------+\n",
      "| RT                 |    60 |\n",
      "| Throwback          |    31 |\n",
      "| #ThrowbackThursday |    30 |\n",
      "| the                |    30 |\n",
      "| by                 |    29 |\n",
      "| @bts_bighit:       |    28 |\n",
      "| Thursday           |    28 |\n",
      "| Song               |    28 |\n",
      "| 🎧                 |    28 |\n",
      "| for                |    17 |\n",
      "+--------------------+-------+\n",
      "+----------------+-------+\n",
      "| Screen Name    | Count |\n",
      "+----------------+-------+\n",
      "| bts_bighit     |    28 |\n",
      "| AtlantaDream   |     5 |\n",
      "| ThaLunatic_    |     5 |\n",
      "| NinGeko_Art    |     2 |\n",
      "| Grimmla1       |     2 |\n",
      "| Quirkiliciouss |     2 |\n",
      "| BraniffIntl    |     2 |\n",
      "| tomsmybeagle   |     2 |\n",
      "| UWestGA        |     1 |\n",
      "| dphistory      |     1 |\n",
      "+----------------+-------+\n",
      "+-------------------+-------+\n",
      "| Hashtag           | Count |\n",
      "+-------------------+-------+\n",
      "| ThrowbackThursday |    40 |\n",
      "| DoItForTheDream   |     6 |\n",
      "| throwbackthursday |     6 |\n",
      "| TBT               |     3 |\n",
      "| 2PAC              |     3 |\n",
      "| Monstober2021     |     2 |\n",
      "| tbt               |     2 |\n",
      "| Autumn            |     2 |\n",
      "| Moscow            |     2 |\n",
      "| autunno           |     2 |\n",
      "+-------------------+-------+\n"
     ]
    }
   ],
   "source": [
    "from prettytable import PrettyTable\n",
    "for label, data in (('Word', words),\n",
    "                    ('Screen Name', screen_names),\n",
    "                    ('Hashtag', hashtags)):\n",
    "    pt = PrettyTable(field_names=[label, 'Count'])\n",
    "    c = Counter(data)\n",
    "    [ pt.add_row(kv) for kv in c.most_common()[:10] ]\n",
    "    pt.align[label], pt.align['Count'] = 'l', 'r' # Set column alignment\n",
    "    print(pt) "
   ]
  },
  {
   "cell_type": "markdown",
   "metadata": {},
   "source": [
    "### 3.3 Calculating lexical diversity for tweets \n",
    "*(from Example 1-9 in Mining the Social Web)*:"
   ]
  },
  {
   "cell_type": "code",
   "execution_count": 18,
   "metadata": {},
   "outputs": [
    {
     "name": "stdout",
     "output_type": "stream",
     "text": [
      "0.3872271624898949\n",
      "0.40298507462686567\n",
      "0.3904761904761905\n",
      "17.92753623188406\n"
     ]
    }
   ],
   "source": [
    "# Define a function for computing lexical diversity\n",
    "def lexical_diversity(tokens):\n",
    "    return 1.0*len(set(tokens))/len(tokens)\n",
    "\n",
    "# Define a function for computing the average number of words per tweet\n",
    "def average_words(statuses):\n",
    "    total_words = sum([ len(s.split()) for s in statuses ])\n",
    "    return 1.0*total_words/len(statuses) \n",
    "\n",
    "# Let's use these functions:\n",
    "\n",
    "print(lexical_diversity(words))\n",
    "print(lexical_diversity(screen_names))\n",
    "print(lexical_diversity(hashtags))\n",
    "print(average_words(status_texts))"
   ]
  },
  {
   "cell_type": "markdown",
   "metadata": {},
   "source": [
    "### Task 5: What do the printed numbers indicate? Try to explain them.\n",
    "\n",
    "(*Double click this cell to write your answer*)\n",
    "\n",
    "After looking into tweeter's website, I acknowledged that \"words\" are splitted tweets, \"screen_names\" indicate the authors' identity who submitted the tweet, \"hashtags\" refer to the related topics that montioned by authors, while \"status_texts\" are contents of tweets.\n",
    "\n",
    "The first printed number means words that some words were used multiple times in the queried tweets.\n",
    "\n",
    "The second number shows that among the searched tweets, some of the authors tweets more than 1 messsage metioned the query hashtag.\n",
    "\n",
    "The third one indicates the rate of the same hashtag to be included in different users' tweets.\n",
    "\n",
    "The last printed number is the average length of the text of the tweets queried."
   ]
  },
  {
   "cell_type": "markdown",
   "metadata": {},
   "source": [
    "### 3.4 Finding the most popular retweets \n",
    "*(from Example 1-10 in Mining the Social Web):*"
   ]
  },
  {
   "cell_type": "code",
   "execution_count": 19,
   "metadata": {},
   "outputs": [
    {
     "name": "stdout",
     "output_type": "stream",
     "text": [
      "+-------+-------------+----------------------------------------------------+\n",
      "| Count | Screen Name | Text                                               |\n",
      "+-------+-------------+----------------------------------------------------+\n",
      "| 98947 | bts_bighit  | RT @bts_bighit: Throwback Thursday Song by Jung    |\n",
      "|       |             | Kook                                               |\n",
      "|       |             | 🎧 https://t.co/aormTVfDrx                         |\n",
      "|       |             |                                                    |\n",
      "|       |             | 반복적인 하루에 지칠 때, 나만 제자리인 듯 느껴질 때 |\n",
      "|       |             | 잊지 마 먼 훗날에 넌, 지금의 너를 기억할 테니…     |\n",
      "| 98390 | bts_bighit  | RT @bts_bighit: Throwback Thursday Song by Jimin   |\n",
      "|       |             | 🎧 https://t.co/HutKJ83kIG                         |\n",
      "|       |             |                                                    |\n",
      "|       |             | 우리 다시 만나는 그날, 서로를 향해 활짝 웃어주자.  |\n",
      "|       |             |                                                    |\n",
      "|       |             | #ThrowbackThursday #SkoolLuvAffa…                  |\n",
      "| 98390 | bts_bighit  | RT @bts_bighit: Throwback Thursday Song by Jimin   |\n",
      "|       |             | 🎧 https://t.co/HutKJ83kIG                         |\n",
      "|       |             |                                                    |\n",
      "|       |             | 우리 다시 만나는 그날, 서로를 향해 활짝 웃어주자.  |\n",
      "|       |             |                                                    |\n",
      "|       |             | #ThrowbackThursday #SkoolLuvAffa…                  |\n",
      "| 98390 | bts_bighit  | RT @bts_bighit: Throwback Thursday Song by Jimin   |\n",
      "|       |             | 🎧 https://t.co/HutKJ83kIG                         |\n",
      "|       |             |                                                    |\n",
      "|       |             | 우리 다시 만나는 그날, 서로를 향해 활짝 웃어주자.  |\n",
      "|       |             |                                                    |\n",
      "|       |             | #ThrowbackThursday #SkoolLuvAffa…                  |\n",
      "| 98390 | bts_bighit  | RT @bts_bighit: Throwback Thursday Song by Jimin   |\n",
      "|       |             | 🎧 https://t.co/HutKJ83kIG                         |\n",
      "|       |             |                                                    |\n",
      "|       |             | 우리 다시 만나는 그날, 서로를 향해 활짝 웃어주자.  |\n",
      "|       |             |                                                    |\n",
      "|       |             | #ThrowbackThursday #SkoolLuvAffa…                  |\n",
      "+-------+-------------+----------------------------------------------------+\n"
     ]
    }
   ],
   "source": [
    "retweet_cnt_un_txt = [(status['retweet_count'],\n",
    "    status['retweeted_status']['user']['screen_name'],\n",
    "    status['text'])# Store out a tuple of these three values\n",
    "    for status in statuses # for each status\n",
    "    if 'retweeted_status' in status # ... so long as the status meets this condition.\n",
    "    ]\n",
    "\n",
    "# Slice off the first 5 from the sorted results and display each item in the tuple\n",
    "pt = PrettyTable(field_names=['Count', 'Screen Name', 'Text'])\n",
    "[ pt.add_row(row) for row in sorted(retweet_cnt_un_txt, reverse=True)[:5] ]\n",
    "pt.max_width['Text'] = 50\n",
    "pt.align= 'l'\n",
    "print(pt)"
   ]
  },
  {
   "cell_type": "markdown",
   "metadata": {},
   "source": [
    "### 3.5 Looking up users who have retweeted a status \n",
    "*(from Example 1-11 in Mining the Social Web):*"
   ]
  },
  {
   "cell_type": "code",
   "execution_count": 20,
   "metadata": {},
   "outputs": [
    {
     "name": "stdout",
     "output_type": "stream",
     "text": [
      "Users who've retweeted the tweet:\n",
      "\n",
      "['mblandnc', 'Connormccoolman', 'DarnMilk', 'coy_holt', 'QueenHarleyBee', 'MARKOPOLO100', 'SHAK_08', 'saabooboo', 'notJacksonfish', 'MartinFaced', 'cestkisa', 'abrewer18', 'ChrEEstosK', 'McCormacSpices', 'MahomieTrent', 'ChrisMcElfresh1']\n"
     ]
    }
   ],
   "source": [
    "_retweets = twitter_api.statuses.retweets(id=1224140327688249349) # Get the original tweet id for a tweet from its retweeted_status node and insert it here\n",
    "print(\"Users who've retweeted the tweet:\\n\")\n",
    "print([r['user']['screen_name'] for r in _retweets])"
   ]
  },
  {
   "cell_type": "markdown",
   "metadata": {},
   "source": [
    "### Task 6 (advanced)\n",
    "\n",
    "If you have a Twitter account with a nontrivial number of tweets, request your historical tweet archive from your account settings and analyze it. \\\n",
    "The export of your account data includes files organized by time period in a convenient JSON format. See the README.txt file included in the downloaded archive for more details. \n",
    "\n",
    "\n",
    "\n",
    "What are the most common terms that appear in your tweets? \\\n",
    "Who do you retweet the most often? \\\n",
    "How many of your tweets are retweeted (and why do you think this is the case)?\n",
    "\n",
    "Sorry I didn't use Twitter before this course, so I cannot analyze my historical tweet archive."
   ]
  },
  {
   "cell_type": "markdown",
   "metadata": {},
   "source": [
    "### 3.6 Plotting frequencies of words \n",
    "*(from Example 1-12 in Mining the Social Web)*\n",
    "\n",
    "\n",
    "In the previous exercises we have been looking at the text from the tweets, but when you retrieved the results, you retrieved much more information about the tweets, such as the username of the person who shared this tweet with the world. \n",
    "\n",
    "\n",
    "You can use this information to find out who retweets whom in our examples. "
   ]
  },
  {
   "cell_type": "code",
   "execution_count": 21,
   "metadata": {},
   "outputs": [
    {
     "data": {
      "image/png": "[encoded data removed]",
      "text/plain": [
       "<Figure size 432x288 with 1 Axes>"
      ]
     },
     "metadata": {
      "needs_background": "light"
     },
     "output_type": "display_data"
    }
   ],
   "source": [
    "word_counts = sorted(Counter(words).values(), reverse=True)\n",
    "import matplotlib.pyplot as plt\n",
    "plt.loglog(word_counts)\n",
    "plt.ylabel(\"Freq\")\n",
    "plt.xlabel(\"Word Rank\")\n",
    "plt.show()"
   ]
  },
  {
   "cell_type": "markdown",
   "metadata": {},
   "source": [
    "### Generating histograms of words, screen names, and hashtags \n",
    "*(from Example 1-13 in Mining the Social Web):*"
   ]
  },
  {
   "cell_type": "code",
   "execution_count": 22,
   "metadata": {},
   "outputs": [
    {
     "data": {
      "image/png": "[encoded data removed]",
      "text/plain": [
       "<Figure size 432x288 with 1 Axes>"
      ]
     },
     "metadata": {
      "needs_background": "light"
     },
     "output_type": "display_data"
    },
    {
     "data": {
      "image/png": "[encoded data removed]",
      "text/plain": [
       "<Figure size 432x288 with 1 Axes>"
      ]
     },
     "metadata": {
      "needs_background": "light"
     },
     "output_type": "display_data"
    },
    {
     "data": {
      "image/png": "[encoded data removed]",
      "text/plain": [
       "<Figure size 432x288 with 1 Axes>"
      ]
     },
     "metadata": {
      "needs_background": "light"
     },
     "output_type": "display_data"
    },
    {
     "data": {
      "text/plain": [
       "<Figure size 432x288 with 0 Axes>"
      ]
     },
     "metadata": {},
     "output_type": "display_data"
    }
   ],
   "source": [
    "for label, data in (('Word', words),\n",
    "                    ('Screen Name', screen_names),\n",
    "                    ('Hashtag', hashtags)):\n",
    "    c = Counter(data)\n",
    "    plt.hist(c.values())\n",
    "    \n",
    "    plt.title(label)\n",
    "    plt.ylabel(\"Number of items in bin\")\n",
    "    plt.xlabel(\"Bins (number of times an item appeared)\")\n",
    "    \n",
    "    plt.figure()"
   ]
  },
  {
   "cell_type": "code",
   "execution_count": 23,
   "metadata": {},
   "outputs": [
    {
     "name": "stdout",
     "output_type": "stream",
     "text": [
      "Requirement already satisfied: seaborn in /opt/anaconda3/envs/socialEnv/lib/python3.8/site-packages (0.11.2)\n",
      "Requirement already satisfied: matplotlib>=2.2 in /opt/anaconda3/envs/socialEnv/lib/python3.8/site-packages (from seaborn) (3.4.3)\n",
      "Requirement already satisfied: numpy>=1.15 in /opt/anaconda3/envs/socialEnv/lib/python3.8/site-packages (from seaborn) (1.21.2)\n",
      "Requirement already satisfied: pandas>=0.23 in /opt/anaconda3/envs/socialEnv/lib/python3.8/site-packages (from seaborn) (1.3.4)\n",
      "Requirement already satisfied: scipy>=1.0 in /opt/anaconda3/envs/socialEnv/lib/python3.8/site-packages (from seaborn) (1.7.2)\n",
      "Requirement already satisfied: pyparsing>=2.2.1 in /opt/anaconda3/envs/socialEnv/lib/python3.8/site-packages (from matplotlib>=2.2->seaborn) (3.0.4)\n",
      "Requirement already satisfied: kiwisolver>=1.0.1 in /opt/anaconda3/envs/socialEnv/lib/python3.8/site-packages (from matplotlib>=2.2->seaborn) (1.3.1)\n",
      "Requirement already satisfied: python-dateutil>=2.7 in /opt/anaconda3/envs/socialEnv/lib/python3.8/site-packages (from matplotlib>=2.2->seaborn) (2.8.2)\n",
      "Requirement already satisfied: pillow>=6.2.0 in /opt/anaconda3/envs/socialEnv/lib/python3.8/site-packages (from matplotlib>=2.2->seaborn) (8.4.0)\n",
      "Requirement already satisfied: cycler>=0.10 in /opt/anaconda3/envs/socialEnv/lib/python3.8/site-packages (from matplotlib>=2.2->seaborn) (0.10.0)\n",
      "Requirement already satisfied: six in /opt/anaconda3/envs/socialEnv/lib/python3.8/site-packages (from cycler>=0.10->matplotlib>=2.2->seaborn) (1.16.0)\n",
      "Requirement already satisfied: pytz>=2017.3 in /opt/anaconda3/envs/socialEnv/lib/python3.8/site-packages (from pandas>=0.23->seaborn) (2021.3)\n"
     ]
    },
    {
     "name": "stderr",
     "output_type": "stream",
     "text": [
      "/opt/anaconda3/envs/socialEnv/lib/python3.8/site-packages/seaborn/distributions.py:2619: FutureWarning: `distplot` is a deprecated function and will be removed in a future version. Please adapt your code to use either `displot` (a figure-level function with similar flexibility) or `histplot` (an axes-level function for histograms).\n",
      "  warnings.warn(msg, FutureWarning)\n",
      "/opt/anaconda3/envs/socialEnv/lib/python3.8/site-packages/seaborn/distributions.py:2103: FutureWarning: The `axis` variable is no longer used and will be removed. Instead, assign variables directly to `x` or `y`.\n",
      "  warnings.warn(msg, FutureWarning)\n"
     ]
    },
    {
     "data": {
      "text/plain": [
       "<AxesSubplot:>"
      ]
     },
     "execution_count": 23,
     "metadata": {},
     "output_type": "execute_result"
    },
    {
     "data": {
      "image/png": "[encoded data removed]",
      "text/plain": [
       "<Figure size 432x288 with 1 Axes>"
      ]
     },
     "metadata": {
      "needs_background": "light"
     },
     "output_type": "display_data"
    }
   ],
   "source": [
    "# extra: seaborn plots with a one-liner.\n",
    "!pip install seaborn\n",
    "import seaborn as sns\n",
    "\n",
    "sns.distplot(word_counts, kde=False, rug=True)\n"
   ]
  },
  {
   "cell_type": "code",
   "execution_count": null,
   "metadata": {},
   "outputs": [],
   "source": []
  }
 ],
 "metadata": {
  "kernelspec": {
   "display_name": "Python 3 (ipykernel)",
   "language": "python",
   "name": "python3"
  },
  "language_info": {
   "codemirror_mode": {
    "name": "ipython",
    "version": 3
   },
   "file_extension": ".py",
   "mimetype": "text/x-python",
   "name": "python",
   "nbconvert_exporter": "python",
   "pygments_lexer": "ipython3",
   "version": "3.8.12"
  }
 },
 "nbformat": 4,
 "nbformat_minor": 2
}
