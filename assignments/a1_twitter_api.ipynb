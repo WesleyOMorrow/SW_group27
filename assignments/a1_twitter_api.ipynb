{
 "cells": [
  {
   "cell_type": "markdown",
   "metadata": {},
   "source": [
    "*****************************************************************\n",
    "#  The Social Web \n",
    "- Instructors: Jacco van Ossenbruggen.\n",
    "- TAs: Ayesha Noorain, Alex Boyko, Caio Silva, Elena Beretta, Mirthe Dankloff.\n",
    "- Exercises for Hands-on session 1\n",
    "*****************************************************************"
   ]
  },
  {
   "cell_type": "markdown",
   "metadata": {},
   "source": [
    "Prerequisites:\n",
    "- Python 3.8\n",
    "- Python packages: twitter, prettytable, matplotlib\n",
    "\n",
    "First you need to know how to retrieve some social web data. Exercises 1 and 2 will show you how to retrieve trends and search results from Twitter. \n",
    "\n",
    "But let's check first if we're running a sufficiently new version of Python:"
   ]
  },
  {
   "cell_type": "code",
   "execution_count": 1,
   "metadata": {},
   "outputs": [
    {
     "name": "stdout",
     "output_type": "stream",
     "text": [
      "This jupyter notebook is running on Python 3.8.9\n"
     ]
    }
   ],
   "source": [
    "import platform\n",
    "import sys\n",
    "print(\"This jupyter notebook is running on Python \" + platform.python_version())\n",
    "# It's good practice to assert packages requirements at the beginning of a script:\n",
    "assert sys.version_info >= (3, 6)"
   ]
  },
  {
   "cell_type": "markdown",
   "metadata": {},
   "source": [
    "Let's install now the required packages for this hands on session:"
   ]
  },
  {
   "cell_type": "code",
   "execution_count": 2,
   "metadata": {},
   "outputs": [
    {
     "name": "stdout",
     "output_type": "stream",
     "text": [
      "Defaulting to user installation because normal site-packages is not writeable\n",
      "Requirement already satisfied: twitter in /Users/chen/Library/Python/3.8/lib/python/site-packages (1.19.3)\n",
      "Requirement already satisfied: PrettyTable in /Users/chen/Library/Python/3.8/lib/python/site-packages (2.4.0)\n",
      "Requirement already satisfied: matplotlib in /Users/chen/Library/Python/3.8/lib/python/site-packages (3.4.3)\n",
      "Requirement already satisfied: wcwidth in /Users/chen/Library/Python/3.8/lib/python/site-packages (from PrettyTable) (0.2.5)\n",
      "Requirement already satisfied: python-dateutil>=2.7 in /Users/chen/Library/Python/3.8/lib/python/site-packages (from matplotlib) (2.8.2)\n",
      "Requirement already satisfied: cycler>=0.10 in /Users/chen/Library/Python/3.8/lib/python/site-packages (from matplotlib) (0.11.0)\n",
      "Requirement already satisfied: kiwisolver>=1.0.1 in /Users/chen/Library/Python/3.8/lib/python/site-packages (from matplotlib) (1.3.2)\n",
      "Requirement already satisfied: pillow>=6.2.0 in /Users/chen/Library/Python/3.8/lib/python/site-packages (from matplotlib) (8.4.0)\n",
      "Requirement already satisfied: numpy>=1.16 in /Users/chen/Library/Python/3.8/lib/python/site-packages (from matplotlib) (1.21.3)\n",
      "Requirement already satisfied: pyparsing>=2.2.1 in /Users/chen/Library/Python/3.8/lib/python/site-packages (from matplotlib) (2.4.7)\n",
      "Requirement already satisfied: six>=1.5 in /Library/Developer/CommandLineTools/Library/Frameworks/Python3.framework/Versions/3.8/lib/python3.8/site-packages (from python-dateutil>=2.7->matplotlib) (1.15.0)\n"
     ]
    }
   ],
   "source": [
    "# If you're using a virtualenv, make sure its activated before running \n",
    "# this cell!\n",
    "!pip install twitter PrettyTable matplotlib"
   ]
  },
  {
   "cell_type": "markdown",
   "metadata": {},
   "source": [
    "## Part 1: Authorizing an application to access Twitter account data (from Example 1-1/9-1 in Mining the Social Web):\n",
    "\n",
    "1. Make sure to add your mobile phone number to your private twitter profile.\n",
    "2. Go to https://apps.twitter.com/ and click on \"create an app\". Twitter will prompt you to create a *developer account*.\n",
    "3. You'll receive an *account confirmation* email with a link. Follow it and create an app. \n",
    "4. Once the app is created, you'll see a \"Keys and Token\" item on the top left-hand side corner of the webpage. These values will be needed to fill in the next cell.\n",
    "5. Please delete all your keys before submission."
   ]
  },
  {
   "cell_type": "code",
   "execution_count": 3,
   "metadata": {},
   "outputs": [
    {
     "name": "stdout",
     "output_type": "stream",
     "text": [
      "<twitter.api.Twitter object at 0x107b71d30>\n"
     ]
    }
   ],
   "source": [
    "import twitter # Tell Python to use the twitter package\n",
    "CONSUMER_KEY = 'arUNq8t3ntrTTSaGXe8LaZQQS'\n",
    "CONSUMER_SECRET = '7Wwu5StU2XIHvhY89zvuq4HQLvFXGAWK44SPF04Q1HMbAJrpK5'\n",
    "# to get the oauth credential you need to click on the 'Generate access token' button:\n",
    "OAUTH_TOKEN = '1444919384963788800-qwt7NFGbjjdV16m93ZmpWDHV05vPL5' \n",
    "OAUTH_TOKEN_SECRET = 'azI271sYuAdrKNCp7NftX0GPJFxgzuJBnrJRs5at7DVCk'\n",
    "auth = twitter.oauth.OAuth(OAUTH_TOKEN, OAUTH_TOKEN_SECRET,CONSUMER_KEY, CONSUMER_SECRET)\n",
    "twitter_api = twitter.Twitter(auth=auth)\n",
    "print(twitter_api) \n",
    "# Nothing to see by displaying twitter_api except that it's now a defined variable\n"
   ]
  },
  {
   "cell_type": "markdown",
   "metadata": {},
   "source": [
    "### 1.1: Retrieving twitter search trends (from Example 1-2/9-2 in Mining the Social Web)"
   ]
  },
  {
   "cell_type": "code",
   "execution_count": 4,
   "metadata": {},
   "outputs": [
    {
     "name": "stdout",
     "output_type": "stream",
     "text": [
      "[{'trends': [{'name': '#フォロワーアパート', 'url': 'http://twitter.com/search?q=%23%E3%83%95%E3%82%A9%E3%83%AD%E3%83%AF%E3%83%BC%E3%82%A2%E3%83%91%E3%83%BC%E3%83%88', 'promoted_content': None, 'query': '%23%E3%83%95%E3%82%A9%E3%83%AD%E3%83%AF%E3%83%BC%E3%82%A2%E3%83%91%E3%83%BC%E3%83%88', 'tweet_volume': 17062}, {'name': '#صلو_علي_االنبي', 'url': 'http://twitter.com/search?q=%23%D8%B5%D9%84%D9%88_%D8%B9%D9%84%D9%8A_%D8%A7%D8%A7%D9%84%D9%86%D8%A8%D9%8A', 'promoted_content': None, 'query': '%23%D8%B5%D9%84%D9%88_%D8%B9%D9%84%D9%8A_%D8%A7%D8%A7%D9%84%D9%86%D8%A8%D9%8A', 'tweet_volume': None}, {'name': '#سبحان_الله_وlلحمدالله', 'url': 'http://twitter.com/search?q=%23%D8%B3%D8%A8%D8%AD%D8%A7%D9%86_%D8%A7%D9%84%D9%84%D9%87_%D9%88l%D9%84%D8%AD%D9%85%D8%AF%D8%A7%D9%84%D9%84%D9%87', 'promoted_content': None, 'query': '%23%D8%B3%D8%A8%D8%AD%D8%A7%D9%86_%D8%A7%D9%84%D9%84%D9%87_%D9%88l%D9%84%D8%AD%D9%85%D8%AF%D8%A7%D9%84%D9%84%D9%87', 'tweet_volume': None}, {'name': '#छठ_पूजा_Reality', 'url': 'http://twitter.com/search?q=%23%E0%A4%9B%E0%A4%A0_%E0%A4%AA%E0%A5%82%E0%A4%9C%E0%A4%BE_Reality', 'promoted_content': None, 'query': '%23%E0%A4%9B%E0%A4%A0_%E0%A4%AA%E0%A5%82%E0%A4%9C%E0%A4%BE_Reality', 'tweet_volume': 317365}, {'name': '#あすかなと姫ピメはずっと一緒だよ', 'url': 'http://twitter.com/search?q=%23%E3%81%82%E3%81%99%E3%81%8B%E3%81%AA%E3%81%A8%E5%A7%AB%E3%83%94%E3%83%A1%E3%81%AF%E3%81%9A%E3%81%A3%E3%81%A8%E4%B8%80%E7%B7%92%E3%81%A0%E3%82%88', 'promoted_content': None, 'query': '%23%E3%81%82%E3%81%99%E3%81%8B%E3%81%AA%E3%81%A8%E5%A7%AB%E3%83%94%E3%83%A1%E3%81%AF%E3%81%9A%E3%81%A3%E3%81%A8%E4%B8%80%E7%B7%92%E3%81%A0%E3%82%88', 'tweet_volume': 17122}, {'name': 'WelcomeTo ChaoticWonderland', 'url': 'http://twitter.com/search?q=%22WelcomeTo+ChaoticWonderland%22', 'promoted_content': None, 'query': '%22WelcomeTo+ChaoticWonderland%22', 'tweet_volume': 22248}, {'name': 'Dean Stockwell', 'url': 'http://twitter.com/search?q=%22Dean+Stockwell%22', 'promoted_content': None, 'query': '%22Dean+Stockwell%22', 'tweet_volume': 26690}, {'name': 'Quantum Leap', 'url': 'http://twitter.com/search?q=%22Quantum+Leap%22', 'promoted_content': None, 'query': '%22Quantum+Leap%22', 'tweet_volume': 14304}, {'name': 'Xfinity', 'url': 'http://twitter.com/search?q=Xfinity', 'promoted_content': None, 'query': 'Xfinity', 'tweet_volume': 16200}, {'name': 'Comcast', 'url': 'http://twitter.com/search?q=Comcast', 'promoted_content': None, 'query': 'Comcast', 'tweet_volume': None}, {'name': 'あなたの友達', 'url': 'http://twitter.com/search?q=%E3%81%82%E3%81%AA%E3%81%9F%E3%81%AE%E5%8F%8B%E9%81%94', 'promoted_content': None, 'query': '%E3%81%82%E3%81%AA%E3%81%9F%E3%81%AE%E5%8F%8B%E9%81%94', 'tweet_volume': None}, {'name': 'CONGRATULATIONS LISA', 'url': 'http://twitter.com/search?q=%22CONGRATULATIONS+LISA%22', 'promoted_content': None, 'query': '%22CONGRATULATIONS+LISA%22', 'tweet_volume': 202301}, {'name': 'Ratusan Juta Untuk Lazadians', 'url': 'http://twitter.com/search?q=%22Ratusan+Juta+Untuk+Lazadians%22', 'promoted_content': None, 'query': '%22Ratusan+Juta+Untuk+Lazadians%22', 'tweet_volume': 10483}, {'name': '私の性格', 'url': 'http://twitter.com/search?q=%E7%A7%81%E3%81%AE%E6%80%A7%E6%A0%BC', 'promoted_content': None, 'query': '%E7%A7%81%E3%81%AE%E6%80%A7%E6%A0%BC', 'tweet_volume': None}, {'name': 'STOP SPEAKING ON JENNIE', 'url': 'http://twitter.com/search?q=%22STOP+SPEAKING+ON+JENNIE%22', 'promoted_content': None, 'query': '%22STOP+SPEAKING+ON+JENNIE%22', 'tweet_volume': 117276}, {'name': 'melody', 'url': 'http://twitter.com/search?q=melody', 'promoted_content': None, 'query': 'melody', 'tweet_volume': 36193}, {'name': 'Morris', 'url': 'http://twitter.com/search?q=Morris', 'promoted_content': None, 'query': 'Morris', 'tweet_volume': 69222}, {'name': '近距離攻撃', 'url': 'http://twitter.com/search?q=%E8%BF%91%E8%B7%9D%E9%9B%A2%E6%94%BB%E6%92%83', 'promoted_content': None, 'query': '%E8%BF%91%E8%B7%9D%E9%9B%A2%E6%94%BB%E6%92%83', 'tweet_volume': None}, {'name': 'Jokic', 'url': 'http://twitter.com/search?q=Jokic', 'promoted_content': None, 'query': 'Jokic', 'tweet_volume': 98537}, {'name': '魔法攻撃', 'url': 'http://twitter.com/search?q=%E9%AD%94%E6%B3%95%E6%94%BB%E6%92%83', 'promoted_content': None, 'query': '%E9%AD%94%E6%B3%95%E6%94%BB%E6%92%83', 'tweet_volume': None}, {'name': 'ロウワー', 'url': 'http://twitter.com/search?q=%E3%83%AD%E3%82%A6%E3%83%AF%E3%83%BC', 'promoted_content': None, 'query': '%E3%83%AD%E3%82%A6%E3%83%AF%E3%83%BC', 'tweet_volume': 22572}, {'name': 'GLORIOUS 6 YEAR OF SHEHNAAZ', 'url': 'http://twitter.com/search?q=%22GLORIOUS+6+YEAR+OF+SHEHNAAZ%22', 'promoted_content': None, 'query': '%22GLORIOUS+6+YEAR+OF+SHEHNAAZ%22', 'tweet_volume': 60204}, {'name': 'mel maia', 'url': 'http://twitter.com/search?q=%22mel+maia%22', 'promoted_content': None, 'query': '%22mel+maia%22', 'tweet_volume': 15678}, {'name': 'キム・テヒョン似', 'url': 'http://twitter.com/search?q=%E3%82%AD%E3%83%A0%E3%83%BB%E3%83%86%E3%83%92%E3%83%A7%E3%83%B3%E4%BC%BC', 'promoted_content': None, 'query': '%E3%82%AD%E3%83%A0%E3%83%BB%E3%83%86%E3%83%92%E3%83%A7%E3%83%B3%E4%BC%BC', 'tweet_volume': None}, {'name': 'Moreira', 'url': 'http://twitter.com/search?q=Moreira', 'promoted_content': None, 'query': 'Moreira', 'tweet_volume': None}, {'name': 'パーティルーム', 'url': 'http://twitter.com/search?q=%E3%83%91%E3%83%BC%E3%83%86%E3%82%A3%E3%83%AB%E3%83%BC%E3%83%A0', 'promoted_content': None, 'query': '%E3%83%91%E3%83%BC%E3%83%86%E3%82%A3%E3%83%AB%E3%83%BC%E3%83%A0', 'tweet_volume': None}, {'name': '管理人室', 'url': 'http://twitter.com/search?q=%E7%AE%A1%E7%90%86%E4%BA%BA%E5%AE%A4', 'promoted_content': None, 'query': '%E7%AE%A1%E7%90%86%E4%BA%BA%E5%AE%A4', 'tweet_volume': None}, {'name': 'SMTOWN', 'url': 'http://twitter.com/search?q=SMTOWN', 'promoted_content': None, 'query': 'SMTOWN', 'tweet_volume': 15497}, {'name': 'O.O.O', 'url': 'http://twitter.com/search?q=O.O.O', 'promoted_content': None, 'query': 'O.O.O', 'tweet_volume': 2048465}, {'name': 'ひと笑い', 'url': 'http://twitter.com/search?q=%E3%81%B2%E3%81%A8%E7%AC%91%E3%81%84', 'promoted_content': None, 'query': '%E3%81%B2%E3%81%A8%E7%AC%91%E3%81%84', 'tweet_volume': None}, {'name': 'サイコパス', 'url': 'http://twitter.com/search?q=%E3%82%B5%E3%82%A4%E3%82%B3%E3%83%91%E3%82%B9', 'promoted_content': None, 'query': '%E3%82%B5%E3%82%A4%E3%82%B3%E3%83%91%E3%82%B9', 'tweet_volume': None}, {'name': 'イベおつ', 'url': 'http://twitter.com/search?q=%E3%82%A4%E3%83%99%E3%81%8A%E3%81%A4', 'promoted_content': None, 'query': '%E3%82%A4%E3%83%99%E3%81%8A%E3%81%A4', 'tweet_volume': None}, {'name': 'スピード', 'url': 'http://twitter.com/search?q=%E3%82%B9%E3%83%94%E3%83%BC%E3%83%89', 'promoted_content': None, 'query': '%E3%82%B9%E3%83%94%E3%83%BC%E3%83%89', 'tweet_volume': 34207}, {'name': '驚きの言い訳', 'url': 'http://twitter.com/search?q=%E9%A9%9A%E3%81%8D%E3%81%AE%E8%A8%80%E3%81%84%E8%A8%B3', 'promoted_content': None, 'query': '%E9%A9%9A%E3%81%8D%E3%81%AE%E8%A8%80%E3%81%84%E8%A8%B3', 'tweet_volume': None}, {'name': 'Speak Now', 'url': 'http://twitter.com/search?q=%22Speak+Now%22', 'promoted_content': None, 'query': '%22Speak+Now%22', 'tweet_volume': 26887}, {'name': 'Gosar', 'url': 'http://twitter.com/search?q=Gosar', 'promoted_content': None, 'query': 'Gosar', 'tweet_volume': 180052}, {'name': 'Medyanın Gizledikleri', 'url': 'http://twitter.com/search?q=%22Medyan%C4%B1n+Gizledikleri%22', 'promoted_content': None, 'query': '%22Medyan%C4%B1n+Gizledikleri%22', 'tweet_volume': None}, {'name': 'MANAN IS COMING BACK', 'url': 'http://twitter.com/search?q=%22MANAN+IS+COMING+BACK%22', 'promoted_content': None, 'query': '%22MANAN+IS+COMING+BACK%22', 'tweet_volume': 11907}, {'name': '#MOAはTXTの半分のIto', 'url': 'http://twitter.com/search?q=%23MOA%E3%81%AFTXT%E3%81%AE%E5%8D%8A%E5%88%86%E3%81%AEIto', 'promoted_content': None, 'query': '%23MOA%E3%81%AFTXT%E3%81%AE%E5%8D%8A%E5%88%86%E3%81%AEIto', 'tweet_volume': 22987}, {'name': '#شهرتك_بين_يديك', 'url': 'http://twitter.com/search?q=%23%D8%B4%D9%87%D8%B1%D8%AA%D9%83_%D8%A8%D9%8A%D9%86_%D9%8A%D8%AF%D9%8A%D9%83', 'promoted_content': None, 'query': '%23%D8%B4%D9%87%D8%B1%D8%AA%D9%83_%D8%A8%D9%8A%D9%86_%D9%8A%D8%AF%D9%8A%D9%83', 'tweet_volume': None}, {'name': '#クーポンやめろ現金配れ', 'url': 'http://twitter.com/search?q=%23%E3%82%AF%E3%83%BC%E3%83%9D%E3%83%B3%E3%82%84%E3%82%81%E3%82%8D%E7%8F%BE%E9%87%91%E9%85%8D%E3%82%8C', 'promoted_content': None, 'query': '%23%E3%82%AF%E3%83%BC%E3%83%9D%E3%83%B3%E3%82%84%E3%82%81%E3%82%8D%E7%8F%BE%E9%87%91%E9%85%8D%E3%82%8C', 'tweet_volume': 35712}, {'name': '#ShopeexWarWanarat', 'url': 'http://twitter.com/search?q=%23ShopeexWarWanarat', 'promoted_content': None, 'query': '%23ShopeexWarWanarat', 'tweet_volume': 38661}, {'name': '#BTSメンバー診断', 'url': 'http://twitter.com/search?q=%23BTS%E3%83%A1%E3%83%B3%E3%83%90%E3%83%BC%E8%A8%BA%E6%96%AD', 'promoted_content': None, 'query': '%23BTS%E3%83%A1%E3%83%B3%E3%83%90%E3%83%BC%E8%A8%BA%E6%96%AD', 'tweet_volume': None}, {'name': '#0X1LOVESONG_JP', 'url': 'http://twitter.com/search?q=%230X1LOVESONG_JP', 'promoted_content': None, 'query': '%230X1LOVESONG_JP', 'tweet_volume': 83379}, {'name': '#SamsunluKızlarSüperdir', 'url': 'http://twitter.com/search?q=%23SamsunluK%C4%B1zlarS%C3%BCperdir', 'promoted_content': None, 'query': '%23SamsunluK%C4%B1zlarS%C3%BCperdir', 'tweet_volume': None}, {'name': '#ハンオシ', 'url': 'http://twitter.com/search?q=%23%E3%83%8F%E3%83%B3%E3%82%AA%E3%82%B7', 'promoted_content': None, 'query': '%23%E3%83%8F%E3%83%B3%E3%82%AA%E3%82%B7', 'tweet_volume': 12278}, {'name': '#メンテの日なのでssを貼る', 'url': 'http://twitter.com/search?q=%23%E3%83%A1%E3%83%B3%E3%83%86%E3%81%AE%E6%97%A5%E3%81%AA%E3%81%AE%E3%81%A7ss%E3%82%92%E8%B2%BC%E3%82%8B', 'promoted_content': None, 'query': '%23%E3%83%A1%E3%83%B3%E3%83%86%E3%81%AE%E6%97%A5%E3%81%AA%E3%81%AE%E3%81%A7ss%E3%82%92%E8%B2%BC%E3%82%8B', 'tweet_volume': None}, {'name': '#Money2ndHOT100', 'url': 'http://twitter.com/search?q=%23Money2ndHOT100', 'promoted_content': None, 'query': '%23Money2ndHOT100', 'tweet_volume': 209346}, {'name': '#RespectAndApologizeToJennie', 'url': 'http://twitter.com/search?q=%23RespectAndApologizeToJennie', 'promoted_content': None, 'query': '%23RespectAndApologizeToJennie', 'tweet_volume': 120419}, {'name': '#LazadaSelaludiHati', 'url': 'http://twitter.com/search?q=%23LazadaSelaludiHati', 'promoted_content': None, 'query': '%23LazadaSelaludiHati', 'tweet_volume': 10595}], 'as_of': '2021-11-09T14:43:49Z', 'created_at': '2021-11-08T12:56:41Z', 'locations': [{'name': 'Worldwide', 'woeid': 1}]}]\n"
     ]
    }
   ],
   "source": [
    "WORLD_WOE_ID = 1 # The \"Yahoo! Where On Earth ID\" for the entire world\n",
    "world_trends = twitter_api.trends.place(_id=WORLD_WOE_ID) # get back a callable\n",
    "print(world_trends)"
   ]
  },
  {
   "cell_type": "markdown",
   "metadata": {},
   "source": [
    "### Task 1\n",
    "Twitter uses WOEIDs. Find out how WORLD_WOE_IDs were originally defined by Yahoo! and try to use others in a query. What kind of differences do you find between the worldwide trends and the local trends? \n"
   ]
  },
  {
   "cell_type": "code",
   "execution_count": 5,
   "metadata": {},
   "outputs": [
    {
     "name": "stdout",
     "output_type": "stream",
     "text": [
      "[{'trends': [{'name': 'Rittenhouse', 'url': 'http://twitter.com/search?q=Rittenhouse', 'promoted_content': None, 'query': 'Rittenhouse', 'tweet_volume': 252656}, {'name': 'Xfinity', 'url': 'http://twitter.com/search?q=Xfinity', 'promoted_content': None, 'query': 'Xfinity', 'tweet_volume': 16200}, {'name': 'Quantum Leap', 'url': 'http://twitter.com/search?q=%22Quantum+Leap%22', 'promoted_content': None, 'query': '%22Quantum+Leap%22', 'tweet_volume': 14304}, {'name': 'Dean Stockwell', 'url': 'http://twitter.com/search?q=%22Dean+Stockwell%22', 'promoted_content': None, 'query': '%22Dean+Stockwell%22', 'tweet_volume': 26690}, {'name': 'Morris', 'url': 'http://twitter.com/search?q=Morris', 'promoted_content': None, 'query': 'Morris', 'tweet_volume': 69222}, {'name': 'Jokic', 'url': 'http://twitter.com/search?q=Jokic', 'promoted_content': None, 'query': 'Jokic', 'tweet_volume': 98644}, {'name': '#tuesdayvibe', 'url': 'http://twitter.com/search?q=%23tuesdayvibe', 'promoted_content': None, 'query': '%23tuesdayvibe', 'tweet_volume': 11802}, {'name': '#tuesdaymotivations', 'url': 'http://twitter.com/search?q=%23tuesdaymotivations', 'promoted_content': None, 'query': '%23tuesdaymotivations', 'tweet_volume': 31800}, {'name': 'Gosar', 'url': 'http://twitter.com/search?q=Gosar', 'promoted_content': None, 'query': 'Gosar', 'tweet_volume': 180052}, {'name': '#redtaylorsversion', 'url': 'http://twitter.com/search?q=%23redtaylorsversion', 'promoted_content': None, 'query': '%23redtaylorsversion', 'tweet_volume': 32555}, {'name': 'Blue Velvet', 'url': 'http://twitter.com/search?q=%22Blue+Velvet%22', 'promoted_content': None, 'query': '%22Blue+Velvet%22', 'tweet_volume': None}, {'name': 'Sununu', 'url': 'http://twitter.com/search?q=Sununu', 'promoted_content': None, 'query': 'Sununu', 'tweet_volume': None}, {'name': 'Max Cleland', 'url': 'http://twitter.com/search?q=%22Max+Cleland%22', 'promoted_content': None, 'query': '%22Max+Cleland%22', 'tweet_volume': None}, {'name': '#ThingsYouShouldNeverSwallow', 'url': 'http://twitter.com/search?q=%23ThingsYouShouldNeverSwallow', 'promoted_content': None, 'query': '%23ThingsYouShouldNeverSwallow', 'tweet_volume': None}, {'name': 'Fendi x Skims', 'url': 'http://twitter.com/search?q=%22Fendi+x+Skims%22', 'promoted_content': None, 'query': '%22Fendi+x+Skims%22', 'tweet_volume': None}, {'name': '#TuesdayFeeling', 'url': 'http://twitter.com/search?q=%23TuesdayFeeling', 'promoted_content': None, 'query': '%23TuesdayFeeling', 'tweet_volume': 10804}, {'name': 'Wyatt Teller', 'url': 'http://twitter.com/search?q=%22Wyatt+Teller%22', 'promoted_content': None, 'query': '%22Wyatt+Teller%22', 'tweet_volume': None}, {'name': 'Speak Now', 'url': 'http://twitter.com/search?q=%22Speak+Now%22', 'promoted_content': None, 'query': '%22Speak+Now%22', 'tweet_volume': 26956}, {'name': 'Twitter Blue', 'url': 'http://twitter.com/search?q=%22Twitter+Blue%22', 'promoted_content': None, 'query': '%22Twitter+Blue%22', 'tweet_volume': 175465}, {'name': 'Kellyanne', 'url': 'http://twitter.com/search?q=Kellyanne', 'promoted_content': None, 'query': 'Kellyanne', 'tweet_volume': None}, {'name': 'Good Tuesday', 'url': 'http://twitter.com/search?q=%22Good+Tuesday%22', 'promoted_content': None, 'query': '%22Good+Tuesday%22', 'tweet_volume': 22879}, {'name': 'Married to the Mob', 'url': 'http://twitter.com/search?q=%22Married+to+the+Mob%22', 'promoted_content': None, 'query': '%22Married+to+the+Mob%22', 'tweet_volume': None}, {'name': 'Ann Coulter', 'url': 'http://twitter.com/search?q=%22Ann+Coulter%22', 'promoted_content': None, 'query': '%22Ann+Coulter%22', 'tweet_volume': None}, {'name': 'General Electric', 'url': 'http://twitter.com/search?q=%22General+Electric%22', 'promoted_content': None, 'query': '%22General+Electric%22', 'tweet_volume': None}, {'name': 'Columbine', 'url': 'http://twitter.com/search?q=Columbine', 'promoted_content': None, 'query': 'Columbine', 'tweet_volume': None}, {'name': 'Kathy Griffin', 'url': 'http://twitter.com/search?q=%22Kathy+Griffin%22', 'promoted_content': None, 'query': '%22Kathy+Griffin%22', 'tweet_volume': None}, {'name': 'Telfar', 'url': 'http://twitter.com/search?q=Telfar', 'promoted_content': None, 'query': 'Telfar', 'tweet_volume': None}, {'name': 'Tony Corrente', 'url': 'http://twitter.com/search?q=%22Tony+Corrente%22', 'promoted_content': None, 'query': '%22Tony+Corrente%22', 'tweet_volume': 13256}, {'name': 'AIDS', 'url': 'http://twitter.com/search?q=AIDS', 'promoted_content': None, 'query': 'AIDS', 'tweet_volume': 49465}, {'name': 'Mohamad', 'url': 'http://twitter.com/search?q=Mohamad', 'promoted_content': None, 'query': 'Mohamad', 'tweet_volume': None}, {'name': 'Melo', 'url': 'http://twitter.com/search?q=Melo', 'promoted_content': None, 'query': 'Melo', 'tweet_volume': 52379}, {'name': 'Battlestar Galactica', 'url': 'http://twitter.com/search?q=%22Battlestar+Galactica%22', 'promoted_content': None, 'query': '%22Battlestar+Galactica%22', 'tweet_volume': None}, {'name': 'Carl Sagan', 'url': 'http://twitter.com/search?q=%22Carl+Sagan%22', 'promoted_content': None, 'query': '%22Carl+Sagan%22', 'tweet_volume': None}, {'name': 'Fios', 'url': 'http://twitter.com/search?q=Fios', 'promoted_content': None, 'query': 'Fios', 'tweet_volume': None}, {'name': 'Kristallnacht', 'url': 'http://twitter.com/search?q=Kristallnacht', 'promoted_content': None, 'query': 'Kristallnacht', 'tweet_volume': None}, {'name': 'Terrific Tuesday', 'url': 'http://twitter.com/search?q=%22Terrific+Tuesday%22', 'promoted_content': None, 'query': '%22Terrific+Tuesday%22', 'tweet_volume': None}, {'name': 'Marsh', 'url': 'http://twitter.com/search?q=Marsh', 'promoted_content': None, 'query': 'Marsh', 'tweet_volume': 20817}, {'name': 'Puzzling', 'url': 'http://twitter.com/search?q=Puzzling', 'promoted_content': None, 'query': 'Puzzling', 'tweet_volume': None}, {'name': 'Jimmy Butler', 'url': 'http://twitter.com/search?q=%22Jimmy+Butler%22', 'promoted_content': None, 'query': '%22Jimmy+Butler%22', 'tweet_volume': 12656}, {'name': 'The Boy with Green Hair', 'url': 'http://twitter.com/search?q=%22The+Boy+with+Green+Hair%22', 'promoted_content': None, 'query': '%22The+Boy+with+Green+Hair%22', 'tweet_volume': None}, {'name': 'Jim Jones', 'url': 'http://twitter.com/search?q=%22Jim+Jones%22', 'promoted_content': None, 'query': '%22Jim+Jones%22', 'tweet_volume': None}, {'name': 'Steph', 'url': 'http://twitter.com/search?q=Steph', 'promoted_content': None, 'query': 'Steph', 'tweet_volume': 80223}, {'name': 'Chicagoland', 'url': 'http://twitter.com/search?q=Chicagoland', 'promoted_content': None, 'query': 'Chicagoland', 'tweet_volume': None}, {'name': 'Getty', 'url': 'http://twitter.com/search?q=Getty', 'promoted_content': None, 'query': 'Getty', 'tweet_volume': None}, {'name': 'Victory Tuesday', 'url': 'http://twitter.com/search?q=%22Victory+Tuesday%22', 'promoted_content': None, 'query': '%22Victory+Tuesday%22', 'tweet_volume': None}, {'name': 'Paris, Texas', 'url': 'http://twitter.com/search?q=%22Paris%2C+Texas%22', 'promoted_content': None, 'query': '%22Paris%2C+Texas%22', 'tweet_volume': None}, {'name': 'Serbia', 'url': 'http://twitter.com/search?q=Serbia', 'promoted_content': None, 'query': 'Serbia', 'tweet_volume': None}, {'name': 'Scott Bakula', 'url': 'http://twitter.com/search?q=%22Scott+Bakula%22', 'promoted_content': None, 'query': '%22Scott+Bakula%22', 'tweet_volume': None}, {'name': 'Joker', 'url': 'http://twitter.com/search?q=Joker', 'promoted_content': None, 'query': 'Joker', 'tweet_volume': 47593}, {'name': 'Berlin Wall', 'url': 'http://twitter.com/search?q=%22Berlin+Wall%22', 'promoted_content': None, 'query': '%22Berlin+Wall%22', 'tweet_volume': None}], 'as_of': '2021-11-09T14:43:54Z', 'created_at': '2021-11-08T10:55:47Z', 'locations': [{'name': 'New York', 'woeid': 2459115}]}]\n"
     ]
    }
   ],
   "source": [
    "# Your code here\n",
    "#\n",
    "#\n",
    "WORLD_WOE_ID = 2459115\n",
    "world_trends = twitter_api.trends.place(_id=WORLD_WOE_ID) # get back a callable\n",
    "print(world_trends)\n",
    "#\n",
    "#\n",
    "# The WORLD_WOE_ID is an identifier to track different locations worldwide, and it will extract contents\n",
    "# in different languages\n",
    "\n",
    "# Using different WORLD_WOE_ID to retrieve search trend could acquire contents from different countries.\n",
    "# 1 => the whole word, 2459115 => New York, etc."
   ]
  },
  {
   "cell_type": "markdown",
   "metadata": {},
   "source": [
    "### 1.2: Retrieving search results (from Example 1-5/9-3 in Mining the Social Web):"
   ]
  },
  {
   "cell_type": "code",
   "execution_count": 6,
   "metadata": {},
   "outputs": [
    {
     "name": "stdout",
     "output_type": "stream",
     "text": [
      "<class 'list'>\n",
      "{\n",
      " \"created_at\": \"Tue Nov 09 14:43:01 +0000 2021\",\n",
      " \"id\": 1458082705372033025,\n",
      " \"id_str\": \"1458082705372033025\",\n",
      " \"text\": \"#RevisitingWithRiaz Day-97\\n\\nA poster from #MakkalTheerpu\\n\\n#Nostalgia #nostalgic #throwbackpicture #Throwback\\u2026 https://t.co/N8ffnhrpHn\",\n",
      " \"truncated\": true,\n",
      " \"entities\": {\n",
      "  \"hashtags\": [\n",
      "   {\n",
      "    \"text\": \"RevisitingWithRiaz\",\n",
      "    \"indices\": [\n",
      "     0,\n",
      "     19\n",
      "    ]\n",
      "   },\n",
      "   {\n",
      "    \"text\": \"MakkalTheerpu\",\n",
      "    \"indices\": [\n",
      "     42,\n",
      "     56\n",
      "    ]\n",
      "   },\n",
      "   {\n",
      "    \"text\": \"Nostalgia\",\n",
      "    \"indices\": [\n",
      "     58,\n",
      "     68\n",
      "    ]\n",
      "   },\n",
      "   {\n",
      "    \"text\": \"nostalgic\",\n",
      "    \"indices\": [\n",
      "     69,\n",
      "     79\n",
      "    ]\n",
      "   },\n",
      "   {\n",
      "    \"text\": \"throwbackpicture\",\n",
      "    \"indices\": [\n",
      "     80,\n",
      "     97\n",
      "    ]\n",
      "   },\n",
      "   {\n",
      "    \"text\": \"Throwback\",\n",
      "    \"indices\": [\n",
      "     98,\n",
      "     108\n",
      "    ]\n",
      "   }\n",
      "  ],\n",
      "  \"symbols\": [],\n",
      "  \"user_mentions\": [],\n",
      "  \"urls\": [\n",
      "   {\n",
      "    \"url\": \"https://t.co/N8ffnhrpHn\",\n",
      "    \"expanded_url\": \"https://twitter.com/i/web/status/1458082705372033025\",\n",
      "    \"display_url\": \"twitter.com/i/web/status/1\\u2026\",\n",
      "    \"indices\": [\n",
      "     110,\n",
      "     133\n",
      "    ]\n",
      "   }\n",
      "  ]\n",
      " },\n",
      " \"metadata\": {\n",
      "  \"iso_language_code\": \"en\",\n",
      "  \"result_type\": \"recent\"\n",
      " },\n",
      " \"source\": \"<a href=\\\"http://twitter.com/download/android\\\" rel=\\\"nofollow\\\">Twitter for Android</a>\",\n",
      " \"in_reply_to_status_id\": null,\n",
      " \"in_reply_to_status_id_str\": null,\n",
      " \"in_reply_to_user_id\": null,\n",
      " \"in_reply_to_user_id_str\": null,\n",
      " \"in_reply_to_screen_name\": null,\n",
      " \"user\": {\n",
      "  \"id\": 179352922,\n",
      "  \"id_str\": \"179352922\",\n",
      "  \"name\": \"RIAZ K AHMED\",\n",
      "  \"screen_name\": \"RIAZtheboss\",\n",
      "  \"location\": \"\",\n",
      "  \"description\": \"PR & Event Manager| Editor In Chief Of @v4umedia_ | Movie Buff| \\n\\n\\nhttps://t.co/vMVuf5dEbo\",\n",
      "  \"url\": \"https://t.co/9Pvxk5cxXy\",\n",
      "  \"entities\": {\n",
      "   \"url\": {\n",
      "    \"urls\": [\n",
      "     {\n",
      "      \"url\": \"https://t.co/9Pvxk5cxXy\",\n",
      "      \"expanded_url\": \"http://www.v4umedia.in\",\n",
      "      \"display_url\": \"v4umedia.in\",\n",
      "      \"indices\": [\n",
      "       0,\n",
      "       23\n",
      "      ]\n",
      "     }\n",
      "    ]\n",
      "   },\n",
      "   \"description\": {\n",
      "    \"urls\": [\n",
      "     {\n",
      "      \"url\": \"https://t.co/vMVuf5dEbo\",\n",
      "      \"expanded_url\": \"http://instagram.com/riazkahmed.pro/\",\n",
      "      \"display_url\": \"instagram.com/riazkahmed.pro/\",\n",
      "      \"indices\": [\n",
      "       67,\n",
      "       90\n",
      "      ]\n",
      "     }\n",
      "    ]\n",
      "   }\n",
      "  },\n",
      "  \"protected\": false,\n",
      "  \"followers_count\": 178066,\n",
      "  \"friends_count\": 920,\n",
      "  \"listed_count\": 140,\n",
      "  \"created_at\": \"Tue Aug 17 02:41:41 +0000 2010\",\n",
      "  \"favourites_count\": 121948,\n",
      "  \"utc_offset\": null,\n",
      "  \"time_zone\": null,\n",
      "  \"geo_enabled\": true,\n",
      "  \"verified\": true,\n",
      "  \"statuses_count\": 104039,\n",
      "  \"lang\": null,\n",
      "  \"contributors_enabled\": false,\n",
      "  \"is_translator\": false,\n",
      "  \"is_translation_enabled\": false,\n",
      "  \"profile_background_color\": \"ACDED6\",\n",
      "  \"profile_background_image_url\": \"http://abs.twimg.com/images/themes/theme18/bg.gif\",\n",
      "  \"profile_background_image_url_https\": \"https://abs.twimg.com/images/themes/theme18/bg.gif\",\n",
      "  \"profile_background_tile\": false,\n",
      "  \"profile_image_url\": \"http://pbs.twimg.com/profile_images/1115236114510405638/URSnBu3c_normal.jpg\",\n",
      "  \"profile_image_url_https\": \"https://pbs.twimg.com/profile_images/1115236114510405638/URSnBu3c_normal.jpg\",\n",
      "  \"profile_banner_url\": \"https://pbs.twimg.com/profile_banners/179352922/1583760094\",\n",
      "  \"profile_link_color\": \"038543\",\n",
      "  \"profile_sidebar_border_color\": \"EEEEEE\",\n",
      "  \"profile_sidebar_fill_color\": \"F6F6F6\",\n",
      "  \"profile_text_color\": \"333333\",\n",
      "  \"profile_use_background_image\": true,\n",
      "  \"has_extended_profile\": true,\n",
      "  \"default_profile\": false,\n",
      "  \"default_profile_image\": false,\n",
      "  \"following\": false,\n",
      "  \"follow_request_sent\": false,\n",
      "  \"notifications\": false,\n",
      "  \"translator_type\": \"none\",\n",
      "  \"withheld_in_countries\": []\n",
      " },\n",
      " \"geo\": null,\n",
      " \"coordinates\": null,\n",
      " \"place\": null,\n",
      " \"contributors\": null,\n",
      " \"is_quote_status\": false,\n",
      " \"retweet_count\": 0,\n",
      " \"favorite_count\": 6,\n",
      " \"favorited\": false,\n",
      " \"retweeted\": false,\n",
      " \"possibly_sensitive\": false,\n",
      " \"lang\": \"en\"\n",
      "}\n"
     ]
    }
   ],
   "source": [
    "q = '#ThrowbackThursday' # XXX: Set this variable to a trending topic, or anything else you like. \n",
    "count = 100 # number of results to retrieve\n",
    "\n",
    "# See https://dev.twitter.com/docs/api/1.1/get/search/tweets for more info\n",
    "\n",
    "search_results = twitter_api.search.tweets(q=q, count=count) # search for your query 'q' 100 times\n",
    "statuses = search_results['statuses'] # extract the tweets found\n",
    "\n",
    "# The following code allows you to print in a nice format the contents of search_results\n",
    "import json\n",
    "print(type(statuses))\n",
    "print(json.dumps(statuses[0], indent=1))"
   ]
  },
  {
   "cell_type": "markdown",
   "metadata": {},
   "source": [
    "### Task 2\n",
    "\n",
    "In the cell below, create a second variable (e.g. `statuses2`) that holds the results of a query other than the one presented above. Think about a query that would yield very different results than the first one, for example one that may yield a shorter output or about a different topic."
   ]
  },
  {
   "cell_type": "code",
   "execution_count": 7,
   "metadata": {},
   "outputs": [
    {
     "name": "stdout",
     "output_type": "stream",
     "text": [
      "<class 'list'>\n",
      "{\n",
      "    \"created_at\": \"Tue Nov 09 14:43:58 +0000 2021\",\n",
      "    \"id\": 1458082943977598990,\n",
      "    \"id_str\": \"1458082943977598990\",\n",
      "    \"text\": \"Stop #coronavirus RT!\\n\\nCall for the resignation of Tedros Adhanom Ghebreyesus, #WHO Director General\\n\\u2b07\\u2b07\\n\\u2712\\u2026 https://t.co/v0pvILN3Ub\",\n",
      "    \"truncated\": true,\n",
      "    \"entities\": {\n",
      "        \"hashtags\": [\n",
      "            {\n",
      "                \"text\": \"coronavirus\",\n",
      "                \"indices\": [\n",
      "                    5,\n",
      "                    17\n",
      "                ]\n",
      "            },\n",
      "            {\n",
      "                \"text\": \"WHO\",\n",
      "                \"indices\": [\n",
      "                    79,\n",
      "                    83\n",
      "                ]\n",
      "            }\n",
      "        ],\n",
      "        \"symbols\": [],\n",
      "        \"user_mentions\": [],\n",
      "        \"urls\": [\n",
      "            {\n",
      "                \"url\": \"https://t.co/v0pvILN3Ub\",\n",
      "                \"expanded_url\": \"https://twitter.com/i/web/status/1458082943977598990\",\n",
      "                \"display_url\": \"twitter.com/i/web/status/1\\u2026\",\n",
      "                \"indices\": [\n",
      "                    107,\n",
      "                    130\n",
      "                ]\n",
      "            }\n",
      "        ]\n",
      "    },\n",
      "    \"metadata\": {\n",
      "        \"iso_language_code\": \"en\",\n",
      "        \"result_type\": \"recent\"\n",
      "    },\n",
      "    \"source\": \"<a href=\\\"http://twittbot.net/\\\" rel=\\\"nofollow\\\">twittbot.net</a>\",\n",
      "    \"in_reply_to_status_id\": null,\n",
      "    \"in_reply_to_status_id_str\": null,\n",
      "    \"in_reply_to_user_id\": null,\n",
      "    \"in_reply_to_user_id_str\": null,\n",
      "    \"in_reply_to_screen_name\": null,\n",
      "    \"user\": {\n",
      "        \"id\": 331916700,\n",
      "        \"id_str\": \"331916700\",\n",
      "        \"name\": \"Corona-chan\\ud83d\\ude37#Coronavirus\\u2623#Coronachan #Corona_chan\",\n",
      "        \"screen_name\": \"Corona_chan_\",\n",
      "        \"location\": \"Your side\",\n",
      "        \"description\": \"#\\u30b3\\u30ed\\u30ca\\u3061\\u3083\\u3093 #Coronachan\\nStop #CoronaVirus \\u2b07sign\\u2b07\\nhttps://t.co/PrseB7rNyD\",\n",
      "        \"url\": \"https://t.co/NkaCos8Ld5\",\n",
      "        \"entities\": {\n",
      "            \"url\": {\n",
      "                \"urls\": [\n",
      "                    {\n",
      "                        \"url\": \"https://t.co/NkaCos8Ld5\",\n",
      "                        \"expanded_url\": \"https://change.org/p/united-nations-call-for-the-resignation-of-tedros-adhanom-ghebreyesus-who-director-general\",\n",
      "                        \"display_url\": \"change.org/p/united-natio\\u2026\",\n",
      "                        \"indices\": [\n",
      "                            0,\n",
      "                            23\n",
      "                        ]\n",
      "                    }\n",
      "                ]\n",
      "            },\n",
      "            \"description\": {\n",
      "                \"urls\": [\n",
      "                    {\n",
      "                        \"url\": \"https://t.co/PrseB7rNyD\",\n",
      "                        \"expanded_url\": \"https://www.change.org/p/united-nations-call-for-the-resignation-of-tedros-adhanom-ghebreyesus-who-director-general\",\n",
      "                        \"display_url\": \"change.org/p/united-natio\\u2026\",\n",
      "                        \"indices\": [\n",
      "                            45,\n",
      "                            68\n",
      "                        ]\n",
      "                    }\n",
      "                ]\n",
      "            }\n",
      "        },\n",
      "        \"protected\": false,\n",
      "        \"followers_count\": 5997,\n",
      "        \"friends_count\": 7172,\n",
      "        \"listed_count\": 28,\n",
      "        \"created_at\": \"Fri Jul 08 22:48:48 +0000 2011\",\n",
      "        \"favourites_count\": 426,\n",
      "        \"utc_offset\": null,\n",
      "        \"time_zone\": null,\n",
      "        \"geo_enabled\": false,\n",
      "        \"verified\": false,\n",
      "        \"statuses_count\": 3303,\n",
      "        \"lang\": null,\n",
      "        \"contributors_enabled\": false,\n",
      "        \"is_translator\": false,\n",
      "        \"is_translation_enabled\": false,\n",
      "        \"profile_background_color\": \"0099B9\",\n",
      "        \"profile_background_image_url\": \"http://abs.twimg.com/images/themes/theme4/bg.gif\",\n",
      "        \"profile_background_image_url_https\": \"https://abs.twimg.com/images/themes/theme4/bg.gif\",\n",
      "        \"profile_background_tile\": false,\n",
      "        \"profile_image_url\": \"http://pbs.twimg.com/profile_images/1226279082863652865/G-CUxCf7_normal.jpg\",\n",
      "        \"profile_image_url_https\": \"https://pbs.twimg.com/profile_images/1226279082863652865/G-CUxCf7_normal.jpg\",\n",
      "        \"profile_banner_url\": \"https://pbs.twimg.com/profile_banners/331916700/1581432343\",\n",
      "        \"profile_link_color\": \"0099B9\",\n",
      "        \"profile_sidebar_border_color\": \"5ED4DC\",\n",
      "        \"profile_sidebar_fill_color\": \"95E8EC\",\n",
      "        \"profile_text_color\": \"3C3940\",\n",
      "        \"profile_use_background_image\": true,\n",
      "        \"has_extended_profile\": false,\n",
      "        \"default_profile\": false,\n",
      "        \"default_profile_image\": false,\n",
      "        \"following\": false,\n",
      "        \"follow_request_sent\": false,\n",
      "        \"notifications\": false,\n",
      "        \"translator_type\": \"none\",\n",
      "        \"withheld_in_countries\": []\n",
      "    },\n",
      "    \"geo\": null,\n",
      "    \"coordinates\": null,\n",
      "    \"place\": null,\n",
      "    \"contributors\": null,\n",
      "    \"is_quote_status\": false,\n",
      "    \"retweet_count\": 0,\n",
      "    \"favorite_count\": 0,\n",
      "    \"favorited\": false,\n",
      "    \"retweeted\": false,\n",
      "    \"possibly_sensitive\": false,\n",
      "    \"lang\": \"en\"\n",
      "}\n"
     ]
    }
   ],
   "source": [
    "# your code here\n",
    "#\n",
    "#\n",
    "q = \"#Coronavirus\"\n",
    "count = 10\n",
    "search_results_2 = twitter_api.search.tweets(q=q, count=count)\n",
    "statuses_2 = search_results_2[\"statuses\"]\n",
    "#\n",
    "#\n",
    "#\n",
    "#\n",
    "print(type(statuses_2))\n",
    "print(json.dumps(statuses_2[0], indent=4))"
   ]
  },
  {
   "cell_type": "markdown",
   "metadata": {},
   "source": [
    "## Part 2: Extracting text, screen names, and hashtags from tweets (from Example 1-6 in Mining the Social Web)\n",
    "\n",
    "Simply printing all the search results to screen is nice, but to really start analysing them, it is handy to select the interesting parts and store them in a different structure such as a list. \n",
    "\n",
    "In this example you are using a thing called \"List Comprehension\".\n",
    "\n",
    "### 2.1 List Comprehensions\n",
    "List comprehension is a powerful construct that allows to succinctly build a list.\n",
    "With it you can process items from any iterable (e.g. dictionaries, lists, tuples, iterators...) and output a list while optionally performing an operation on each value.\n",
    "\n",
    "Here's a few examples:"
   ]
  },
  {
   "cell_type": "code",
   "execution_count": 8,
   "metadata": {},
   "outputs": [
    {
     "name": "stdout",
     "output_type": "stream",
     "text": [
      "[0, 2, 4, 6, 8, 10, 12, 14, 16, 18]\n",
      "[1, 9, 25, 49, 81]\n",
      "['The', 'Social', 'Web']\n",
      "[3, 6, 3]\n",
      "[1, 2, 3, 4, 5, 6, 7, 8, 9]\n"
     ]
    }
   ],
   "source": [
    "# double all values from 0 to 9\n",
    "double_list = [i*2 for i in range(10)]\n",
    "# raise to the power of 2, but only if the number is uneven\n",
    "power_even_list = [i**2 for i in range(10) if i%2!=0]\n",
    "# clean strings in a tuple\n",
    "stripped_lines = [x.strip() for x in ('The\\n', 'Social\\n', 'Web\\n')]\n",
    "# return length of each string in stripped_lines\n",
    "len_str_lines = [len(s) for s in stripped_lines]\n",
    "# finally, we can nest list comprehensions to flatten a list of lists:\n",
    "list_of_lists = [[1, 2, 3], [4, 5, 6], [7, 8, 9]]\n",
    "range_9 = [x for y in list_of_lists for x in y]\n",
    "\n",
    "print(double_list)\n",
    "print(power_even_list)\n",
    "print(stripped_lines)\n",
    "print(len_str_lines)\n",
    "print(range_9)"
   ]
  },
  {
   "cell_type": "markdown",
   "metadata": {},
   "source": [
    "### 2.2 Parsing text, screen names and hashtags from tweets\n",
    "*(from Example 1-6 in Mining the Social Web)*\n",
    "\n",
    "Hereafter, we'll be creating a variable `status_texts` of type list. \\\n",
    "The list will be filled with the `text` elements from each `status`, whereas `status` comes from looping through all `statuses` in the `search_results` list (1.2). \\\n",
    "Look up the list comprehensions in your Python reference materials to make sure you understand what's happening here. "
   ]
  },
  {
   "cell_type": "code",
   "execution_count": 9,
   "metadata": {},
   "outputs": [
    {
     "name": "stdout",
     "output_type": "stream",
     "text": [
      "[\n",
      " \"#RevisitingWithRiaz Day-97\\n\\nA poster from #MakkalTheerpu\\n\\n#Nostalgia #nostalgic #throwbackpicture #Throwback\\u2026 https://t.co/N8ffnhrpHn\",\n",
      " \"RT @GDSFoundation: #TBT to when #AcademyAward nominee and GLOBAL supporter @JeremyRenner walked the #BeBeautifulBeYourself Fashion Show run\\u2026\",\n",
      " \"#throwbackthursday i guess\\n\\nhttps://t.co/BeOsHNbFIb\\n\\nthis was at 50k mcap\\n\\nlmao https://t.co/E0FUjcCUYJ\",\n",
      " \"RT @UTVolShop: It's a #throwbackthursday giveaway!!! We found this ah-mazing canvas poster in our storage area, and we knew one of y'all wo\\u2026\",\n",
      " \"RT @Majesticare_ch: This is what Team Building looks like at Majesticare\\ud83e\\udddb\\u200d\\u2640\\ufe0f #ThrowbackThursday\\nJoin our #spooktacular team... if you've go\\u2026\"\n",
      "]\n",
      "[\n",
      " \"GDSFoundation\",\n",
      " \"JeremyRenner\",\n",
      " \"UTVolShop\",\n",
      " \"Majesticare_ch\",\n",
      " \"AnxietyPath\"\n",
      "]\n",
      "[\n",
      " \"RevisitingWithRiaz\",\n",
      " \"MakkalTheerpu\",\n",
      " \"Nostalgia\",\n",
      " \"nostalgic\",\n",
      " \"throwbackpicture\"\n",
      "]\n",
      "[\n",
      " \"#RevisitingWithRiaz\",\n",
      " \"Day-97\",\n",
      " \"A\",\n",
      " \"poster\",\n",
      " \"from\"\n",
      "]\n"
     ]
    }
   ],
   "source": [
    "status_texts = [ status['text'] for status in statuses ]\n",
    "# the escape character \"\\\" allows for the list comprehension to continue\n",
    "# on a new line. While not strictly necessary, it makes code more readable\n",
    "# for your fellow programmers.\n",
    "screen_names = [ user_mention['screen_name'] for status in statuses \\\n",
    "                for user_mention in status['entities']['user_mentions'] ]\n",
    "\n",
    "hashtags = [ hashtag['text'] for status in statuses \\\n",
    "        for hashtag in status['entities']['hashtags'] ]\n",
    "\n",
    "# Compute a collection of all words from all tweets\n",
    "words = [ w for t in status_texts for w in t.split() ] #split the string on the empty spaces\n",
    "\n",
    "# Explore the first 5 items for each...\n",
    "print(json.dumps(status_texts[0:5], indent=1))\n",
    "print(json.dumps(screen_names[0:5], indent=1))\n",
    "print(json.dumps(hashtags[0:5], indent=1))\n",
    "print(json.dumps(words[0:5], indent=1))"
   ]
  },
  {
   "cell_type": "markdown",
   "metadata": {},
   "source": [
    "### Task 3\n",
    "\n",
    "You are now ready to parse usernames, hashtags and text from the results you previously obtained in Task 2 (e.g. `statuses_2`). While doing it, make sure to leave the variables created in 2.2 untouched. Instead, create your own variable names, which you'll be using soon.\n"
   ]
  },
  {
   "cell_type": "code",
   "execution_count": 10,
   "metadata": {},
   "outputs": [
    {
     "name": "stdout",
     "output_type": "stream",
     "text": [
      "[\n",
      " \"Stop #coronavirus RT!\\n\\nCall for the resignation of Tedros Adhanom Ghebreyesus, #WHO Director General\\n\\u2b07\\u2b07\\n\\u2712\\u2026 https://t.co/v0pvILN3Ub\",\n",
      " \"RT @joyeriamonacoOK: \\ud83d\\udcffJOYER\\u00cdA M\\u00d3NACO\\u231a\\n\\u2734\\ufe0fTE ACERCA LA COTIZACI\\u00d3N DEL D\\u00d3LAR\\u2734\\ufe0f\\n\\n\\ud83d\\udcf2 #WhatsApp \\n11 2869 6155\\n\\n\\ud83d\\udccdRam\\u00f3n L. Falc\\u00f3n 7229 #CABA\\n\\n\\ud83d\\udc47\\ud83c\\udffb\\ud83c\\udf10\\ud83d\\udcf2\\ud83d\\udcbbT\\u2026\",\n",
      " \"RT @bobcooley: Two to Tango\\n#FujiXT3\\n130mm-1/500@\\u01922.8-ISO1600\\n\\n#artist #dancing #child #streetartist #graceful #candid #coronavirus #pandem\\u2026\",\n",
      " \"Promising results reported as Houston researchers are developing a nasal vaccine to combat COVID-19, @AllieCanales1\\u2026 https://t.co/YUuO0W7q7Q\",\n",
      " \"Camacho y Mesa creen que convocar un Paro Indefinido cerca de Navidad y A\\u00f1o Nuevo es una idea \\\"genial\\\" sobretodo de\\u2026 https://t.co/EFG6jYLKU8\"\n",
      "]\n",
      "[\n",
      " \"joyeriamonacoOK\",\n",
      " \"bobcooley\",\n",
      " \"AllieCanales1\",\n",
      " \"TVUNoticias\",\n",
      " \"AlertaCalidad\"\n",
      "]\n",
      "[\n",
      " \"coronavirus\",\n",
      " \"WHO\",\n",
      " \"WhatsApp\",\n",
      " \"CABA\",\n",
      " \"FujiXT3\"\n",
      "]\n",
      "[\n",
      " \"Stop\",\n",
      " \"#coronavirus\",\n",
      " \"RT!\",\n",
      " \"Call\",\n",
      " \"for\"\n",
      "]\n"
     ]
    }
   ],
   "source": [
    "# your code here\n",
    "#\n",
    "#\n",
    "status_text_2 = [status[\"text\"] for status in statuses_2]\n",
    "screen_names_2 = [user_mention[\"screen_name\"] for status in statuses_2\\\n",
    "                for user_mention in status[\"entities\"][\"user_mentions\"]]\n",
    "hashtags_2 = [ hashtag['text'] for status in statuses_2\\\n",
    "        for hashtag in status['entities']['hashtags'] ]\n",
    "words_2 = [ w for t in status_text_2 for w in t.split() ]\n",
    "print(json.dumps(status_text_2[0:5], indent=1))\n",
    "print(json.dumps(screen_names_2[0:5], indent=1))\n",
    "print(json.dumps(hashtags_2[0:5], indent=1))\n",
    "print(json.dumps(words_2[0:5], indent=1))\n",
    "#\n",
    "#"
   ]
  },
  {
   "cell_type": "markdown",
   "metadata": {},
   "source": [
    "## Part 3: Creating a basic frequency distribution from words in tweets\n",
    "*(from Examples 1-7 in Mining the Social Web)* \n",
    "\n",
    "\n",
    "In the cell below we display the 10 most common hashtag instances:"
   ]
  },
  {
   "cell_type": "code",
   "execution_count": 11,
   "metadata": {},
   "outputs": [
    {
     "name": "stdout",
     "output_type": "stream",
     "text": [
      "[('ThrowbackThursday', 21), ('throwbackthursday', 10), ('tbt', 4), ('Throwback', 3), ('WaybackWednesday', 3), ('RCBvsSRH', 3), ('TBT', 2), ('AcademyAward', 2), ('BeBeautifulBeYourself', 2), ('Beach', 2)]\n"
     ]
    }
   ],
   "source": [
    "from collections import Counter\n",
    "\n",
    "for item in [words, screen_names, hashtags]:\n",
    "    c = Counter(item)\n",
    "    \n",
    "print(c.most_common()[:10]) # top 10"
   ]
  },
  {
   "cell_type": "markdown",
   "metadata": {},
   "source": [
    "Your output should look something like this: \\\n",
    "`[('ThrowbackThursday', 34), ('throwbackthursday', 11), ('TBT', 6), ('ThrowBackThursday', 6), ('Trivia', 3), ('madoka_magica', 2), ('New', 2), ('EURO2020', 2), ('artists', 2)]`\n",
    "\n",
    "### Task 4\n",
    "Show hashtags frequency for results that you obtained in Task 3. Think about possible explanations for the different results you get from the analyses for the different queries.\n"
   ]
  },
  {
   "cell_type": "code",
   "execution_count": 12,
   "metadata": {},
   "outputs": [
    {
     "name": "stdout",
     "output_type": "stream",
     "text": [
      "[('coronavirus', 4), ('COVID19', 2), ('WHO', 1), ('WhatsApp', 1), ('CABA', 1)]\n"
     ]
    }
   ],
   "source": [
    "# You code here\n",
    "#\n",
    "#\n",
    "for item in [hashtags_2]:\n",
    "    c = Counter(item)\n",
    "    \n",
    "print(c.most_common()[:5])\n",
    "#\n",
    "#\n",
    "#"
   ]
  },
  {
   "cell_type": "markdown",
   "metadata": {},
   "source": [
    "### 3.1 Storing your results\n",
    "So far, we have been storing the data in working memory. Often it's handy to store your data to disk so you can retrieve it in a next session. \n",
    "\n",
    "The pickle module lets you do exactly that, by serializing data in a binary format.\n"
   ]
  },
  {
   "cell_type": "code",
   "execution_count": 13,
   "metadata": {},
   "outputs": [],
   "source": [
    "import pickle\n",
    "\n",
    "filepath = \"my_data.pickle\"\n",
    "# this indented python syntax is broadly defined as \"context manager\".\n",
    "# This means that everything happening under its indentation will use f\n",
    "# as file handle to filepath. The Shortand `wb` stands for \"write binary\",\n",
    "# which is how we serialize data to disk.\n",
    "with open(filepath, \"wb\") as f:\n",
    "    pickle.dump(words, f) # write the contents of list 'words' to file 'f'\n",
    "    \n",
    "# Note that, after the end of the indented block, the file is automatically closed.\n",
    "# Hence, no memory resource on your system is wasted idly."
   ]
  },
  {
   "cell_type": "markdown",
   "metadata": {},
   "source": [
    "If you browse to your working directory, you should find a file there named \"myData.pickle\". You can open this in a text editor, or load its contents back into a variable to do some more analyses on.\n"
   ]
  },
  {
   "cell_type": "code",
   "execution_count": 14,
   "metadata": {},
   "outputs": [
    {
     "name": "stdout",
     "output_type": "stream",
     "text": [
      "['#RevisitingWithRiaz', 'Day-97', 'A', 'poster', 'from', '#MakkalTheerpu', '#Nostalgia', '#nostalgic', '#throwbackpicture', '#Throwback…', 'https://t.co/N8ffnhrpHn', 'RT', '@GDSFoundation:', '#TBT', 'to', 'when', '#AcademyAward', 'nominee', 'and', 'GLOBAL', 'supporter', '@JeremyRenner', 'walked', 'the', '#BeBeautifulBeYourself', 'Fashion', 'Show', 'run…', '#throwbackthursday', 'i', 'guess', 'https://t.co/BeOsHNbFIb', 'this', 'was', 'at', '50k', 'mcap', 'lmao', 'https://t.co/E0FUjcCUYJ', 'RT', '@UTVolShop:', \"It's\", 'a', '#throwbackthursday', 'giveaway!!!', 'We', 'found', 'this', 'ah-mazing', 'canvas', 'poster', 'in', 'our', 'storage', 'area,', 'and', 'we', 'knew', 'one', 'of', \"y'all\", 'wo…', 'RT', '@Majesticare_ch:', 'This', 'is', 'what', 'Team', 'Building', 'looks', 'like', 'at', 'Majesticare🧛\\u200d♀️', '#ThrowbackThursday', 'Join', 'our', '#spooktacular', 'team...', 'if', \"you've\", 'go…', 'RT', '@AnxietyPath:', '#Beach', '#beachvolleyball', '#SiestaKey🏖️', '\"#ThrowbackThursday\"?', '\"#WaybackWednesday\"?', '(Im', 'not', 'any', 'good', 'at', 'these', \"#'s😂)\", 'If', 'I', 'was…', 'Happy', '#TongueOutTuesday', 'from', 'Betty', 'and', 'Morty', '(may', 'also', 'use', 'this', 'tomorrow', 'for', '#WaybackWednesday', 'or', 'next…', 'https://t.co/pHuELKKCXe', 'RT', '@buddy_gizmo:', 'Even', 'though', 'they', 'were', 'only', '2', 'months', 'old', 'in', 'this', 'picture', 'it’s', 'easy', 'to', 'see', 'who', 'is', 'who', 'here…the', 'body', 'shapes', 'and', 'swagger', 'of', 'on…', 'RT', '@buddy_gizmo:', 'One', 'of', 'mum’s', 'favourite', 'pictures', 'of', 'us', 'as', 'kittens!', 'We', 'are', 'looking', 'extremely', 'cute', 'so', 'it’s', 'no', 'wonder', 'she', 'loves', 'it!!', '😸😸🦁🦁', '#Thr…', 'RT', '@OliverSolberg01:', '3', 'years', 'ago', 'today', 'the', 'first', 'teaser', 'trailer', 'for', 'my', 'movie', '#Born2Drive', 'was', 'released', '-', 'fun', 'times!', '🤩', \"Who's\", 'watched', 'it?', '📽', '#T…', 'RT', '@edinburghcastle:', 'This', 'fantastic', 'photo', 'of', 'the', 'castle', 'from', 'the', 'Grassmarket', 'was', 'taken', 'in', 'the', '1940s.', '📸Thanks', 'to', 'our', 'friends', 'at', 'Canmore', 'fo…', 'RT', '@Rubyrocket67:', '#remberance', '#throwbackthursday', '#vw', '#convoy', '#abbeyroad', '#london', 'https://t.co/WW0QT2Rbdj', 'RT', '@bts_bighit:', 'Throwback', 'Thursday', 'Song', 'by', 'SUGA', '🎧', 'https://t.co/aormTVfDrx', \"It's\", 'the', 'darkest', 'before', 'break', 'of', 'dawn.', 'The', 'new', 'sun', 'will', 'shine', 'do…', 'RT', '@bts_bighit:', 'Throwback', 'Thursday', 'Song', 'by', 'RM', '🎧', 'https://t.co/e4uvdIsL3W', 'No', 'matter', 'what', 'you', 'take', 'from', 'me,', \"I'll\", 'love', 'you', 'like', \"I'll\", 'give', 'you…', 'SHIT', '#throwbackThursday', 'RT', '@AllanTheDj2:', 'What', 'other', 'way', 'to', 'Kickstart', 'ya', 'weekend', 'with', 'non', 'other', 'than', 'me', 'this', 'Thursday', 'at', 'the', '@TheRugbyChill', '..', '3', 'beers', 'at', '10k..', '#ol…', 'RT', '@aaag_ltd:', 'This', 'week', 'we', 'are', 'taking', 'it', 'back', 'to', 'Seaton', 'where', 'we', 'installed', 'Curtain', 'Walling', 'at', 'the', 'then', 'newly', 'refurbished', 'Tramway', 'Station,', 'c…', 'RT', '@bts_bighit:', 'Throwback', 'Thursday', 'Song', 'by', 'V', '🎧', 'https://t.co/E0ey2RJfmC', '나는', '리듬이', '되고', '노래가', '되어', 'ARMY', '위해', '노래할게', '#ThrowbackThursday', '#SkoolLuvAffair_S…', 'RT', '@bts_bighit:', 'Throwback', 'Thursday', 'Song', 'by', 'V', '🎧', 'https://t.co/E0ey2RJfmC', 'I', 'will', 'be', 'the', 'rhythm', 'and', 'song', 'to', 'sing', 'for', 'ARMY', '#ThrowbackThursday…', 'RT', '@bts_bighit:', 'Throwback', 'Thursday', 'Song', 'by', 'Jimin', '🎧', 'https://t.co/HutKJ83kIG', '우리', '다시', '만나는', '그날,', '서로를', '향해', '활짝', '웃어주자.', '#ThrowbackThursday', '#SkoolLuvAffa…', 'RT', '@bts_bighit:', 'Throwback', 'Thursday', 'Song', 'by', 'Jimin', '🎧', 'https://t.co/HutKJ83kIG', \"Let's\", 'smile', 'wide', 'for', 'each', 'other', 'on', 'the', 'day', 'we', 'meet', 'again.', '#Thr…', 'RT', '@bts_bighit:', 'Throwback', 'Thursday', 'Song', 'by', 'j-hope', '🎧', 'https://t.co/GSbmGXA23E', '지금', 'ARMY여러분', '맘은', '온통', '다~~💜', '#ThrowbackThursday', '#SkoolLuvAffair_Spec…', 'RT', '@bts_bighit:', 'Throwback', 'Thursday', 'Song', 'by', 'j-hope', '🎧', 'https://t.co/GSbmGXA23E', 'Right', 'now', \"ARMY's\", 'heart', 'is', 'filled', 'with~~💜', '#ThrowbackThursday', '#…', 'RT', '@leosdiaries1:', 'Throwback', 'to', 'the', 'early', 'years', 'when', 'I', 'was', 'cute', 'and', 'not', 'so', 'grumpy.', '#throwbackthursday', '#catsoftwitter', 'https://t.co/e7KmUOn7QG', 'RT', '@ArmorCollection:', \"It's\", '#ThrowbackThursday,', 'and', 'we', 'still', \"can't\", 'believe', 'it', 'has', 'been', 'a', 'full', 'year', 'since', 'we', 'moved', 'the', '95-ton', 'T28', 'Super', 'Heavy…', 'RT', '@NCA_UK:', 'This', 'time', 'last', 'year,', 'a', 'Birmingham', 'man', 'suspected', 'of', 'being', 'the', 'mastermind', 'behind', 'a', 'network', 'of', 'UK', 'cannabis', 'farms', 'was', 'arrested', 'as', 'p…', 'RT', '@CHcatLeo_Luna:', 'Snoopervisor', 'Luna', 'reporting', 'in', 'from', 'Watchtower', '1.', '#ThrowbackThursday', '#cats', '#CatsOfTwitter', 'https://t.co/6UUZvQ1NQE', 'RT', '@PixelEkedy:', '📸', 'we', 'love', 'Photography', '@alain_pasquat', '#ThrowbackThursday', '#Douala', '#cameroun', '#photooftheday', '#welovephotography', 'https://t.…', 'RT', '@GDSFoundation:', '#TBT', 'to', 'when', '#AcademyAward', 'nominee', 'and', 'GLOBAL', 'supporter', '@JeremyRenner', 'walked', 'the', '#BeBeautifulBeYourself', 'Fashion', 'Show', 'run…', 'RT', '@Cameralifelive:', 'RT', '@RothamstedManor:', '#tbt', '#throwbackthursday', 'to', 'last', 'weekend', 'when', 'we', 'hosted', 'Matt', '&amp;', \"Rachel's\", 'wedding', 'at', 'Rothamsted', 'Mano…', 'RT', '@urbanhorsedoc:', '#ThrowbackThursday', 'ban', '#HorseSlaughter', 'not', 'horses', '#HR3355', 'https://t.co/Ru27lk85qd', '#ThrowbackThursday', 'to', 'the', 'day', 'I', 'went', 'to', 'do', 'some', 'filming', 'for', '@BBCWatchdog', 'alongside', '@Mattallwright', 'in', 'a', 'rather', 'sple…', 'https://t.co/6mcQpZyU0x', 'Classic', 'Hip-Hop', 'Beef!', 'https://t.co/xPOmjmEvrm', '#throwbackthursday', '#throwbacktuesday', '#flashbackfriday', '#tbt', '#fbf', 'RT', '@ThaLunatic_:', '2PAC', 'at', 'the', 'Riddick', 'Bowe', 'vs.', 'Evander', 'Holyfield', '”The', 'Final', 'Chapter”', 'fight', 'at', 'Caesars', 'Palace', 'in', 'Paradise,', 'Nevada', 'on', 'November…', 'RT', '@ThaLunatic_:', '28', 'years', 'ago', 'today', '#2PAC', 'released', '‘Keep', 'Ya', 'Head', 'Up’', 'ft', 'Dave', 'Hollister', ',as', 'the', '3rd', 'single', 'from', 'his', 'sophomore', 'album', '‘Strictl…', 'RT', '@BestMyworld:', '#THROWBACKTHURSDAY', '#tbt', '#Persembe', 'Saat', 'İşte', 'bu', 'zaman', 'ama', 'tarihte', 'bir', 'tbt', 'Hava', 'da', 'bugün', 'mis', 'tam', 'rakılık', 'gezmelik', 'ama', 'bili…', 'RT', '@AllanTheDj2:', 'What', 'other', 'way', 'to', 'Kickstart', 'ya', 'weekend', 'with', 'non', 'other', 'than', 'me', 'this', 'Thursday', 'at', 'the', '@TheRugbyChill', '..', '3', 'beers', 'at', '10k..', '#ol…', 'RT', '@Jenbul13:', '#throwbackthursday', '2yrs', 'ago', 'with', '#TimRoth', 'for', '#TinStar', '(I', 'checked', 'with', 'Tim', 'that', 'he', 'was', 'happy', 'for', 'this', 'video', 'to', 'be', 'shared)', 'T…', 'RT', '@RCBTweets:', 'BONUS', '#ThrowbackThursday:', 'In', 'the', 'same', '#RCBvsSRH', 'match', 'in', '2018,', 'our', 'resident', 'alien', 'ABD', 'astonished', 'the', 'cricket', 'world', 'with', 'a', 'ca…', 'RT', '@RCBTweets:', 'BONUS', '#ThrowbackThursday:', 'In', 'the', 'same', '#RCBvsSRH', 'match', 'in', '2018,', 'our', 'resident', 'alien', 'ABD', 'astonished', 'the', 'cricket', 'world', 'with', 'a', 'ca…', 'RT', '@AnxietyPath:', '#Beach', '#beachvolleyball', '#SiestaKey🏖️', '\"#ThrowbackThursday\"?', '\"#WaybackWednesday\"?', '(Im', 'not', 'any', 'good', 'at', 'these', \"#'s😂)\", 'If', 'I', 'was…', 'RT', '@mikewcohn:', 'Two', 'types', 'of', 'authority', 'leaders', 'must', 'give', 'to', 'self-organizing', 'teams', '#throwbackthursday', '#agile', '#Scrum', 'https://t.co/1BkHBmM9GG', 'h…', 'RT', '@CSIRO:', 'Happy', '#ThrowbackThursday.', 'In', 'Feb', '1969', 'Director', 'of', 'Parkes', 'Observatory,', 'John', 'Bolton', '(left)', 'shows', 'Science', 'Minister', 'Mr', 'Malcolm', 'Frase…', 'RT', '@RCBTweets:', 'BONUS', '#ThrowbackThursday:', 'In', 'the', 'same', '#RCBvsSRH', 'match', 'in', '2018,', 'our', 'resident', 'alien', 'ABD', 'astonished', 'the', 'cricket', 'world', 'with', 'a', 'ca…', 'RT', '@writebase:', 'Netflix', 'has', 'recently', 'released', 'Season', '3', 'of', 'You,', 'so', 'we', 'thought', 'it', 'would', 'be', 'fun', 'to', 'share', 'our', 'review', 'of', 'the', 'entire', 'Season', '2.', 'In…', 'RT', '@vega_starlight:', '[Memories', 'October', '2020]', 'Undiminished', '🎃', '#smartdollundiminished', '#smartdoll', '#tbt', '#throwbackthursday', '#tbf', '#throwbackfriday…', 'Kein', '#ThrowbackThursday,', 'trotzdem', 'eine', 'schöne', 'Erinnerung:', 'https://t.co/XWSjhg9dta', '@yummy_travel', '#smmlvq1121', '#lego…', 'https://t.co/J30gYzfTDG', '@yummy_travel', '@LVQ_Bildung', '@meissner_media', 'kein', '#throwbackthursday,', 'trotzdem', 'schöne', 'Erinnerung:', 'https://t.co/7twHmF9Eai', 'RT', '@SidMalhotra:', 'Colour', 'is', 'Descriptive.', 'Black', '&amp;', 'White', 'is', 'Interpretive.', '#ThrowbackThursday', 'https://t.co/kWEY4jtspn', 'RT', '@kultivazy:', 'Ist', 'zwar', 'heute', 'zu', 'früh', 'für', '#ThrowbackThursday', 'aber', 'meine', 'Schusshaltung', 'mit', '8', 'Jahren', 'will', 'ich', 'der', 'Welt', 'und', 'Hansi', 'Flick', 'nicht…', 'RT', '@JackmansLanding:', 'Welcome', 'to', 'Tuesday.', '☺️', 'It’s', 'not', 'Thursday', 'so', 'we’re', 'cheating', 'and', 'calling', 'this', '#throwbacktuesday', 'seeing', 'as', 'Hugh', 'posted', 'i…', 'RT', '@telugufilmnagar:', '#Throwback', 'to', 'this', 'still', 'of', 'Superstar', '#MaheshBabu', 'from', 'the', 'cult', 'classic', '#Khaleja', '!', '#11YearsForKhaleja', '#ThrowbackThurs…', 'RT', '@maheshvamsi9:', '#Throwback', 'to', 'this', 'still', 'of', 'Superstar', '#MaheshBabu', 'from', 'the', 'cult', 'classic', '#Khaleja', '!', '#11YearsForKhaleja', '#ThrowbackThursday…', 'RT', '@RENEWIntl:', 'THROWBACK', 'THURSDAY', 'Formal', '&amp;', 'familiar', '#prayer', 'is', 'important,', 'but', 'exploring', 'different', 'prayers', 'to', 'welcome', 'members', 'of', 'your', 'small…']\n"
     ]
    }
   ],
   "source": [
    "# open the myData.pickle file and store its contents into variable 'words'\n",
    "\n",
    "with open(filepath, \"rb\") as f:\n",
    "    words = pickle.load(f)\n",
    "print(words)"
   ]
  },
  {
   "cell_type": "markdown",
   "metadata": {},
   "source": [
    "### 3.2 Using prettytable to display tuples in a nice way\n",
    "\n"
   ]
  },
  {
   "cell_type": "code",
   "execution_count": 15,
   "metadata": {},
   "outputs": [
    {
     "name": "stdout",
     "output_type": "stream",
     "text": [
      "+--------------------+-------+\n",
      "| Word               | Count |\n",
      "+--------------------+-------+\n",
      "| RT                 |    47 |\n",
      "| the                |    27 |\n",
      "| to                 |    19 |\n",
      "| of                 |    15 |\n",
      "| at                 |    13 |\n",
      "| #ThrowbackThursday |    11 |\n",
      "| Thursday           |    11 |\n",
      "| this               |    10 |\n",
      "| and                |     9 |\n",
      "| #throwbackthursday |     9 |\n",
      "+--------------------+-------+\n",
      "+---------------+-------+\n",
      "| Screen Name   | Count |\n",
      "+---------------+-------+\n",
      "| bts_bighit    |     8 |\n",
      "| RCBTweets     |     3 |\n",
      "| GDSFoundation |     2 |\n",
      "| JeremyRenner  |     2 |\n",
      "| AnxietyPath   |     2 |\n",
      "| buddy_gizmo   |     2 |\n",
      "| AllanTheDj2   |     2 |\n",
      "| TheRugbyChill |     2 |\n",
      "| ThaLunatic_   |     2 |\n",
      "| yummy_travel  |     2 |\n",
      "+---------------+-------+\n",
      "+-----------------------+-------+\n",
      "| Hashtag               | Count |\n",
      "+-----------------------+-------+\n",
      "| ThrowbackThursday     |    21 |\n",
      "| throwbackthursday     |    10 |\n",
      "| tbt                   |     4 |\n",
      "| Throwback             |     3 |\n",
      "| WaybackWednesday      |     3 |\n",
      "| RCBvsSRH              |     3 |\n",
      "| TBT                   |     2 |\n",
      "| AcademyAward          |     2 |\n",
      "| BeBeautifulBeYourself |     2 |\n",
      "| Beach                 |     2 |\n",
      "+-----------------------+-------+\n"
     ]
    }
   ],
   "source": [
    "from prettytable import PrettyTable\n",
    "for label, data in (('Word', words),\n",
    "                    ('Screen Name', screen_names),\n",
    "                    ('Hashtag', hashtags)):\n",
    "    pt = PrettyTable(field_names=[label, 'Count'])\n",
    "    c = Counter(data)\n",
    "    [ pt.add_row(kv) for kv in c.most_common()[:10] ]\n",
    "    pt.align[label], pt.align['Count'] = 'l', 'r' # Set column alignment\n",
    "    print(pt) "
   ]
  },
  {
   "cell_type": "markdown",
   "metadata": {},
   "source": [
    "### 3.3 Calculating lexical diversity for tweets \n",
    "*(from Example 1-9 in Mining the Social Web)*:"
   ]
  },
  {
   "cell_type": "code",
   "execution_count": 16,
   "metadata": {},
   "outputs": [
    {
     "name": "stdout",
     "output_type": "stream",
     "text": [
      "0.5834990059642147\n",
      "0.7068965517241379\n",
      "0.5339805825242718\n",
      "18.62962962962963\n"
     ]
    }
   ],
   "source": [
    "# Define a function for computing lexical diversity\n",
    "def lexical_diversity(tokens):\n",
    "    return 1.0*len(set(tokens))/len(tokens)\n",
    "\n",
    "# Define a function for computing the average number of words per tweet\n",
    "def average_words(statuses):\n",
    "    total_words = sum([ len(s.split()) for s in statuses ])\n",
    "    return 1.0*total_words/len(statuses) \n",
    "\n",
    "# Let's use these functions:\n",
    "\n",
    "print(lexical_diversity(words))\n",
    "print(lexical_diversity(screen_names))\n",
    "print(lexical_diversity(hashtags))\n",
    "print(average_words(status_texts))"
   ]
  },
  {
   "cell_type": "markdown",
   "metadata": {},
   "source": [
    "### Task 5: What do the printed numbers indicate? Try to explain them.\n",
    "\n",
    "(*Double click this cell to write your answer*)\n",
    "\n",
    "After looking into tweeter's website, I acknowledged that \"words\" are splitted tweets, \"screen_names\" indicate the authors' identity who submitted the tweet, \"hashtags\" refer to the related topics that montioned by authors, while \"status_texts\" are contents of tweets.\n",
    "\n",
    "The first printed number means words that some words were used multiple times in the queried tweets.\n",
    "\n",
    "The second number shows that among the searched tweets, some of the authors tweets more than 1 messsage metioned the query hashtag.\n",
    "\n",
    "The third one indicates the rate of the same hashtag to be included in different users' tweets.\n",
    "\n",
    "The last printed number is the average length of the text of the tweets queried."
   ]
  },
  {
   "cell_type": "markdown",
   "metadata": {},
   "source": [
    "### 3.4 Finding the most popular retweets \n",
    "*(from Example 1-10 in Mining the Social Web):*"
   ]
  },
  {
   "cell_type": "code",
   "execution_count": 17,
   "metadata": {},
   "outputs": [
    {
     "name": "stdout",
     "output_type": "stream",
     "text": [
      "+--------+-------------+----------------------------------------------------+\n",
      "| Count  | Screen Name | Text                                               |\n",
      "+--------+-------------+----------------------------------------------------+\n",
      "| 103816 | bts_bighit  | RT @bts_bighit: Throwback Thursday Song by V       |\n",
      "|        |             | 🎧 https://t.co/E0ey2RJfmC                         |\n",
      "|        |             |                                                    |\n",
      "|        |             | 나는 리듬이 되고 노래가 되어 ARMY 위해 노래할게    |\n",
      "|        |             |                                                    |\n",
      "|        |             | #ThrowbackThursday #SkoolLuvAffair_S…              |\n",
      "| 98388  | bts_bighit  | RT @bts_bighit: Throwback Thursday Song by Jimin   |\n",
      "|        |             | 🎧 https://t.co/HutKJ83kIG                         |\n",
      "|        |             |                                                    |\n",
      "|        |             | 우리 다시 만나는 그날, 서로를 향해 활짝 웃어주자.  |\n",
      "|        |             |                                                    |\n",
      "|        |             | #ThrowbackThursday #SkoolLuvAffa…                  |\n",
      "| 87381  | bts_bighit  | RT @bts_bighit: Throwback Thursday Song by j-hope  |\n",
      "|        |             | 🎧 https://t.co/GSbmGXA23E                         |\n",
      "|        |             |                                                    |\n",
      "|        |             | 지금 ARMY여러분 맘은 온통 다~~💜                   |\n",
      "|        |             |                                                    |\n",
      "|        |             | #ThrowbackThursday #SkoolLuvAffair_Spec…           |\n",
      "| 46177  | bts_bighit  | RT @bts_bighit: Throwback Thursday Song by V       |\n",
      "|        |             | 🎧 https://t.co/E0ey2RJfmC                         |\n",
      "|        |             |                                                    |\n",
      "|        |             | I will be the rhythm and song to sing for ARMY     |\n",
      "|        |             |                                                    |\n",
      "|        |             | #ThrowbackThursday…                                |\n",
      "| 42550  | bts_bighit  | RT @bts_bighit: Throwback Thursday Song by Jimin   |\n",
      "|        |             | 🎧 https://t.co/HutKJ83kIG                         |\n",
      "|        |             |                                                    |\n",
      "|        |             | Let's smile wide for each other on the day we meet |\n",
      "|        |             | again.                                             |\n",
      "|        |             |                                                    |\n",
      "|        |             | #Thr…                                              |\n",
      "+--------+-------------+----------------------------------------------------+\n"
     ]
    }
   ],
   "source": [
    "retweet_cnt_un_txt = [(status['retweet_count'],\n",
    "    status['retweeted_status']['user']['screen_name'],\n",
    "    status['text'])# Store out a tuple of these three values\n",
    "    for status in statuses # for each status\n",
    "    if 'retweeted_status' in status # ... so long as the status meets this condition.\n",
    "    ]\n",
    "\n",
    "# Slice off the first 5 from the sorted results and display each item in the tuple\n",
    "pt = PrettyTable(field_names=['Count', 'Screen Name', 'Text'])\n",
    "[ pt.add_row(row) for row in sorted(retweet_cnt_un_txt, reverse=True)[:5] ]\n",
    "pt.max_width['Text'] = 50\n",
    "pt.align= 'l'\n",
    "print(pt)"
   ]
  },
  {
   "cell_type": "markdown",
   "metadata": {},
   "source": [
    "### 3.5 Looking up users who have retweeted a status \n",
    "*(from Example 1-11 in Mining the Social Web):*"
   ]
  },
  {
   "cell_type": "code",
   "execution_count": 19,
   "metadata": {},
   "outputs": [
    {
     "name": "stdout",
     "output_type": "stream",
     "text": [
      "Users who've retweeted the tweet:\n",
      "\n",
      "['mblandnc', 'Connormccoolman', 'DarnMilk', 'coy_holt', 'QueenHarleyBee', 'MARKOPOLO100', 'SHAK_08', 'saabooboo', 'notJacksonfish', 'MartinFaced', 'cestkisa', 'abrewer18', 'ChrEEstosK', 'McCormacSpices', 'MahomieTrent', 'ChrisMcElfresh1']\n"
     ]
    }
   ],
   "source": [
    "_retweets = twitter_api.statuses.retweets(id=1224140327688249349) # Get the original tweet id for a tweet from its retweeted_status node and insert it here\n",
    "print(\"Users who've retweeted the tweet:\\n\")\n",
    "print([r['user']['screen_name'] for r in _retweets])"
   ]
  },
  {
   "cell_type": "markdown",
   "metadata": {},
   "source": [
    "### Task 6 (advanced)\n",
    "\n",
    "If you have a Twitter account with a nontrivial number of tweets, request your historical tweet archive from your account settings and analyze it. \\\n",
    "The export of your account data includes files organized by time period in a convenient JSON format. See the README.txt file included in the downloaded archive for more details. \n",
    "\n",
    "\n",
    "\n",
    "What are the most common terms that appear in your tweets? \\\n",
    "Who do you retweet the most often? \\\n",
    "How many of your tweets are retweeted (and why do you think this is the case)?\n",
    "\n",
    "Sorry I didn't use Twitter before this course, so I cannot analyze my historical tweet archive."
   ]
  },
  {
   "cell_type": "markdown",
   "metadata": {},
   "source": [
    "### 3.6 Plotting frequencies of words \n",
    "*(from Example 1-12 in Mining the Social Web)*\n",
    "\n",
    "\n",
    "In the previous exercises we have been looking at the text from the tweets, but when you retrieved the results, you retrieved much more information about the tweets, such as the username of the person who shared this tweet with the world. \n",
    "\n",
    "\n",
    "You can use this information to find out who retweets whom in our examples. "
   ]
  },
  {
   "cell_type": "code",
   "execution_count": 20,
   "metadata": {},
   "outputs": [
    {
     "data": {
      "image/png": "[encoded data removed]",
      "text/plain": [
       "<Figure size 432x288 with 1 Axes>"
      ]
     },
     "metadata": {
      "needs_background": "light"
     },
     "output_type": "display_data"
    }
   ],
   "source": [
    "word_counts = sorted(Counter(words).values(), reverse=True)\n",
    "import matplotlib.pyplot as plt\n",
    "plt.loglog(word_counts)\n",
    "plt.ylabel(\"Freq\")\n",
    "plt.xlabel(\"Word Rank\")\n",
    "plt.show()"
   ]
  },
  {
   "cell_type": "markdown",
   "metadata": {},
   "source": [
    "### Generating histograms of words, screen names, and hashtags \n",
    "*(from Example 1-13 in Mining the Social Web):*"
   ]
  },
  {
   "cell_type": "code",
   "execution_count": 21,
   "metadata": {},
   "outputs": [
    {
     "data": {
      "image/png": "[encoded data removed]",
      "text/plain": [
       "<Figure size 432x288 with 1 Axes>"
      ]
     },
     "metadata": {
      "needs_background": "light"
     },
     "output_type": "display_data"
    },
    {
     "data": {
      "image/png": "[encoded data removed]",
      "text/plain": [
       "<Figure size 432x288 with 1 Axes>"
      ]
     },
     "metadata": {
      "needs_background": "light"
     },
     "output_type": "display_data"
    },
    {
     "data": {
      "image/png": "[encoded data removed]",
      "text/plain": [
       "<Figure size 432x288 with 1 Axes>"
      ]
     },
     "metadata": {
      "needs_background": "light"
     },
     "output_type": "display_data"
    },
    {
     "data": {
      "text/plain": [
       "<Figure size 432x288 with 0 Axes>"
      ]
     },
     "metadata": {},
     "output_type": "display_data"
    }
   ],
   "source": [
    "for label, data in (('Word', words),\n",
    "                    ('Screen Name', screen_names),\n",
    "                    ('Hashtag', hashtags)):\n",
    "    c = Counter(data)\n",
    "    plt.hist(c.values())\n",
    "    \n",
    "    plt.title(label)\n",
    "    plt.ylabel(\"Number of items in bin\")\n",
    "    plt.xlabel(\"Bins (number of times an item appeared)\")\n",
    "    \n",
    "    plt.figure()"
   ]
  },
  {
   "cell_type": "code",
   "execution_count": 22,
   "metadata": {},
   "outputs": [
    {
     "name": "stdout",
     "output_type": "stream",
     "text": [
      "Defaulting to user installation because normal site-packages is not writeable\n",
      "Collecting seaborn\n",
      "  Using cached seaborn-0.11.2-py3-none-any.whl (292 kB)\n",
      "Requirement already satisfied: numpy>=1.15 in /Users/chen/Library/Python/3.8/lib/python/site-packages (from seaborn) (1.21.3)\n",
      "Collecting scipy>=1.0\n",
      "  Using cached scipy-1.7.2.tar.gz (36.1 MB)\n",
      "^C\n",
      "\u001b[31mERROR: Operation cancelled by user\u001b[0m\n"
     ]
    },
    {
     "ename": "ModuleNotFoundError",
     "evalue": "No module named 'seaborn'",
     "output_type": "error",
     "traceback": [
      "\u001b[0;31m---------------------------------------------------------------------------\u001b[0m",
      "\u001b[0;31mModuleNotFoundError\u001b[0m                       Traceback (most recent call last)",
      "\u001b[0;32m/var/folders/jr/mt23r28d2p9bw8829wjp8s380000gn/T/ipykernel_99108/2994028704.py\u001b[0m in \u001b[0;36m<module>\u001b[0;34m\u001b[0m\n\u001b[1;32m      4\u001b[0m \u001b[0;31m# extra: seaborn plots with a one-liner.\u001b[0m\u001b[0;34m\u001b[0m\u001b[0;34m\u001b[0m\u001b[0;34m\u001b[0m\u001b[0m\n\u001b[1;32m      5\u001b[0m \u001b[0mget_ipython\u001b[0m\u001b[0;34m(\u001b[0m\u001b[0;34m)\u001b[0m\u001b[0;34m.\u001b[0m\u001b[0msystem\u001b[0m\u001b[0;34m(\u001b[0m\u001b[0;34m'pip install seaborn'\u001b[0m\u001b[0;34m)\u001b[0m\u001b[0;34m\u001b[0m\u001b[0;34m\u001b[0m\u001b[0m\n\u001b[0;32m----> 6\u001b[0;31m \u001b[0;32mimport\u001b[0m \u001b[0mseaborn\u001b[0m \u001b[0;32mas\u001b[0m \u001b[0msns\u001b[0m\u001b[0;34m\u001b[0m\u001b[0;34m\u001b[0m\u001b[0m\n\u001b[0m\u001b[1;32m      7\u001b[0m \u001b[0;34m\u001b[0m\u001b[0m\n\u001b[1;32m      8\u001b[0m \u001b[0msns\u001b[0m\u001b[0;34m.\u001b[0m\u001b[0mdistplot\u001b[0m\u001b[0;34m(\u001b[0m\u001b[0mword_counts\u001b[0m\u001b[0;34m,\u001b[0m \u001b[0mkde\u001b[0m\u001b[0;34m=\u001b[0m\u001b[0;32mFalse\u001b[0m\u001b[0;34m,\u001b[0m \u001b[0mrug\u001b[0m\u001b[0;34m=\u001b[0m\u001b[0;32mTrue\u001b[0m\u001b[0;34m)\u001b[0m\u001b[0;34m\u001b[0m\u001b[0;34m\u001b[0m\u001b[0m\n",
      "\u001b[0;31mModuleNotFoundError\u001b[0m: No module named 'seaborn'"
     ]
    }
   ],
   "source": [
    "\n",
    "#    I have some trouble with installing the seaborn, so I cannot run this cell,\n",
    "#    and I'm looking for some alternatives.\n",
    "\n",
    "# extra: seaborn plots with a one-liner.\n",
    "!pip install seaborn\n",
    "import seaborn as sns\n",
    "\n",
    "sns.distplot(word_counts, kde=False, rug=True)\n"
   ]
  },
  {
   "cell_type": "code",
   "execution_count": null,
   "metadata": {},
   "outputs": [],
   "source": []
  }
 ],
 "metadata": {
  "kernelspec": {
   "display_name": "Python 3 (ipykernel)",
   "language": "python",
   "name": "python3"
  },
  "language_info": {
   "codemirror_mode": {
    "name": "ipython",
    "version": 3
   },
   "file_extension": ".py",
   "mimetype": "text/x-python",
   "name": "python",
   "nbconvert_exporter": "python",
   "pygments_lexer": "ipython3",
   "version": "3.8.9"
  }
 },
 "nbformat": 4,
 "nbformat_minor": 2
}
